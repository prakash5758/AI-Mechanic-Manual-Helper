{
  "cells": [
    {
      "cell_type": "markdown",
      "metadata": {
        "id": "u2z4jkgSh-TB"
      },
      "source": [
        "# Installing the relevant libraries"
      ]
    },
    {
      "cell_type": "code",
      "execution_count": null,
      "metadata": {
        "id": "CqCCCSGwUrya"
      },
      "outputs": [],
      "source": [
        "pip install langchain pypdfium2 tqdm seaborn spacy nltk mlflow  accelerate bitsandbytes xformers einops pyngrok evaluate rouge_score"
      ]
    },
    {
      "cell_type": "code",
      "execution_count": null,
      "metadata": {
        "id": "c52pQZPYu-Cp"
      },
      "outputs": [],
      "source": [
        "pip install transformers==4.30"
      ]
    },
    {
      "cell_type": "code",
      "execution_count": null,
      "metadata": {
        "id": "onyx2QdOQd1t"
      },
      "outputs": [],
      "source": [
        "!pip install -qU pinecone-client==2.2.4"
      ]
    },
    {
      "cell_type": "code",
      "execution_count": null,
      "metadata": {
        "id": "ZNFLbRZ6RMPC"
      },
      "outputs": [],
      "source": [
        "pip install -U sentence-transformers"
      ]
    },
    {
      "cell_type": "code",
      "source": [],
      "metadata": {
        "id": "Fwi8ycPWT27u"
      },
      "execution_count": null,
      "outputs": []
    },
    {
      "cell_type": "markdown",
      "metadata": {
        "id": "gyU5H6C6iE_o"
      },
      "source": [
        "# Loading the relevant libraries"
      ]
    },
    {
      "cell_type": "code",
      "execution_count": null,
      "metadata": {
        "colab": {
          "base_uri": "https://localhost:8080/"
        },
        "id": "RHhxd5JMU1s7",
        "outputId": "22d3e0c9-0f98-4e03-af61-0f724b77ce05"
      },
      "outputs": [
        {
          "name": "stderr",
          "output_type": "stream",
          "text": [
            "[nltk_data] Downloading package punkt to /root/nltk_data...\n",
            "[nltk_data]   Unzipping tokenizers/punkt.zip.\n"
          ]
        }
      ],
      "source": [
        "#Importing the relevant libraries\n",
        "\n",
        "# Document Loaders\n",
        "from langchain.document_loaders.pdf import PyPDFium2Loader\n",
        "from langchain.document_loaders import DirectoryLoader\n",
        "\n",
        "# Document Splitter\n",
        "from langchain.text_splitter import RecursiveCharacterTextSplitter,SpacyTextSplitter,NLTKTextSplitter\n",
        "\n",
        "# tqdm for tracking time\n",
        "from tqdm import tqdm\n",
        "import pandas as pd\n",
        "import numpy as np\n",
        "\n",
        "# Plotting\n",
        "import matplotlib.pyplot as plt\n",
        "import seaborn as sns\n",
        "\n",
        "# Hashing\n",
        "import hashlib\n",
        "\n",
        "# Torch and transformers\n",
        "import torch\n",
        "import transformers\n",
        "from transformers import AutoTokenizer, AutoModelForCausalLM, pipeline,AutoModelForSeq2SeqLM\n",
        "\n",
        "# Models\n",
        "from langchain.llms import HuggingFacePipeline\n",
        "from langchain.embeddings import HuggingFaceInstructEmbeddings,SentenceTransformerEmbeddings\n",
        "\n",
        "# Vector Store\n",
        "from langchain.vectorstores import Pinecone\n",
        "import pinecone\n",
        "\n",
        "# Prompts\n",
        "from langchain import PromptTemplate, LLMChain\n",
        "\n",
        "# Retrievers\n",
        "from langchain.chains import RetrievalQA\n",
        "\n",
        "# Importing time and textwrap\n",
        "import textwrap\n",
        "import time\n",
        "from datetime import datetime\n",
        "\n",
        "# Mounting and extracting pdfs\n",
        "import zipfile\n",
        "from google.colab import drive\n",
        "import os\n",
        "\n",
        "#nltk\n",
        "import nltk\n",
        "nltk.download('punkt')\n",
        "\n",
        "import locale\n",
        "locale.getpreferredencoding = lambda: \"UTF-8\"\n",
        "\n",
        "#mlflow tracking\n",
        "import mlflow\n",
        "import nltk.translate.bleu_score as bleu\n",
        "import re\n",
        "\n",
        "#evaluation\n",
        "import evaluate\n",
        "\n",
        "#semantic similarity\n",
        "from sentence_transformers import SentenceTransformer, util\n",
        "\n",
        "#torch and gc\n",
        "import gc\n",
        "\n",
        "from pyngrok import ngrok"
      ]
    },
    {
      "cell_type": "code",
      "execution_count": null,
      "metadata": {
        "id": "lHZP_IZ9qNeo"
      },
      "outputs": [],
      "source": [
        "# Displaying the entire column in a dataframe\n",
        "pd.set_option('display.max_colwidth', None)"
      ]
    },
    {
      "cell_type": "markdown",
      "metadata": {
        "id": "VdD6xZtdiI8U"
      },
      "source": [
        "# Loading the pdf documents"
      ]
    },
    {
      "cell_type": "code",
      "execution_count": null,
      "metadata": {
        "id": "3s-EXyNPHQxJ"
      },
      "outputs": [],
      "source": [
        "#Function for loading pdfs\n",
        "\n",
        "def pdf_load_extract(pdf_loader,pdf_path,progress_display=True,multi_thread=False):\n",
        "\n",
        "  drive.mount('/content/drive/')\n",
        "\n",
        "  loader = DirectoryLoader(pdf_path,\n",
        "                         glob=\"**/*.pdf\",\n",
        "                         use_multithreading=multi_thread,\n",
        "                         show_progress=progress_display,\n",
        "                         loader_cls=pdf_loader)\n",
        "  docs = loader.load()\n",
        "\n",
        "  return docs"
      ]
    },
    {
      "cell_type": "code",
      "execution_count": null,
      "metadata": {
        "colab": {
          "base_uri": "https://localhost:8080/"
        },
        "id": "SzreIk2JKPG_",
        "outputId": "1093d44a-7ab7-4dba-9284-1af7b8409b30"
      },
      "outputs": [
        {
          "name": "stdout",
          "output_type": "stream",
          "text": [
            "Mounted at /content/drive/\n"
          ]
        },
        {
          "name": "stderr",
          "output_type": "stream",
          "text": [
            "  0%|          | 0/87 [00:00<?, ?it/s]/usr/local/lib/python3.10/dist-packages/pypdfium2/_helpers/textpage.py:81: UserWarning: get_text_range() call with default params will be implicitly redirected to get_text_bounded()\n",
            "  warnings.warn(\"get_text_range() call with default params will be implicitly redirected to get_text_bounded()\")\n",
            "100%|██████████| 87/87 [03:03<00:00,  2.10s/it]"
          ]
        },
        {
          "name": "stdout",
          "output_type": "stream",
          "text": [
            "Time elapsed (hh:mm:ss.ms) 0:03:38.813909\n"
          ]
        },
        {
          "name": "stderr",
          "output_type": "stream",
          "text": [
            "\n"
          ]
        }
      ],
      "source": [
        "#Loading pdf documents\n",
        "path = '/content/drive/My Drive/Gen AI Case Study/PDF Documents/'\n",
        "loader = PyPDFium2Loader\n",
        "\n",
        "doc_start_time = datetime.now()\n",
        "pdf_documents = pdf_load_extract(loader,path)\n",
        "doc_end_time = datetime.now()\n",
        "\n",
        "print('Time elapsed (hh:mm:ss.ms) {}'.format(doc_end_time - doc_start_time))"
      ]
    },
    {
      "cell_type": "markdown",
      "metadata": {
        "id": "MKcEnH1SiRf7"
      },
      "source": [
        "# Extracting Additonal Metadata (In addition to the page number)\n",
        "\n",
        "\n",
        "*   Filename\n",
        "*   Set\n",
        "*   Category\n",
        "\n"
      ]
    },
    {
      "cell_type": "code",
      "execution_count": null,
      "metadata": {
        "id": "PSGcu_6TMgfl"
      },
      "outputs": [],
      "source": [
        "# Function for extracting metadata\n",
        "def metadata_extraction(docs):\n",
        "\n",
        "  metadata_list = []\n",
        "\n",
        "  for i in range(len(docs)):\n",
        "    #Adding the filename\n",
        "    docs[i].metadata['filename'] = docs[i].metadata['source'].split(\"/\")[-1]\n",
        "    #Adding the Set\n",
        "    docs[i].metadata['set'] = docs[i].metadata['source'].split(\"/\")[-2]\n",
        "    #Adding the category for set 1\n",
        "    if docs[i].metadata['set'] == 'Set1':\n",
        "      docs[i].metadata['category'] = docs[i].metadata['filename'].split(\"_\")[2]\n",
        "    else:\n",
        "      docs[i].metadata['category'] = 'NA'\n",
        "    #Adding the charcter count\n",
        "    docs[i].metadata['charcount'] = len(docs[i].page_content)\n",
        "    metadata_list.append(docs[i].metadata)\n",
        "\n",
        "  return metadata_list\n",
        "\n",
        "\n"
      ]
    },
    {
      "cell_type": "code",
      "execution_count": null,
      "metadata": {
        "colab": {
          "base_uri": "https://localhost:8080/"
        },
        "id": "ivMtCiBVNA-w",
        "outputId": "0ed35a0f-03e7-4b25-8923-0a1a2d56a467"
      },
      "outputs": [
        {
          "name": "stdout",
          "output_type": "stream",
          "text": [
            "(2547, 6)\n"
          ]
        }
      ],
      "source": [
        "# Extracting metadata as a dataframe\n",
        "docs = pdf_documents\n",
        "metadata_df = pd.DataFrame(metadata_extraction(docs))\n",
        "print(metadata_df.shape)"
      ]
    },
    {
      "cell_type": "markdown",
      "metadata": {
        "id": "Q60Ih26eicje"
      },
      "source": [
        "# EDA on the Pdf Documents\n",
        "\n",
        "* Average number of pages\n",
        "* Missing documents or documents that could not be parsed\n",
        "* Page count distributions\n",
        "* Character count distributions\n",
        "* Token count distributions"
      ]
    },
    {
      "cell_type": "code",
      "execution_count": null,
      "metadata": {
        "colab": {
          "base_uri": "https://localhost:8080/",
          "height": 143
        },
        "id": "tSW-vM9aT9nW",
        "outputId": "207e4cbe-1fe3-4e65-ec37-c0a05343c2ce"
      },
      "outputs": [
        {
          "data": {
            "application/vnd.google.colaboratory.intrinsic+json": {
              "summary": "{\n  \"name\": \"total_pages_by_file\",\n  \"rows\": 2,\n  \"fields\": [\n    {\n      \"column\": \"set\",\n      \"properties\": {\n        \"dtype\": \"string\",\n        \"num_unique_values\": 2,\n        \"samples\": [\n          \"Set2\",\n          \"Set1\"\n        ],\n        \"semantic_type\": \"\",\n        \"description\": \"\"\n      }\n    },\n    {\n      \"column\": \"page\",\n      \"properties\": {\n        \"dtype\": \"number\",\n        \"std\": 22.05370495550411,\n        \"min\": 11.35135135135135,\n        \"max\": 42.54,\n        \"num_unique_values\": 2,\n        \"samples\": [\n          42.54,\n          11.35135135135135\n        ],\n        \"semantic_type\": \"\",\n        \"description\": \"\"\n      }\n    }\n  ]\n}",
              "type": "dataframe"
            },
            "text/html": [
              "\n",
              "  <div id=\"df-345e0303-8563-47bd-a6ea-f1bedc0fd065\" class=\"colab-df-container\">\n",
              "    <div>\n",
              "<style scoped>\n",
              "    .dataframe tbody tr th:only-of-type {\n",
              "        vertical-align: middle;\n",
              "    }\n",
              "\n",
              "    .dataframe tbody tr th {\n",
              "        vertical-align: top;\n",
              "    }\n",
              "\n",
              "    .dataframe thead th {\n",
              "        text-align: right;\n",
              "    }\n",
              "</style>\n",
              "<table border=\"1\" class=\"dataframe\">\n",
              "  <thead>\n",
              "    <tr style=\"text-align: right;\">\n",
              "      <th></th>\n",
              "      <th>page</th>\n",
              "    </tr>\n",
              "    <tr>\n",
              "      <th>set</th>\n",
              "      <th></th>\n",
              "    </tr>\n",
              "  </thead>\n",
              "  <tbody>\n",
              "    <tr>\n",
              "      <th>Set1</th>\n",
              "      <td>11.351351</td>\n",
              "    </tr>\n",
              "    <tr>\n",
              "      <th>Set2</th>\n",
              "      <td>42.540000</td>\n",
              "    </tr>\n",
              "  </tbody>\n",
              "</table>\n",
              "</div>\n",
              "    <div class=\"colab-df-buttons\">\n",
              "\n",
              "  <div class=\"colab-df-container\">\n",
              "    <button class=\"colab-df-convert\" onclick=\"convertToInteractive('df-345e0303-8563-47bd-a6ea-f1bedc0fd065')\"\n",
              "            title=\"Convert this dataframe to an interactive table.\"\n",
              "            style=\"display:none;\">\n",
              "\n",
              "  <svg xmlns=\"http://www.w3.org/2000/svg\" height=\"24px\" viewBox=\"0 -960 960 960\">\n",
              "    <path d=\"M120-120v-720h720v720H120Zm60-500h600v-160H180v160Zm220 220h160v-160H400v160Zm0 220h160v-160H400v160ZM180-400h160v-160H180v160Zm440 0h160v-160H620v160ZM180-180h160v-160H180v160Zm440 0h160v-160H620v160Z\"/>\n",
              "  </svg>\n",
              "    </button>\n",
              "\n",
              "  <style>\n",
              "    .colab-df-container {\n",
              "      display:flex;\n",
              "      gap: 12px;\n",
              "    }\n",
              "\n",
              "    .colab-df-convert {\n",
              "      background-color: #E8F0FE;\n",
              "      border: none;\n",
              "      border-radius: 50%;\n",
              "      cursor: pointer;\n",
              "      display: none;\n",
              "      fill: #1967D2;\n",
              "      height: 32px;\n",
              "      padding: 0 0 0 0;\n",
              "      width: 32px;\n",
              "    }\n",
              "\n",
              "    .colab-df-convert:hover {\n",
              "      background-color: #E2EBFA;\n",
              "      box-shadow: 0px 1px 2px rgba(60, 64, 67, 0.3), 0px 1px 3px 1px rgba(60, 64, 67, 0.15);\n",
              "      fill: #174EA6;\n",
              "    }\n",
              "\n",
              "    .colab-df-buttons div {\n",
              "      margin-bottom: 4px;\n",
              "    }\n",
              "\n",
              "    [theme=dark] .colab-df-convert {\n",
              "      background-color: #3B4455;\n",
              "      fill: #D2E3FC;\n",
              "    }\n",
              "\n",
              "    [theme=dark] .colab-df-convert:hover {\n",
              "      background-color: #434B5C;\n",
              "      box-shadow: 0px 1px 3px 1px rgba(0, 0, 0, 0.15);\n",
              "      filter: drop-shadow(0px 1px 2px rgba(0, 0, 0, 0.3));\n",
              "      fill: #FFFFFF;\n",
              "    }\n",
              "  </style>\n",
              "\n",
              "    <script>\n",
              "      const buttonEl =\n",
              "        document.querySelector('#df-345e0303-8563-47bd-a6ea-f1bedc0fd065 button.colab-df-convert');\n",
              "      buttonEl.style.display =\n",
              "        google.colab.kernel.accessAllowed ? 'block' : 'none';\n",
              "\n",
              "      async function convertToInteractive(key) {\n",
              "        const element = document.querySelector('#df-345e0303-8563-47bd-a6ea-f1bedc0fd065');\n",
              "        const dataTable =\n",
              "          await google.colab.kernel.invokeFunction('convertToInteractive',\n",
              "                                                    [key], {});\n",
              "        if (!dataTable) return;\n",
              "\n",
              "        const docLinkHtml = 'Like what you see? Visit the ' +\n",
              "          '<a target=\"_blank\" href=https://colab.research.google.com/notebooks/data_table.ipynb>data table notebook</a>'\n",
              "          + ' to learn more about interactive tables.';\n",
              "        element.innerHTML = '';\n",
              "        dataTable['output_type'] = 'display_data';\n",
              "        await google.colab.output.renderOutput(dataTable, element);\n",
              "        const docLink = document.createElement('div');\n",
              "        docLink.innerHTML = docLinkHtml;\n",
              "        element.appendChild(docLink);\n",
              "      }\n",
              "    </script>\n",
              "  </div>\n",
              "\n",
              "\n",
              "<div id=\"df-eea411ee-d556-45f6-8dd5-09cfe2bbc524\">\n",
              "  <button class=\"colab-df-quickchart\" onclick=\"quickchart('df-eea411ee-d556-45f6-8dd5-09cfe2bbc524')\"\n",
              "            title=\"Suggest charts\"\n",
              "            style=\"display:none;\">\n",
              "\n",
              "<svg xmlns=\"http://www.w3.org/2000/svg\" height=\"24px\"viewBox=\"0 0 24 24\"\n",
              "     width=\"24px\">\n",
              "    <g>\n",
              "        <path d=\"M19 3H5c-1.1 0-2 .9-2 2v14c0 1.1.9 2 2 2h14c1.1 0 2-.9 2-2V5c0-1.1-.9-2-2-2zM9 17H7v-7h2v7zm4 0h-2V7h2v10zm4 0h-2v-4h2v4z\"/>\n",
              "    </g>\n",
              "</svg>\n",
              "  </button>\n",
              "\n",
              "<style>\n",
              "  .colab-df-quickchart {\n",
              "      --bg-color: #E8F0FE;\n",
              "      --fill-color: #1967D2;\n",
              "      --hover-bg-color: #E2EBFA;\n",
              "      --hover-fill-color: #174EA6;\n",
              "      --disabled-fill-color: #AAA;\n",
              "      --disabled-bg-color: #DDD;\n",
              "  }\n",
              "\n",
              "  [theme=dark] .colab-df-quickchart {\n",
              "      --bg-color: #3B4455;\n",
              "      --fill-color: #D2E3FC;\n",
              "      --hover-bg-color: #434B5C;\n",
              "      --hover-fill-color: #FFFFFF;\n",
              "      --disabled-bg-color: #3B4455;\n",
              "      --disabled-fill-color: #666;\n",
              "  }\n",
              "\n",
              "  .colab-df-quickchart {\n",
              "    background-color: var(--bg-color);\n",
              "    border: none;\n",
              "    border-radius: 50%;\n",
              "    cursor: pointer;\n",
              "    display: none;\n",
              "    fill: var(--fill-color);\n",
              "    height: 32px;\n",
              "    padding: 0;\n",
              "    width: 32px;\n",
              "  }\n",
              "\n",
              "  .colab-df-quickchart:hover {\n",
              "    background-color: var(--hover-bg-color);\n",
              "    box-shadow: 0 1px 2px rgba(60, 64, 67, 0.3), 0 1px 3px 1px rgba(60, 64, 67, 0.15);\n",
              "    fill: var(--button-hover-fill-color);\n",
              "  }\n",
              "\n",
              "  .colab-df-quickchart-complete:disabled,\n",
              "  .colab-df-quickchart-complete:disabled:hover {\n",
              "    background-color: var(--disabled-bg-color);\n",
              "    fill: var(--disabled-fill-color);\n",
              "    box-shadow: none;\n",
              "  }\n",
              "\n",
              "  .colab-df-spinner {\n",
              "    border: 2px solid var(--fill-color);\n",
              "    border-color: transparent;\n",
              "    border-bottom-color: var(--fill-color);\n",
              "    animation:\n",
              "      spin 1s steps(1) infinite;\n",
              "  }\n",
              "\n",
              "  @keyframes spin {\n",
              "    0% {\n",
              "      border-color: transparent;\n",
              "      border-bottom-color: var(--fill-color);\n",
              "      border-left-color: var(--fill-color);\n",
              "    }\n",
              "    20% {\n",
              "      border-color: transparent;\n",
              "      border-left-color: var(--fill-color);\n",
              "      border-top-color: var(--fill-color);\n",
              "    }\n",
              "    30% {\n",
              "      border-color: transparent;\n",
              "      border-left-color: var(--fill-color);\n",
              "      border-top-color: var(--fill-color);\n",
              "      border-right-color: var(--fill-color);\n",
              "    }\n",
              "    40% {\n",
              "      border-color: transparent;\n",
              "      border-right-color: var(--fill-color);\n",
              "      border-top-color: var(--fill-color);\n",
              "    }\n",
              "    60% {\n",
              "      border-color: transparent;\n",
              "      border-right-color: var(--fill-color);\n",
              "    }\n",
              "    80% {\n",
              "      border-color: transparent;\n",
              "      border-right-color: var(--fill-color);\n",
              "      border-bottom-color: var(--fill-color);\n",
              "    }\n",
              "    90% {\n",
              "      border-color: transparent;\n",
              "      border-bottom-color: var(--fill-color);\n",
              "    }\n",
              "  }\n",
              "</style>\n",
              "\n",
              "  <script>\n",
              "    async function quickchart(key) {\n",
              "      const quickchartButtonEl =\n",
              "        document.querySelector('#' + key + ' button');\n",
              "      quickchartButtonEl.disabled = true;  // To prevent multiple clicks.\n",
              "      quickchartButtonEl.classList.add('colab-df-spinner');\n",
              "      try {\n",
              "        const charts = await google.colab.kernel.invokeFunction(\n",
              "            'suggestCharts', [key], {});\n",
              "      } catch (error) {\n",
              "        console.error('Error during call to suggestCharts:', error);\n",
              "      }\n",
              "      quickchartButtonEl.classList.remove('colab-df-spinner');\n",
              "      quickchartButtonEl.classList.add('colab-df-quickchart-complete');\n",
              "    }\n",
              "    (() => {\n",
              "      let quickchartButtonEl =\n",
              "        document.querySelector('#df-eea411ee-d556-45f6-8dd5-09cfe2bbc524 button');\n",
              "      quickchartButtonEl.style.display =\n",
              "        google.colab.kernel.accessAllowed ? 'block' : 'none';\n",
              "    })();\n",
              "  </script>\n",
              "</div>\n",
              "    </div>\n",
              "  </div>\n"
            ],
            "text/plain": [
              "           page\n",
              "set            \n",
              "Set1  11.351351\n",
              "Set2  42.540000"
            ]
          },
          "execution_count": 11,
          "metadata": {},
          "output_type": "execute_result"
        }
      ],
      "source": [
        "#avg pages across set 1 & set 2 files (87 pdfs)\n",
        "total_pages_by_file = metadata_df.groupby([\"set\",\"filename\"]).agg({\"page\":\"count\"}).reset_index()\n",
        "# total_pages_by_file[\"page\"].sum()/total_pages_by_file.shape[0]\n",
        "total_pages_by_file.groupby([\"set\"]).agg({'page':\"mean\"})"
      ]
    },
    {
      "cell_type": "code",
      "execution_count": null,
      "metadata": {
        "colab": {
          "base_uri": "https://localhost:8080/"
        },
        "id": "q0IMOVypVOg4",
        "outputId": "8d6d6b7a-4e00-4a94-c374-06f1e91b0b07"
      },
      "outputs": [
        {
          "data": {
            "text/plain": [
              "set()"
            ]
          },
          "execution_count": 12,
          "metadata": {},
          "output_type": "execute_result"
        }
      ],
      "source": [
        "# Any documents missing while reading?\n",
        "set_a = set(os.listdir(path+ 'Set1/') + os.listdir(path+ 'Set2/'))\n",
        "set_b = set(total_pages_by_file[\"filename\"].tolist())\n",
        "set_a - set_b"
      ]
    },
    {
      "cell_type": "code",
      "execution_count": null,
      "metadata": {
        "colab": {
          "base_uri": "https://localhost:8080/",
          "height": 409
        },
        "id": "MV1t_AIvCAVT",
        "outputId": "760e6e1e-5b13-46d8-bf74-f207a7669745"
      },
      "outputs": [
        {
          "data": {
            "image/png": "[encoded data removed]",
            "text/plain": [
              "<Figure size 2000x500 with 1 Axes>"
            ]
          },
          "metadata": {},
          "output_type": "display_data"
        }
      ],
      "source": [
        "#Page counts across set 1 and set 2 files\n",
        "plt.figure(figsize=(20,5))\n",
        "plt.xticks(rotation=0)\n",
        "ax = sns.barplot(total_pages_by_file,\n",
        "            x=total_pages_by_file.index,\n",
        "            y=total_pages_by_file[\"page\"],\n",
        "            hue=total_pages_by_file[\"set\"])\n"
      ]
    },
    {
      "cell_type": "code",
      "execution_count": null,
      "metadata": {
        "id": "DblFB4rZcdlK"
      },
      "outputs": [],
      "source": [
        "#Distribution of files by #pages\n",
        "\n",
        "def annotate_bars(ax=None, fmt='.2f', **kwargs):\n",
        "    ax = plt.gca() if ax is None else ax\n",
        "    for p in ax.patches:\n",
        "         ax.annotate('{{:{:s}}}'.format(fmt).format(p.get_height()), (p.get_x() + p.get_width() / 2., p.get_height()),\n",
        "                     xytext=(0, 5),textcoords='offset points',\n",
        "                     ha='center', va='center', **kwargs)\n",
        "\n",
        "\n",
        "def dist_plot(annotate_bars,data,groupby_col,agg_col):\n",
        "\n",
        "    g = sns.displot(data, x=agg_col, hue='set',kde=True)\n",
        "    g.map(annotate_bars, fmt='.2g', fontsize=8, color='k')\n",
        "    g.fig.set_size_inches(7,4)\n",
        "\n",
        "\n",
        "    x1,x2 = data.groupby(groupby_col).agg({agg_col:\"mean\"}).values\n",
        "\n",
        "    g.axes[0, 0].axvline(x1, color='blue', lw=2)\n",
        "    g.axes[0, 0].axvline(x2, color='orange', lw=2)\n",
        "\n",
        "    g.axes[0, 0].text(x1,20,x1,color='blue')\n",
        "    g.axes[0, 0].text(x2,20,x2,color='orange')"
      ]
    },
    {
      "cell_type": "code",
      "execution_count": null,
      "metadata": {
        "colab": {
          "base_uri": "https://localhost:8080/",
          "height": 421
        },
        "id": "JIyiXbjRMPAz",
        "outputId": "067f905a-c0db-43ca-efed-956ac4c732a7"
      },
      "outputs": [
        {
          "data": {
            "image/png": "[encoded data removed]",
            "text/plain": [
              "<Figure size 700x400 with 1 Axes>"
            ]
          },
          "metadata": {},
          "output_type": "display_data"
        }
      ],
      "source": [
        "dist_plot(annotate_bars,total_pages_by_file,\"set\",\"page\")"
      ]
    },
    {
      "cell_type": "code",
      "execution_count": null,
      "metadata": {
        "id": "yPcGztMbjkLk"
      },
      "outputs": [],
      "source": [
        "#Average Characters and tokens by file df\n",
        "char_by_file = metadata_df.groupby([\"set\",\"filename\"]).agg({\"charcount\":\"sum\",\"page\":\"count\"}).reset_index()"
      ]
    },
    {
      "cell_type": "code",
      "execution_count": null,
      "metadata": {
        "colab": {
          "base_uri": "https://localhost:8080/"
        },
        "id": "KKnYHX1W-mon",
        "outputId": "d2fb11df-58fe-4299-ab83-94c538196784"
      },
      "outputs": [
        {
          "name": "stdout",
          "output_type": "stream",
          "text": [
            "     set                                             filename  charcount  page\n",
            "0   Set1      Black_Decker_AirCompresssor_ID_4700_Scanned.pdf          2     2\n",
            "1   Set1  Black_Decker_AirCompresssor_ID_WX-RP810_Scanned.pdf        456     8\n",
            "28  Set1           Black_Decker_LawnMower_ID_8000_Scanned.pdf          9     9\n",
            "30  Set1              Black_Decker_LawnMower_Nil2_Scanned.pdf          8     8\n",
            "32  Set1                Black_Decker_Trimmer_Nil1_Scanned.pdf          8     8\n",
            "33  Set1                Black_Decker_Trimmer_Nil2_Scanned.pdf         12    12\n",
            "34  Set1          Black_Decker_VacuumCleaner_Nil1_Scanned.pdf          2     2\n",
            "35  Set1          Black_Decker_VacuumCleaner_Nil4_Scanned.pdf          2     2\n"
          ]
        }
      ],
      "source": [
        "#Files that could not be parsed\n",
        "print(char_by_file[char_by_file[\"charcount\"]<1000])\n",
        "files_not_parsed = char_by_file[char_by_file[\"charcount\"]<1000][\"filename\"].tolist()"
      ]
    },
    {
      "cell_type": "code",
      "execution_count": null,
      "metadata": {
        "colab": {
          "base_uri": "https://localhost:8080/",
          "height": 279
        },
        "id": "Y1OJgVObBbkx",
        "outputId": "4ca7c24d-d935-4008-c227-4dc3b740de94"
      },
      "outputs": [
        {
          "name": "stderr",
          "output_type": "stream",
          "text": [
            "<ipython-input-18-2f84897d882f>:3: SettingWithCopyWarning: \n",
            "A value is trying to be set on a copy of a slice from a DataFrame.\n",
            "Try using .loc[row_indexer,col_indexer] = value instead\n",
            "\n",
            "See the caveats in the documentation: https://pandas.pydata.org/pandas-docs/stable/user_guide/indexing.html#returning-a-view-versus-a-copy\n",
            "  char_by_file_reduced[\"tokencount\"] = char_by_file_reduced[\"charcount\"]/4\n"
          ]
        },
        {
          "data": {
            "application/vnd.google.colaboratory.intrinsic+json": {
              "summary": "{\n  \"name\": \"char_by_file_reduced\",\n  \"rows\": 2,\n  \"fields\": [\n    {\n      \"column\": [\n        \"set\",\n        \"\"\n      ],\n      \"properties\": {\n        \"dtype\": \"string\",\n        \"num_unique_values\": 2,\n        \"samples\": [\n          \"Set2\",\n          \"Set1\"\n        ],\n        \"semantic_type\": \"\",\n        \"description\": \"\"\n      }\n    },\n    {\n      \"column\": [\n        \"charcount\",\n        \"mean\"\n      ],\n      \"properties\": {\n        \"dtype\": \"number\",\n        \"std\": 104971.64605615412,\n        \"min\": 36607.03448275862,\n        \"max\": 185059.36,\n        \"num_unique_values\": 2,\n        \"samples\": [\n          185059.36,\n          36607.03448275862\n        ],\n        \"semantic_type\": \"\",\n        \"description\": \"\"\n      }\n    },\n    {\n      \"column\": [\n        \"charcount\",\n        \"min\"\n      ],\n      \"properties\": {\n        \"dtype\": \"number\",\n        \"std\": 4113,\n        \"min\": 1899,\n        \"max\": 7717,\n        \"num_unique_values\": 2,\n        \"samples\": [\n          1899,\n          7717\n        ],\n        \"semantic_type\": \"\",\n        \"description\": \"\"\n      }\n    },\n    {\n      \"column\": [\n        \"charcount\",\n        \"max\"\n      ],\n      \"properties\": {\n        \"dtype\": \"number\",\n        \"std\": 176711,\n        \"min\": 120328,\n        \"max\": 370236,\n        \"num_unique_values\": 2,\n        \"samples\": [\n          370236,\n          120328\n        ],\n        \"semantic_type\": \"\",\n        \"description\": \"\"\n      }\n    },\n    {\n      \"column\": [\n        \"page\",\n        \"mean\"\n      ],\n      \"properties\": {\n        \"dtype\": \"number\",\n        \"std\": 21.08299825588828,\n        \"min\": 12.724137931034482,\n        \"max\": 42.54,\n        \"num_unique_values\": 2,\n        \"samples\": [\n          42.54,\n          12.724137931034482\n        ],\n        \"semantic_type\": \"\",\n        \"description\": \"\"\n      }\n    },\n    {\n      \"column\": [\n        \"page\",\n        \"min\"\n      ],\n      \"properties\": {\n        \"dtype\": \"number\",\n        \"std\": 0,\n        \"min\": 1,\n        \"max\": 2,\n        \"num_unique_values\": 2,\n        \"samples\": [\n          1,\n          2\n        ],\n        \"semantic_type\": \"\",\n        \"description\": \"\"\n      }\n    },\n    {\n      \"column\": [\n        \"page\",\n        \"max\"\n      ],\n      \"properties\": {\n        \"dtype\": \"number\",\n        \"std\": 26,\n        \"min\": 39,\n        \"max\": 76,\n        \"num_unique_values\": 2,\n        \"samples\": [\n          76,\n          39\n        ],\n        \"semantic_type\": \"\",\n        \"description\": \"\"\n      }\n    },\n    {\n      \"column\": [\n        \"tokencount\",\n        \"mean\"\n      ],\n      \"properties\": {\n        \"dtype\": \"number\",\n        \"std\": 26242.91151403853,\n        \"min\": 9151.758620689656,\n        \"max\": 46264.84,\n        \"num_unique_values\": 2,\n        \"samples\": [\n          46264.84,\n          9151.758620689656\n        ],\n        \"semantic_type\": \"\",\n        \"description\": \"\"\n      }\n    },\n    {\n      \"column\": [\n        \"tokencount\",\n        \"min\"\n      ],\n      \"properties\": {\n        \"dtype\": \"number\",\n        \"std\": 1028.4868132358333,\n        \"min\": 474.75,\n        \"max\": 1929.25,\n        \"num_unique_values\": 2,\n        \"samples\": [\n          474.75,\n          1929.25\n        ],\n        \"semantic_type\": \"\",\n        \"description\": \"\"\n      }\n    },\n    {\n      \"column\": [\n        \"tokencount\",\n        \"max\"\n      ],\n      \"properties\": {\n        \"dtype\": \"number\",\n        \"std\": 44177.91036819193,\n        \"min\": 30082.0,\n        \"max\": 92559.0,\n        \"num_unique_values\": 2,\n        \"samples\": [\n          92559.0,\n          30082.0\n        ],\n        \"semantic_type\": \"\",\n        \"description\": \"\"\n      }\n    }\n  ]\n}",
              "type": "dataframe"
            },
            "text/html": [
              "\n",
              "  <div id=\"df-c66b79f2-a4c8-41b8-ad7d-f27e54a52321\" class=\"colab-df-container\">\n",
              "    <div>\n",
              "<style scoped>\n",
              "    .dataframe tbody tr th:only-of-type {\n",
              "        vertical-align: middle;\n",
              "    }\n",
              "\n",
              "    .dataframe tbody tr th {\n",
              "        vertical-align: top;\n",
              "    }\n",
              "\n",
              "    .dataframe thead tr th {\n",
              "        text-align: left;\n",
              "    }\n",
              "\n",
              "    .dataframe thead tr:last-of-type th {\n",
              "        text-align: right;\n",
              "    }\n",
              "</style>\n",
              "<table border=\"1\" class=\"dataframe\">\n",
              "  <thead>\n",
              "    <tr>\n",
              "      <th></th>\n",
              "      <th colspan=\"3\" halign=\"left\">charcount</th>\n",
              "      <th colspan=\"3\" halign=\"left\">page</th>\n",
              "      <th colspan=\"3\" halign=\"left\">tokencount</th>\n",
              "    </tr>\n",
              "    <tr>\n",
              "      <th></th>\n",
              "      <th>mean</th>\n",
              "      <th>min</th>\n",
              "      <th>max</th>\n",
              "      <th>mean</th>\n",
              "      <th>min</th>\n",
              "      <th>max</th>\n",
              "      <th>mean</th>\n",
              "      <th>min</th>\n",
              "      <th>max</th>\n",
              "    </tr>\n",
              "    <tr>\n",
              "      <th>set</th>\n",
              "      <th></th>\n",
              "      <th></th>\n",
              "      <th></th>\n",
              "      <th></th>\n",
              "      <th></th>\n",
              "      <th></th>\n",
              "      <th></th>\n",
              "      <th></th>\n",
              "      <th></th>\n",
              "    </tr>\n",
              "  </thead>\n",
              "  <tbody>\n",
              "    <tr>\n",
              "      <th>Set1</th>\n",
              "      <td>36607.034483</td>\n",
              "      <td>7717</td>\n",
              "      <td>120328</td>\n",
              "      <td>12.724138</td>\n",
              "      <td>2</td>\n",
              "      <td>39</td>\n",
              "      <td>9151.758621</td>\n",
              "      <td>1929.25</td>\n",
              "      <td>30082.0</td>\n",
              "    </tr>\n",
              "    <tr>\n",
              "      <th>Set2</th>\n",
              "      <td>185059.360000</td>\n",
              "      <td>1899</td>\n",
              "      <td>370236</td>\n",
              "      <td>42.540000</td>\n",
              "      <td>1</td>\n",
              "      <td>76</td>\n",
              "      <td>46264.840000</td>\n",
              "      <td>474.75</td>\n",
              "      <td>92559.0</td>\n",
              "    </tr>\n",
              "  </tbody>\n",
              "</table>\n",
              "</div>\n",
              "    <div class=\"colab-df-buttons\">\n",
              "\n",
              "  <div class=\"colab-df-container\">\n",
              "    <button class=\"colab-df-convert\" onclick=\"convertToInteractive('df-c66b79f2-a4c8-41b8-ad7d-f27e54a52321')\"\n",
              "            title=\"Convert this dataframe to an interactive table.\"\n",
              "            style=\"display:none;\">\n",
              "\n",
              "  <svg xmlns=\"http://www.w3.org/2000/svg\" height=\"24px\" viewBox=\"0 -960 960 960\">\n",
              "    <path d=\"M120-120v-720h720v720H120Zm60-500h600v-160H180v160Zm220 220h160v-160H400v160Zm0 220h160v-160H400v160ZM180-400h160v-160H180v160Zm440 0h160v-160H620v160ZM180-180h160v-160H180v160Zm440 0h160v-160H620v160Z\"/>\n",
              "  </svg>\n",
              "    </button>\n",
              "\n",
              "  <style>\n",
              "    .colab-df-container {\n",
              "      display:flex;\n",
              "      gap: 12px;\n",
              "    }\n",
              "\n",
              "    .colab-df-convert {\n",
              "      background-color: #E8F0FE;\n",
              "      border: none;\n",
              "      border-radius: 50%;\n",
              "      cursor: pointer;\n",
              "      display: none;\n",
              "      fill: #1967D2;\n",
              "      height: 32px;\n",
              "      padding: 0 0 0 0;\n",
              "      width: 32px;\n",
              "    }\n",
              "\n",
              "    .colab-df-convert:hover {\n",
              "      background-color: #E2EBFA;\n",
              "      box-shadow: 0px 1px 2px rgba(60, 64, 67, 0.3), 0px 1px 3px 1px rgba(60, 64, 67, 0.15);\n",
              "      fill: #174EA6;\n",
              "    }\n",
              "\n",
              "    .colab-df-buttons div {\n",
              "      margin-bottom: 4px;\n",
              "    }\n",
              "\n",
              "    [theme=dark] .colab-df-convert {\n",
              "      background-color: #3B4455;\n",
              "      fill: #D2E3FC;\n",
              "    }\n",
              "\n",
              "    [theme=dark] .colab-df-convert:hover {\n",
              "      background-color: #434B5C;\n",
              "      box-shadow: 0px 1px 3px 1px rgba(0, 0, 0, 0.15);\n",
              "      filter: drop-shadow(0px 1px 2px rgba(0, 0, 0, 0.3));\n",
              "      fill: #FFFFFF;\n",
              "    }\n",
              "  </style>\n",
              "\n",
              "    <script>\n",
              "      const buttonEl =\n",
              "        document.querySelector('#df-c66b79f2-a4c8-41b8-ad7d-f27e54a52321 button.colab-df-convert');\n",
              "      buttonEl.style.display =\n",
              "        google.colab.kernel.accessAllowed ? 'block' : 'none';\n",
              "\n",
              "      async function convertToInteractive(key) {\n",
              "        const element = document.querySelector('#df-c66b79f2-a4c8-41b8-ad7d-f27e54a52321');\n",
              "        const dataTable =\n",
              "          await google.colab.kernel.invokeFunction('convertToInteractive',\n",
              "                                                    [key], {});\n",
              "        if (!dataTable) return;\n",
              "\n",
              "        const docLinkHtml = 'Like what you see? Visit the ' +\n",
              "          '<a target=\"_blank\" href=https://colab.research.google.com/notebooks/data_table.ipynb>data table notebook</a>'\n",
              "          + ' to learn more about interactive tables.';\n",
              "        element.innerHTML = '';\n",
              "        dataTable['output_type'] = 'display_data';\n",
              "        await google.colab.output.renderOutput(dataTable, element);\n",
              "        const docLink = document.createElement('div');\n",
              "        docLink.innerHTML = docLinkHtml;\n",
              "        element.appendChild(docLink);\n",
              "      }\n",
              "    </script>\n",
              "  </div>\n",
              "\n",
              "\n",
              "<div id=\"df-e6220907-9297-4921-bcbc-6dc6b282e586\">\n",
              "  <button class=\"colab-df-quickchart\" onclick=\"quickchart('df-e6220907-9297-4921-bcbc-6dc6b282e586')\"\n",
              "            title=\"Suggest charts\"\n",
              "            style=\"display:none;\">\n",
              "\n",
              "<svg xmlns=\"http://www.w3.org/2000/svg\" height=\"24px\"viewBox=\"0 0 24 24\"\n",
              "     width=\"24px\">\n",
              "    <g>\n",
              "        <path d=\"M19 3H5c-1.1 0-2 .9-2 2v14c0 1.1.9 2 2 2h14c1.1 0 2-.9 2-2V5c0-1.1-.9-2-2-2zM9 17H7v-7h2v7zm4 0h-2V7h2v10zm4 0h-2v-4h2v4z\"/>\n",
              "    </g>\n",
              "</svg>\n",
              "  </button>\n",
              "\n",
              "<style>\n",
              "  .colab-df-quickchart {\n",
              "      --bg-color: #E8F0FE;\n",
              "      --fill-color: #1967D2;\n",
              "      --hover-bg-color: #E2EBFA;\n",
              "      --hover-fill-color: #174EA6;\n",
              "      --disabled-fill-color: #AAA;\n",
              "      --disabled-bg-color: #DDD;\n",
              "  }\n",
              "\n",
              "  [theme=dark] .colab-df-quickchart {\n",
              "      --bg-color: #3B4455;\n",
              "      --fill-color: #D2E3FC;\n",
              "      --hover-bg-color: #434B5C;\n",
              "      --hover-fill-color: #FFFFFF;\n",
              "      --disabled-bg-color: #3B4455;\n",
              "      --disabled-fill-color: #666;\n",
              "  }\n",
              "\n",
              "  .colab-df-quickchart {\n",
              "    background-color: var(--bg-color);\n",
              "    border: none;\n",
              "    border-radius: 50%;\n",
              "    cursor: pointer;\n",
              "    display: none;\n",
              "    fill: var(--fill-color);\n",
              "    height: 32px;\n",
              "    padding: 0;\n",
              "    width: 32px;\n",
              "  }\n",
              "\n",
              "  .colab-df-quickchart:hover {\n",
              "    background-color: var(--hover-bg-color);\n",
              "    box-shadow: 0 1px 2px rgba(60, 64, 67, 0.3), 0 1px 3px 1px rgba(60, 64, 67, 0.15);\n",
              "    fill: var(--button-hover-fill-color);\n",
              "  }\n",
              "\n",
              "  .colab-df-quickchart-complete:disabled,\n",
              "  .colab-df-quickchart-complete:disabled:hover {\n",
              "    background-color: var(--disabled-bg-color);\n",
              "    fill: var(--disabled-fill-color);\n",
              "    box-shadow: none;\n",
              "  }\n",
              "\n",
              "  .colab-df-spinner {\n",
              "    border: 2px solid var(--fill-color);\n",
              "    border-color: transparent;\n",
              "    border-bottom-color: var(--fill-color);\n",
              "    animation:\n",
              "      spin 1s steps(1) infinite;\n",
              "  }\n",
              "\n",
              "  @keyframes spin {\n",
              "    0% {\n",
              "      border-color: transparent;\n",
              "      border-bottom-color: var(--fill-color);\n",
              "      border-left-color: var(--fill-color);\n",
              "    }\n",
              "    20% {\n",
              "      border-color: transparent;\n",
              "      border-left-color: var(--fill-color);\n",
              "      border-top-color: var(--fill-color);\n",
              "    }\n",
              "    30% {\n",
              "      border-color: transparent;\n",
              "      border-left-color: var(--fill-color);\n",
              "      border-top-color: var(--fill-color);\n",
              "      border-right-color: var(--fill-color);\n",
              "    }\n",
              "    40% {\n",
              "      border-color: transparent;\n",
              "      border-right-color: var(--fill-color);\n",
              "      border-top-color: var(--fill-color);\n",
              "    }\n",
              "    60% {\n",
              "      border-color: transparent;\n",
              "      border-right-color: var(--fill-color);\n",
              "    }\n",
              "    80% {\n",
              "      border-color: transparent;\n",
              "      border-right-color: var(--fill-color);\n",
              "      border-bottom-color: var(--fill-color);\n",
              "    }\n",
              "    90% {\n",
              "      border-color: transparent;\n",
              "      border-bottom-color: var(--fill-color);\n",
              "    }\n",
              "  }\n",
              "</style>\n",
              "\n",
              "  <script>\n",
              "    async function quickchart(key) {\n",
              "      const quickchartButtonEl =\n",
              "        document.querySelector('#' + key + ' button');\n",
              "      quickchartButtonEl.disabled = true;  // To prevent multiple clicks.\n",
              "      quickchartButtonEl.classList.add('colab-df-spinner');\n",
              "      try {\n",
              "        const charts = await google.colab.kernel.invokeFunction(\n",
              "            'suggestCharts', [key], {});\n",
              "      } catch (error) {\n",
              "        console.error('Error during call to suggestCharts:', error);\n",
              "      }\n",
              "      quickchartButtonEl.classList.remove('colab-df-spinner');\n",
              "      quickchartButtonEl.classList.add('colab-df-quickchart-complete');\n",
              "    }\n",
              "    (() => {\n",
              "      let quickchartButtonEl =\n",
              "        document.querySelector('#df-e6220907-9297-4921-bcbc-6dc6b282e586 button');\n",
              "      quickchartButtonEl.style.display =\n",
              "        google.colab.kernel.accessAllowed ? 'block' : 'none';\n",
              "    })();\n",
              "  </script>\n",
              "</div>\n",
              "    </div>\n",
              "  </div>\n"
            ],
            "text/plain": [
              "          charcount                     page            tokencount           \\\n",
              "               mean   min     max       mean min max          mean      min   \n",
              "set                                                                           \n",
              "Set1   36607.034483  7717  120328  12.724138   2  39   9151.758621  1929.25   \n",
              "Set2  185059.360000  1899  370236  42.540000   1  76  46264.840000   474.75   \n",
              "\n",
              "               \n",
              "          max  \n",
              "set            \n",
              "Set1  30082.0  \n",
              "Set2  92559.0  "
            ]
          },
          "execution_count": 18,
          "metadata": {},
          "output_type": "execute_result"
        }
      ],
      "source": [
        "#Removing the files that could not be parsed and checking the average #pages, #characters, #tokens\n",
        "char_by_file_reduced = char_by_file[~char_by_file[\"filename\"].isin(files_not_parsed)]\n",
        "char_by_file_reduced[\"tokencount\"] = char_by_file_reduced[\"charcount\"]/4\n",
        "char_by_file_reduced.groupby([\"set\"]).agg({\"charcount\":[\"mean\",\"min\",\"max\"],\"page\":[\"mean\",\"min\",\"max\"],\"tokencount\":[\"mean\",\"min\",\"max\"]})"
      ]
    },
    {
      "cell_type": "code",
      "execution_count": null,
      "metadata": {
        "colab": {
          "base_uri": "https://localhost:8080/",
          "height": 421
        },
        "id": "_zxlRvzGj9vd",
        "outputId": "2a7d6a72-bcb8-4b21-a31c-9b78cccf7fe1"
      },
      "outputs": [
        {
          "data": {
            "image/png": "[encoded data removed]",
            "text/plain": [
              "<Figure size 700x400 with 1 Axes>"
            ]
          },
          "metadata": {},
          "output_type": "display_data"
        }
      ],
      "source": [
        "#Distribution of files by characters\n",
        "dist_plot(annotate_bars,char_by_file_reduced,\"set\",\"charcount\")"
      ]
    },
    {
      "cell_type": "code",
      "execution_count": null,
      "metadata": {
        "colab": {
          "base_uri": "https://localhost:8080/",
          "height": 421
        },
        "id": "EsWi1nPvkUK2",
        "outputId": "037fd33b-b860-4865-879c-b70482fa8940"
      },
      "outputs": [
        {
          "data": {
            "image/png": "[encoded data removed]",
            "text/plain": [
              "<Figure size 700x400 with 1 Axes>"
            ]
          },
          "metadata": {},
          "output_type": "display_data"
        }
      ],
      "source": [
        "#Distribution of files by token\n",
        "dist_plot(annotate_bars,char_by_file_reduced,\"set\",\"tokencount\")"
      ]
    },
    {
      "cell_type": "markdown",
      "metadata": {
        "id": "r0EZRU3Eil7f"
      },
      "source": [
        "# Chunking post loading the documents:\n",
        "\n",
        "1.   Smaller chunks that can fit into your model's context window\n",
        "2.   Chunks with as little noise as possible that are still semantically relevant\n",
        "3.   Content is long form: pdfs\n",
        "4.   Embedding models consideration\n",
        "5.   Complexity of user queries: generally short and specific\n",
        "\n",
        "**Different Methods:**\n",
        "\n",
        "1.   Fixed Size Chunking: Decide the number of tokens in our chunk and, optionally, whether there should be any overlap between them.\n",
        "In general, we will want to keep some overlap between chunks to make sure that the semantic context doesn’t get lost between chunks.\n",
        "\n",
        "2.   Content Aware Chunking:\n",
        "\n",
        ">      Sentence Splitting\n",
        ">      a.  Naive splitting: By period (.)\n",
        ">      b.  NLTK\n",
        ">      c.  spaCy\n",
        ">      Recursive Splitting: divides the input text into smaller chunks in a hierarchical and iterative manner using a set of separators\n",
        "\n",
        "3.   Specialized Chunking:\n",
        "Markdown and LaTeX\n",
        "\n",
        "4.   Tiktoken -- works with Open AI models\n",
        "\n",
        "\n",
        "\n",
        "\n",
        "\n",
        "\n",
        "\n"
      ]
    },
    {
      "cell_type": "code",
      "execution_count": null,
      "metadata": {
        "id": "O4HHxf4UWxsc"
      },
      "outputs": [],
      "source": [
        "# Function for chunking the documents\n",
        "\n",
        "def splitter(splitter_type,split_chunk_size,split_overlap,docs):\n",
        "\n",
        "  if splitter_type =='recursive':\n",
        "\n",
        "    text_splitter = RecursiveCharacterTextSplitter(\n",
        "    chunk_size = split_chunk_size,\n",
        "    chunk_overlap = split_overlap,\n",
        "    length_function = len,\n",
        "    separators=[\"\\n\\n\", \"\\n\", \"\\r\\n\",\"\\t\", \"(?<=\\. )\",\" \", \"\"]\n",
        "    )\n",
        "    texts = text_splitter.split_documents(docs)\n",
        "\n",
        "  elif splitter_type =='spacy':\n",
        "\n",
        "    text_splitter = SpacyTextSplitter(chunk_size=split_chunk_size)\n",
        "    texts = text_splitter.split_documents(docs)\n",
        "\n",
        "  elif splitter_type == 'nltk':\n",
        "\n",
        "    text_splitter = NLTKTextSplitter(chunk_size=split_chunk_size)\n",
        "    texts = text_splitter.split_documents(docs)\n",
        "\n",
        "  return texts\n",
        "\n",
        "\n"
      ]
    },
    {
      "cell_type": "code",
      "execution_count": null,
      "metadata": {
        "colab": {
          "background_save": true
        },
        "id": "tOqMSmObaYQr"
      },
      "outputs": [],
      "source": [
        "#Splitting documents using the three splitters\n",
        "#200,300,500,1000\n",
        "#25%,50%,75%\n",
        "ch_size = 300\n",
        "ch_overlap = 150\n",
        "\n",
        "rcts_start_time = datetime.now()\n",
        "texts_rcts = splitter(\"recursive\",ch_size,ch_overlap,docs)\n",
        "rcts_end_time = datetime.now()\n",
        "\n",
        "spacy_start_time = datetime.now()\n",
        "texts_spacy = splitter(\"spacy\",ch_size,ch_overlap,docs)\n",
        "spacy_end_time = datetime.now()\n",
        "\n",
        "nltk_start_time = datetime.now()\n",
        "texts_nltk = splitter(\"nltk\",ch_size,ch_overlap,docs)\n",
        "nltk_end_time = datetime.now()\n",
        "\n",
        "\n",
        "print('rcts time elapsed (hh:mm:ss.ms) {}'.format(rcts_end_time - rcts_start_time))\n",
        "print('spacy time elapsed (hh:mm:ss.ms) {}'.format(spacy_end_time - spacy_start_time))\n",
        "print('nltk time elapsed (hh:mm:ss.ms) {}'.format(nltk_end_time - nltk_start_time))"
      ]
    },
    {
      "cell_type": "markdown",
      "metadata": {
        "id": "4DhYwqFwc3wD"
      },
      "source": [
        "**Plotting the chunk distributions aross the 3 splitters**\n",
        "\n",
        "*   Recursive Character Text Splitter\n",
        "*   Spacy\n",
        "*   NLTK\n",
        "\n"
      ]
    },
    {
      "cell_type": "code",
      "execution_count": null,
      "metadata": {
        "colab": {
          "background_save": true
        },
        "id": "JSBNQVLvgMDE"
      },
      "outputs": [],
      "source": [
        "#Comaring the chunk length distribution across the 3 splitters\n",
        "doc_rcts_df = pd.DataFrame(pd.DataFrame([i.page_content for i in texts_rcts]))\n",
        "doc_rcts_df[\"chunk_length\"] = doc_rcts_df[0].apply(lambda x: len(x))\n",
        "\n",
        "doc_spacy_df = pd.DataFrame(pd.DataFrame([i.page_content for i in texts_spacy]))\n",
        "doc_spacy_df[\"chunk_length\"] = doc_spacy_df[0].apply(lambda x: len(x))\n",
        "\n",
        "doc_nltk_df = pd.DataFrame(pd.DataFrame([i.page_content for i in texts_nltk]))\n",
        "doc_nltk_df[\"chunk_length\"] = doc_nltk_df[0].apply(lambda x: len(x))"
      ]
    },
    {
      "cell_type": "code",
      "execution_count": null,
      "metadata": {
        "colab": {
          "background_save": true
        },
        "id": "UM-nkEw-gAfB",
        "outputId": "6d754707-af42-4cfc-f851-7c9e7b69f67a"
      },
      "outputs": [
        {
          "data": {
            "text/plain": [
              "<matplotlib.legend.Legend at 0x7ef10ad7e350>"
            ]
          },
          "execution_count": 24,
          "metadata": {},
          "output_type": "execute_result"
        },
        {
          "data": {
            "image/png": "[encoded data removed]",
            "text/plain": [
              "<Figure size 2000x500 with 1 Axes>"
            ]
          },
          "metadata": {},
          "output_type": "display_data"
        }
      ],
      "source": [
        "plt.figure(figsize=(20,5))\n",
        "sns.histplot(doc_rcts_df, x= \"chunk_length\",binwidth=20, label = \"rcts\")\n",
        "sns.histplot(doc_spacy_df, x= \"chunk_length\",binwidth=20, label = \"spacy\")\n",
        "sns.histplot(doc_nltk_df, x= \"chunk_length\",binwidth=20, label = \"nltk\")\n",
        "\n",
        "plt.legend()\n",
        "# sns.histplot()"
      ]
    },
    {
      "cell_type": "code",
      "execution_count": null,
      "metadata": {
        "colab": {
          "background_save": true
        },
        "id": "Y1SyDP2xiM74",
        "outputId": "02cd2461-797d-4eb3-8b4c-ad2adb71ff48"
      },
      "outputs": [
        {
          "data": {
            "text/plain": [
              "<Axes: xlabel='chunk_length', ylabel='Count'>"
            ]
          },
          "execution_count": 25,
          "metadata": {},
          "output_type": "execute_result"
        },
        {
          "data": {
            "image/png": "[encoded data removed]",
            "text/plain": [
              "<Figure size 640x480 with 1 Axes>"
            ]
          },
          "metadata": {},
          "output_type": "display_data"
        }
      ],
      "source": [
        "#RCTS\n",
        "sns.histplot(doc_rcts_df, x= \"chunk_length\",kde=True,binwidth=3)"
      ]
    },
    {
      "cell_type": "code",
      "execution_count": null,
      "metadata": {
        "colab": {
          "background_save": true
        },
        "id": "c7IDFAZAiRGR",
        "outputId": "9eb3d367-997c-422b-914d-06d47c338dbd"
      },
      "outputs": [
        {
          "data": {
            "text/plain": [
              "<Axes: xlabel='chunk_length', ylabel='Count'>"
            ]
          },
          "execution_count": 26,
          "metadata": {},
          "output_type": "execute_result"
        },
        {
          "data": {
            "image/png": "[encoded data removed]",
            "text/plain": [
              "<Figure size 640x480 with 1 Axes>"
            ]
          },
          "metadata": {},
          "output_type": "display_data"
        }
      ],
      "source": [
        "#Spacy\n",
        "sns.histplot(doc_spacy_df, x= \"chunk_length\",kde=True,color='orange',binwidth=20)"
      ]
    },
    {
      "cell_type": "code",
      "execution_count": null,
      "metadata": {
        "colab": {
          "background_save": true
        },
        "id": "i5YM0ncYiUsQ",
        "outputId": "19e93aef-7ba2-4017-b3cd-ff1de592aa58"
      },
      "outputs": [
        {
          "data": {
            "text/plain": [
              "<Axes: xlabel='chunk_length', ylabel='Count'>"
            ]
          },
          "execution_count": 27,
          "metadata": {},
          "output_type": "execute_result"
        },
        {
          "data": {
            "image/png": "[encoded data removed]",
            "text/plain": [
              "<Figure size 640x480 with 1 Axes>"
            ]
          },
          "metadata": {},
          "output_type": "display_data"
        }
      ],
      "source": [
        "#NLTK\n",
        "sns.histplot(doc_nltk_df, x= \"chunk_length\",kde=True,color='green',binwidth=20)"
      ]
    },
    {
      "cell_type": "code",
      "execution_count": null,
      "metadata": {
        "colab": {
          "background_save": true
        },
        "id": "brrS1CoLmKAl",
        "outputId": "d7f353e2-b4a9-4438-9e26-e6a86382dfae"
      },
      "outputs": [
        {
          "name": "stdout",
          "output_type": "stream",
          "text": [
            "Number of spacy chunks > 300:  1312\n",
            "Number of nltk chunks > 300:  2122\n",
            "\n",
            "\n",
            "spacy chunk with the max length 2385\n",
            "nltk chunk with the max length 3266\n"
          ]
        }
      ],
      "source": [
        "#Spacy and nltk chunks > 300 (Number of chunks that exceed the 300 limit)\n",
        "print(\"Number of spacy chunks > 300: \" ,doc_spacy_df[doc_spacy_df['chunk_length']>300].shape[0])\n",
        "print(\"Number of nltk chunks > 300: \" ,doc_nltk_df[doc_nltk_df['chunk_length']>300].shape[0])\n",
        "print(\"\\n\")\n",
        "print(\"spacy chunk with the max length\" ,max(doc_spacy_df[doc_spacy_df['chunk_length']>300]['chunk_length']))\n",
        "print(\"nltk chunk with the max length\" ,max(doc_nltk_df[doc_nltk_df['chunk_length']>300]['chunk_length']))"
      ]
    },
    {
      "cell_type": "markdown",
      "metadata": {
        "id": "yUPFjGaKgrc5"
      },
      "source": [
        "**Observations from chunking using the three splitters:**\n",
        "\n",
        "\n",
        "*   RCTS: More consistent chunking. Does not breach the max chunk size. More uniform chunking.\n",
        "*   Spacy & NLTK: Most chunks clustered around the max chunk size. However, it breaches the max chunk size for certain cases and there are outliers.\n",
        "\n"
      ]
    },
    {
      "cell_type": "code",
      "execution_count": null,
      "metadata": {
        "colab": {
          "background_save": true
        },
        "id": "uqkvld7bQTFt"
      },
      "outputs": [],
      "source": [
        "#Metrics to track\n",
        "#Average #charcters across pdfs\n",
        "#Average #tokens across pdfs\n",
        "#Average #pages\n",
        "#Max tokens that can be passed to the llms(Based on Token size for the llms assigned)"
      ]
    },
    {
      "cell_type": "markdown",
      "metadata": {
        "id": "UK9o8L9uizIe"
      },
      "source": [
        "# Loading the Model"
      ]
    },
    {
      "cell_type": "code",
      "execution_count": null,
      "metadata": {
        "colab": {
          "background_save": true
        },
        "id": "g6p_HcPvT0Bc"
      },
      "outputs": [],
      "source": [
        "# Function to get the model\n",
        "def get_model(model):\n",
        "\n",
        "    print('\\nDownloading model: ', model, '\\n\\n')\n",
        "\n",
        "    if model == 'llama-7b':\n",
        "        model_repo = 'huggyllama/llama-7b'\n",
        "\n",
        "        tokenizer = AutoTokenizer.from_pretrained(model_repo)\n",
        "\n",
        "        model = AutoModelForCausalLM.from_pretrained(\n",
        "            model_repo,\n",
        "            load_in_4bit=True,\n",
        "            torch_dtype=torch.float16,\n",
        "        )\n",
        "\n",
        "        max_len = 2048\n",
        "\n",
        "    elif model == 't5-large':\n",
        "        model_repo = 'google/flan-t5-large'\n",
        "\n",
        "        tokenizer = AutoTokenizer.from_pretrained(model_repo, max_length=1024)\n",
        "\n",
        "        model = AutoModelForSeq2SeqLM.from_pretrained(\n",
        "            model_repo,\n",
        "            torch_dtype=torch.float16,\n",
        "            trust_remote_code=True\n",
        "        )\n",
        "\n",
        "        max_len = 1024\n",
        "\n",
        "\n",
        "    else:\n",
        "        print(\"Not implemented model (tokenizer and backbone)\")\n",
        "\n",
        "    return tokenizer, model, max_len\n",
        "\n"
      ]
    },
    {
      "cell_type": "code",
      "execution_count": null,
      "metadata": {
        "colab": {
          "background_save": true
        },
        "id": "ANgET2xjxpmW"
      },
      "outputs": [],
      "source": [
        "# %%time\n",
        "# # model_start_time = datetime.now()\n",
        "# tokenizer, model, max_len = get_model(model = \"llama-7b\")\n",
        "# # model_end_time = datetime.now()\n",
        "\n",
        "# # print('model time elapsed (hh:mm:ss.ms) {}'.format(model_end_time - model_start_time))"
      ]
    },
    {
      "cell_type": "markdown",
      "metadata": {
        "id": "VPaSkxZ93qtJ"
      },
      "source": [
        "**Pipeline for loading the model**"
      ]
    },
    {
      "cell_type": "code",
      "execution_count": null,
      "metadata": {
        "colab": {
          "background_save": true
        },
        "id": "Q9gPPotOVr0a"
      },
      "outputs": [],
      "source": [
        "#Hugging Face Pipeline\n",
        "\n",
        "# max_new_tokens_t5 = 1024\n",
        "# min_length_t5 = 1024\n",
        "# temp = 0.6\n",
        "# topp = 0.95\n",
        "# rep_penalty = 1.15\n",
        "\n",
        "def load_llm(model_name,model,tokenizer,max_len,temp,topp,rep_penalty):\n",
        "\n",
        "  if model_name == \"t5-large\":\n",
        "\n",
        "    pipe = pipeline(task = \"text2text-generation\",\n",
        "                    model=model,\n",
        "                    tokenizer=tokenizer)\n",
        "\n",
        "    llm = HuggingFacePipeline(\n",
        "        pipeline = pipe,\n",
        "        model_kwargs={\"do_sample\": True,\n",
        "                  \"max_new_tokens\":max_new_tokens_t5,\n",
        "                  \"min_length\":min_length_t5,\n",
        "                      },\n",
        "        )\n",
        "\n",
        "  elif model_name == \"llama-7b\":\n",
        "\n",
        "    pipe = pipeline(\n",
        "        task = \"text-generation\",\n",
        "        model = model,\n",
        "        tokenizer = tokenizer,\n",
        "        pad_token_id = tokenizer.eos_token_id,\n",
        "        max_length = max_len,\n",
        "        temperature = temp,\n",
        "        top_p = topp,\n",
        "        repetition_penalty = rep_penalty,\n",
        "        do_sample=True\n",
        "        )\n",
        "\n",
        "    llm = HuggingFacePipeline(pipeline = pipe)\n",
        "\n",
        "  return llm"
      ]
    },
    {
      "cell_type": "code",
      "execution_count": null,
      "metadata": {
        "colab": {
          "background_save": true
        },
        "id": "uxgHdoL4t3lD"
      },
      "outputs": [],
      "source": [
        "# %%time\n",
        "# llm = load_llm(model_name = \"llama-7b\",model=model,tokenizer=tokenizer,max_len=max_len)"
      ]
    },
    {
      "cell_type": "markdown",
      "metadata": {
        "id": "JJKB7H1Fi39I"
      },
      "source": [
        "# Embeddings and Vector Store"
      ]
    },
    {
      "cell_type": "code",
      "execution_count": null,
      "metadata": {
        "colab": {
          "background_save": true
        },
        "id": "Gabnkc31iAff"
      },
      "outputs": [],
      "source": [
        "# %%time\n",
        "# ##Initializing the embeddings\n",
        "# #Hugging Face Sentence Transformer\n",
        "# embedding_model = \"all-MiniLM-L6-v2\"\n",
        "\n",
        "# embedding_start_time = datetime.now()\n",
        "# embeddings = SentenceTransformerEmbeddings(model_name = embedding_model)\n",
        "# embedding_end_time = datetime.now()\n",
        "\n",
        "# print('embedding initialization time elapsed (hh:mm:ss.ms) {}'.format(embedding_end_time - embedding_start_time))"
      ]
    },
    {
      "cell_type": "markdown",
      "metadata": {
        "id": "ECjJnh_e3yoA"
      },
      "source": [
        "**Pinecone vector store**"
      ]
    },
    {
      "cell_type": "code",
      "execution_count": null,
      "metadata": {
        "colab": {
          "background_save": true
        },
        "id": "B9PECciy-ub_"
      },
      "outputs": [],
      "source": [
        "# #Pinecone\n",
        "# #Initializing the pinecone client\n",
        "# pinecone.init(\n",
        "#             api_key= \"59d977cf-c878-4da3-8e87-bc7726e2e2cd\", # set api_key = 'yourapikey'\n",
        "#             environment= 'gcp-starter'\n",
        "# )\n",
        "# id_name = 'index1'\n",
        "# index_name = pinecone.Index(id_name)"
      ]
    },
    {
      "cell_type": "code",
      "execution_count": null,
      "metadata": {
        "colab": {
          "background_save": true
        },
        "id": "bp5RwpmPg8U-"
      },
      "outputs": [],
      "source": [
        "# %%time\n",
        "# #Uploading the embedding model and the data to the pinecone index\n",
        "# #Gives indexing time\n",
        "# #index_start_time = datetime.now()\n",
        "# # vectordb = Pinecone.from_documents(texts_rcts, embeddings, index_name='index1')\n",
        "# #index_end_time = datetime.now()\n",
        "\n",
        "# #print('indexing time elapsed (hh:mm:ss.ms) {}'.format(index_end_time - index_start_time))\n",
        "\n",
        "# #If index already created, load using from existing index function\n",
        "# #Gives database loading time\n",
        "# index_load_start_time = datetime.now()\n",
        "# vectordb = Pinecone.from_existing_index(index_name=\"index1\", embedding=embeddings)\n",
        "# index_load_end_time = datetime.now()\n",
        "\n",
        "# print('indexing time elapsed (hh:mm:ss.ms) {}'.format(index_load_end_time - index_load_start_time))"
      ]
    },
    {
      "cell_type": "markdown",
      "metadata": {
        "id": "mwU3fhDFi8t-"
      },
      "source": [
        "# Prompt Template"
      ]
    },
    {
      "cell_type": "code",
      "execution_count": null,
      "metadata": {
        "colab": {
          "background_save": true
        },
        "id": "2tUaFc-gxdS2"
      },
      "outputs": [],
      "source": [
        "prompt_template = \"\"\"\n",
        "Don't try to make up an answer, if you don't know just say that you don't know.\n",
        "Answer in the same language the question was asked.\n",
        "Use only the following pieces of context to answer the question at the end.\n",
        "\n",
        "{context}\n",
        "\n",
        "Question: {question}\n",
        "Answer:\"\"\"\n",
        "\n",
        "\n",
        "PROMPT = PromptTemplate(\n",
        "    template = prompt_template,\n",
        "    input_variables = [\"context\", \"question\"]\n",
        ")"
      ]
    },
    {
      "cell_type": "markdown",
      "metadata": {
        "id": "CXOkk2_ojB72"
      },
      "source": [
        "# Post Processing the Output & LLM Response Functions"
      ]
    },
    {
      "cell_type": "code",
      "execution_count": null,
      "metadata": {
        "colab": {
          "background_save": true
        },
        "id": "CqRpxTkl1rOt"
      },
      "outputs": [],
      "source": [
        "#Function for post-processing the output\n",
        "def wrap_text_preserve_newlines(text, width=700):\n",
        "    # Split the input text into lines based on newline characters\n",
        "    lines = text.split('\\n')\n",
        "\n",
        "    # Wrap each line individually\n",
        "    wrapped_lines = [textwrap.fill(line, width=width) for line in lines]\n",
        "\n",
        "    # Join the wrapped lines back together using newline characters\n",
        "    wrapped_text = '\\n'.join(wrapped_lines)\n",
        "\n",
        "    return wrapped_text\n",
        "\n",
        "def process_llm_response(llm_response):\n",
        "    ans = wrap_text_preserve_newlines(llm_response['result'])\n",
        "\n",
        "    sources_used = ' \\n'.join(\n",
        "        [\n",
        "            source.metadata['source'].split('/')[-1][:-4] + ' - page: ' + str(source.metadata['page'])\n",
        "            for source in llm_response['source_documents']\n",
        "        ]\n",
        "    )\n",
        "\n",
        "    ans = ans + '\\n\\nSources: \\n' + sources_used\n",
        "    return ans\n",
        "\n",
        "# Function for getting the answer to the query\n",
        "def llm_ans(qa_chain,query):\n",
        "    start = time.time()\n",
        "    llm_response = qa_chain(query)\n",
        "    ans = process_llm_response(llm_response)\n",
        "    end = time.time()\n",
        "\n",
        "    time_elapsed = int(round(end - start, 0))\n",
        "    time_elapsed_str = f'\\n\\nTime elapsed: {time_elapsed} s'\n",
        "    return ans + time_elapsed_str,time_elapsed"
      ]
    },
    {
      "cell_type": "markdown",
      "metadata": {
        "id": "8ZIW7pd-jFJg"
      },
      "source": [
        "# Answer Generation"
      ]
    },
    {
      "cell_type": "code",
      "execution_count": null,
      "metadata": {
        "colab": {
          "background_save": true
        },
        "id": "0ATE20sm0TU_"
      },
      "outputs": [],
      "source": [
        "def queries_and_labelled_data_processing(nonparsed_files,path_queries,path_labelled_set1,path_labelled_set2):\n",
        "\n",
        "  #Load all the qa pairs (groundtruth)\n",
        "  labelled_set1 = pd.read_excel(path_labelled_set1,sheet_name=None)\n",
        "  labelled_set2 = pd.read_excel(path_labelled_set2,sheet_name=\"Misc.\")\n",
        "\n",
        "  #Load all queries\n",
        "  queries = pd.read_excel(path_queries,sheet_name=None)\n",
        "\n",
        "  #Processing labelled set 1 data\n",
        "  files_not_parsed = [i.replace(\".pdf\",\"\").replace(\"Black_Decker\",\"Black&Decker\") for i in nonparsed_files]\n",
        "\n",
        "  queries_filtered_set1 = pd.DataFrame()\n",
        "  for i in labelled_set1.keys():\n",
        "    cols = ['Queries', 'Page Number',\"Answers\"]\n",
        "    labelled_set1[i].loc[:,cols] = labelled_set1[i].loc[:,cols].ffill()\n",
        "    labelled_set1[i] = labelled_set1[i][~labelled_set1[i][\"Manual Name\"].isin(files_not_parsed)]\n",
        "    query_data = labelled_set1[i][[\"Ctegories\",\"Queries\",\"Answers\",\"Page Number\"]].drop_duplicates()\n",
        "    queries_filtered_set1 = pd.concat([queries_filtered_set1,query_data],axis=0)\n",
        "    queries_filtered_set1[\"Set\"] = \"Set1\"\n",
        "\n",
        "  queries_filtered_set1 = queries_filtered_set1.rename(columns={\"Ctegories\":\"Category\",\"Page Number\":\"Page no.\"})\n",
        "\n",
        "  #Processing labelled set2 data\n",
        "  labelled_set2 = labelled_set2[[\"Manual Name\",\"Category\",\"Queries\",\"Answers\",\"Page no.\"]]\n",
        "  labelled_set2 = labelled_set2.ffill()\n",
        "  queries_filtered_set2 = labelled_set2[[\"Category\",\"Queries\",\"Answers\",\"Page no.\"]]\n",
        "  queries_filtered_set2[\"Set\"] = \"Set2\"\n",
        "\n",
        "  #All set1 and set2 queries with answers\n",
        "  queries_filtered = pd.concat([queries_filtered_set1,queries_filtered_set2],axis=0)\n",
        "  queries_filtered = queries_filtered.dropna()\n",
        "  queries_filtered[\"Category\"] = queries_filtered[\"Category\"].apply(lambda x: x.replace(\" \",\"\"))\n",
        "  queries_filtered[\"Category\"] = np.where(queries_filtered[\"Category\"]==\"AirCompressor\",\"AirCompresssor\",queries_filtered[\"Category\"])\n",
        "  queries_filtered[\"Queries\"] = queries_filtered[\"Queries\"].apply(lambda x : x.strip())\n",
        "\n",
        "  #Processing queries\n",
        "  queries[\"Queries_Set1\"][\"Set\"] = \"Set1\"\n",
        "  queries[\"Queries_Set2\"][\"Set\"] = \"Set2\"\n",
        "\n",
        "  queries[\"Queries_Set1\"] = queries[\"Queries_Set1\"].rename(columns=lambda x: x.strip())\n",
        "  queries[\"Queries_Set2\"] = queries[\"Queries_Set2\"].rename(columns=lambda x: x.strip())\n",
        "  queries_all = pd.concat([queries[\"Queries_Set1\"],queries[\"Queries_Set2\"]])\n",
        "  queries_all = queries_all.reset_index(drop=True)\n",
        "\n",
        "\n",
        "  #Sampling 100 queries\n",
        "  queries_sampled = queries_all.sample(100,random_state=1)\n",
        "  queries_sampled[\"Category\"] = queries_sampled[\"Category\"].apply(lambda x: x.replace(\" \",\"\"))\n",
        "  queries_sampled[\"Category\"] = np.where(queries_sampled[\"Category\"]==\"AirCompressor\",\"AirCompresssor\",queries_sampled[\"Category\"])\n",
        "  queries_sampled[\"Queries\"] = queries_sampled[\"Queries\"].apply(lambda x : x.strip())\n",
        "\n",
        "  merged_queries = pd.merge(queries_sampled,queries_filtered,on=[\"Category\",\"Queries\",\"Set\"], how='inner')\n",
        "  merged_queries = merged_queries.drop_duplicates()\n",
        "\n",
        "  merged_queries_wo_answers = merged_queries[['Category',\"Queries\",\"Set\"]].drop_duplicates()\n",
        "\n",
        "  return merged_queries,merged_queries_wo_answers"
      ]
    },
    {
      "cell_type": "code",
      "execution_count": null,
      "metadata": {
        "colab": {
          "background_save": true
        },
        "id": "c_Zgt1YVzd6j"
      },
      "outputs": [],
      "source": [
        "# set1_path = '/content/drive/MyDrive/Gen AI Case Study/Labelled Data/Labelled_Data_Set1.xlsx'\n",
        "# set2_path = '/content/drive/MyDrive/Gen AI Case Study/Labelled Data/Labelled_Data_Set2.xlsx'\n",
        "# query_path = '/content/drive/MyDrive/Gen AI Case Study/Queries/Queries.xlsx'\n",
        "\n",
        "# merged_queries,merged_queries_wo_answers =  queries_and_labelled_data_processing(files_not_parsed,\n",
        "#                                                                                  path_queries = query_path\n",
        "#                                                                                  ,path_labelled_set1 = set1_path,\n",
        "#                                                                                  path_labelled_set2 = set2_path)"
      ]
    },
    {
      "cell_type": "code",
      "execution_count": null,
      "metadata": {
        "colab": {
          "background_save": true
        },
        "id": "Ng22yZER2gd7"
      },
      "outputs": [],
      "source": [
        "def gen_answers(query_df,numk,ch_type,prompt):\n",
        "  answer_list = []\n",
        "\n",
        "  for i in tqdm(query_df.index):\n",
        "\n",
        "    cat = query_df.loc[i,\"Category\"]\n",
        "    query = query_df.loc[i,\"Queries\"]\n",
        "    sett = query_df.loc[i,\"Set\"]\n",
        "\n",
        "    settype = sett\n",
        "    if sett == \"Set1\":\n",
        "      cattype = cat\n",
        "    else:\n",
        "      cattype = \"NA\"\n",
        "\n",
        "\n",
        "    #Retriever chain for question answering\n",
        "    print(i,numk,settype,cattype)\n",
        "    retriever = vectordb.as_retriever(search_kwargs = {\"k\": numk,\n",
        "                                                        'filter': {'set':settype,\n",
        "                                                                  'category':cattype}})\n",
        "\n",
        "    qa_chain = RetrievalQA.from_chain_type(\n",
        "        llm = llm,\n",
        "        chain_type = ch_type,\n",
        "        retriever = retriever,\n",
        "        chain_type_kwargs = {\"prompt\": prompt},\n",
        "        return_source_documents = True,\n",
        "        verbose = False\n",
        "    )\n",
        "\n",
        "\n",
        "    ans = llm_ans(qa_chain,query)[0]\n",
        "    answer_list.append([i,cat,query,sett,ans])\n",
        "    torch.cuda.empty_cache()\n",
        "    gc.collect()\n",
        "\n",
        "  return answer_list"
      ]
    },
    {
      "cell_type": "code",
      "execution_count": null,
      "metadata": {
        "colab": {
          "background_save": true
        },
        "id": "cfUik6iT4ZVC"
      },
      "outputs": [],
      "source": [
        "# answer_list =  gen_answers(query_df= merged_queries_wo_answers,\n",
        "#                            numk = 3,\n",
        "#                            ch_type = \"stuff\",\n",
        "#                            prompt =  PROMPT)"
      ]
    },
    {
      "cell_type": "code",
      "execution_count": null,
      "metadata": {
        "colab": {
          "background_save": true
        },
        "id": "F9wS5jVnC3C3"
      },
      "outputs": [],
      "source": [
        "# #Processing the answer list\n",
        "# answer_df = pd.DataFrame(answer_list)\n",
        "# answer_df_split_a = answer_df[4].str.split(\"\\n\\nSources:\",expand=True).rename(columns={0:\"Answer\",1:\"Source\"})\n",
        "# answer_df_split_b = answer_df_split_a[\"Source\"].str.split(\"\\n\\nTime elapsed:\",expand=True).rename(columns={0:\"Source\",1:\"Time\"})\n",
        "# answer_df_split = pd.concat([answer_df_split_a[\"Answer\"],answer_df_split_b],axis=1)\n",
        "# answer_df = answer_df.drop([0],axis=1)\n",
        "# answer_df.columns = [\"Category\",\"Query\",\"Set\",\"Answer_with_source\"]\n",
        "# answer_df_final = pd.concat([answer_df,answer_df_split],axis=1)\n",
        "# answer_df_final[\"Answer\"] = answer_df_final[\"Answer\"].apply(lambda x : x.replace(\"\\n\\\\end{code}\",\"\"))"
      ]
    },
    {
      "cell_type": "markdown",
      "metadata": {
        "id": "nZgPLsTfjKmO"
      },
      "source": [
        "# Answer Accuracy\n",
        "* Rogue1: overlap of unigrams (each word) between the system and reference summaries.\n",
        "* Rogue2: refers to the overlap of bigrams between the system and reference summaries.\n",
        "* RogueL: Longest Common Subsequence (LCS).Longest common subsequence problem takes into account sentence-level structure similarity naturally and identifies longest co-occurring in sequence n-grams automatically.\n",
        "* Semantic Similarity:Semantic similarity between two pieces of text measures how their meanings are close. This measure usually is a score between 0 and 1. 0 means not close at all, and 1 means they almost have identical meaning.\n",
        "* Bleu:a number between zero and one that measures the similarity of the machine-translated text to a set of high quality reference translations."
      ]
    },
    {
      "cell_type": "code",
      "execution_count": null,
      "metadata": {
        "colab": {
          "background_save": true
        },
        "id": "REhWiGAwFfq6"
      },
      "outputs": [],
      "source": [
        "def answer_accuracy(merged_query_eval_df):\n",
        "\n",
        "  metrics = []\n",
        "\n",
        "  for j in tqdm(range(merged_query_eval_df.shape[0])):\n",
        "\n",
        "\n",
        "      #Example\n",
        "      generated_summary = merged_query_eval_df.loc[j,\"Answer\"]\n",
        "      reference_summary = merged_query_eval_df.loc[j,\"Answers\"].tolist()\n",
        "\n",
        "      model_sim = SentenceTransformer(\"sentence-transformers/all-MiniLM-L6-v2\")\n",
        "\n",
        "      ss = []\n",
        "      bleu_ = []\n",
        "      rouge1_ = []\n",
        "      rouge2_ = []\n",
        "      rougeL_ = []\n",
        "      for k in reference_summary:\n",
        "          if len(generated_summary)==0:\n",
        "             bleu_.append(0)\n",
        "             rouge1_.append(0)\n",
        "             rouge2_.append(0)\n",
        "             rougeL_.append(0)\n",
        "             ss.append(0)\n",
        "\n",
        "          else:\n",
        "\n",
        "            #BLEU\n",
        "            bleu = evaluate.load(\"bleu\")\n",
        "            bleu_results = bleu.compute(predictions=[generated_summary], references=[k])\n",
        "            bleu_.append(bleu_results[\"bleu\"])\n",
        "\n",
        "            #ROGUE\n",
        "            rouge = evaluate.load('rouge')\n",
        "            rogue_results = rouge.compute(predictions=[generated_summary], references=[k])\n",
        "            rouge1_.append(rogue_results[\"rouge1\"])\n",
        "            rouge2_.append(rogue_results[\"rouge2\"])\n",
        "            rougeL_.append(rogue_results[\"rougeL\"])\n",
        "\n",
        "            #Semantic Similarity\n",
        "            sentences = [generated_summary,k]\n",
        "            sentence_embeddings = model_sim.encode(sentences)\n",
        "\n",
        "            sentence_sim = util.pytorch_cos_sim(sentence_embeddings[0], sentence_embeddings[1])\n",
        "            ss.append(sentence_sim.item())\n",
        "\n",
        "      ss_avg = sum(ss) /len(ss)\n",
        "      bleu_avg = sum(bleu_) /len(bleu_)\n",
        "      rouge1_avg = sum(rouge1_) /len(rouge1_)\n",
        "      rouge2_avg = sum(rouge2_) /len(rouge2_)\n",
        "      rougeL_avg = sum(rougeL_) /len(rougeL_)\n",
        "\n",
        "      metrics.append([bleu_avg,rouge1_avg,rouge2_avg,rougeL_avg,ss_avg])\n",
        "\n",
        "\n",
        "  metrics_df = pd.DataFrame(metrics)\n",
        "  metrics_df.columns = [\"Bleu\",\"Rouge1\",\"Rouge2\",\"RougeL\",\"Semantic_Similarity\"]\n",
        "\n",
        "  return metrics_df\n"
      ]
    },
    {
      "cell_type": "code",
      "execution_count": null,
      "metadata": {
        "colab": {
          "background_save": true
        },
        "id": "KD-mix28F7Yr"
      },
      "outputs": [],
      "source": [
        "# merged_queries_eval_set = merged_queries.groupby([\"Category\",\"Set\",\"Queries\"])[\"Answers\"].unique().reset_index()\n",
        "# merged_queries_eval_set = pd.merge(merged_queries_eval_set,answer_df_final[[\"Category\",\"Set\",\"Query\",\"Answer\"]],left_on=[\"Category\",\"Set\",\"Queries\"],right_on=[\"Category\",\"Set\",\"Query\"])\n",
        "\n",
        "# accuracy_df = answer_accuracy(merged_query_eval_df = merged_queries_eval_set)"
      ]
    },
    {
      "cell_type": "markdown",
      "metadata": {
        "id": "fzUy9vWSKcrv"
      },
      "source": [
        "###ML Flow Tracking"
      ]
    },
    {
      "cell_type": "code",
      "execution_count": null,
      "metadata": {
        "colab": {
          "background_save": true
        },
        "id": "fol07kNCmW00",
        "outputId": "1ae5c8c1-5623-481f-e002-23a8bd7dd2cb"
      },
      "outputs": [
        {
          "name": "stdout",
          "output_type": "stream",
          "text": [
            "MLflow Tracking UI: https://cbf6-34-16-183-121.ngrok-free.app\n"
          ]
        }
      ],
      "source": [
        "# Run mlflow\n",
        "get_ipython().system_raw(\"mlflow ui --port 5000 &\") # run tracking UI in the background\n",
        "\n",
        "# Terminate open tunnels if exist\n",
        "ngrok.kill()\n",
        "\n",
        "token = \"2Wzgz3sCG1L62G85LLsg9853cr6_6Gqg8xCMb4Veep9hfsGu2\" # enter your api key (just simply sign in in the ngrok from google and get api)\n",
        "# Setting the authtoken of ngrok\n",
        "ngrok.set_auth_token(token)\n",
        "\n",
        "# Open an HTTPs tunnel on port 5000 for http://localhost:5000\n",
        "ngrok_tunnel = ngrok.connect(addr=\"5000\", proto=\"http\", bind_tls=True)\n",
        "print(\"MLflow Tracking UI:\", ngrok_tunnel.public_url)\n"
      ]
    },
    {
      "cell_type": "code",
      "execution_count": null,
      "metadata": {
        "id": "haDQBovwpGvI"
      },
      "outputs": [],
      "source": [
        "ch_size = 1000 #200,300,500,1000\n",
        "ch_overlap = 500 #25%,50%,75%\n",
        "splitter_type = \"recursive\"\n",
        "\n",
        "#Text Splitter\n",
        "texts_rcts = splitter(splitter_type,ch_size,ch_overlap,docs)\n",
        "\n",
        "# #Loading Model\n",
        "# model_name = \"llama-7b\"\n",
        "\n",
        "# tokenizer, model, max_len = get_model(model = model_name)\n",
        "\n",
        "# #Model Pipeline\n",
        "# max_new_tokens_t5 = 1024\n",
        "# min_length_t5 = 1024\n",
        "# temp = 0.6\n",
        "# topp = 0.95\n",
        "# rep_penalty = 1.15\n",
        "\n",
        "# llm = load_llm(model_name = model_name,model=model,tokenizer=tokenizer,max_len=max_len)\n",
        "\n",
        "##Initializing the embeddings\n",
        "embedding_model = \"all-MiniLM-L6-v2\" #\"all-MiniLM-L6-v2\",\"BAAI/bge-large-en-v1.5\"\n",
        "\n",
        "embeddings = SentenceTransformerEmbeddings(model_name = embedding_model)"
      ]
    },
    {
      "cell_type": "code",
      "execution_count": null,
      "metadata": {
        "id": "EnFAIoP04iDd"
      },
      "outputs": [],
      "source": [
        "len(texts_rcts)"
      ]
    },
    {
      "cell_type": "code",
      "execution_count": null,
      "metadata": {
        "id": "Y5mrHIrCrekN"
      },
      "outputs": [],
      "source": [
        "#Initializing the pinecone client\n",
        "pinecone.init(\n",
        "     api_key= \"59d977cf-c878-4da3-8e87-bc7726e2e2cd\",\n",
        "     environment= 'gcp-starter'\n",
        " )\n",
        "id_name = 'index1'\n",
        "\n",
        "# #Uploading the embedding model and the data to the pinecone index\n",
        "# vectordb = Pinecone.from_documents(texts_rcts, embeddings, index_name='index1')\n",
        "index_name = id_name\n",
        "DIMENSIONS = 384\n",
        "# Create and configure index if doesn't already exist\n",
        "if index_name not in pinecone.list_indexes():\n",
        "    pinecone.create_index(\n",
        "        name=index_name,\n",
        "        metric=\"cosine\",\n",
        "        dimension=DIMENSIONS)\n",
        "    vectordb = Pinecone.from_documents(texts_rcts, embeddings, index_name=index_name)\n",
        "\n",
        "else:\n",
        "    vectordb = Pinecone.from_existing_index(index_name, embeddings)\n",
        "\n",
        "\n",
        "# index_name = pinecone.Index(id_name)\n",
        "# vectordb = Pinecone.from_existing_index(index_name=\"index1\", embedding=embeddings)"
      ]
    },
    {
      "cell_type": "code",
      "execution_count": null,
      "metadata": {
        "id": "gcY7aDJRY-Hj"
      },
      "outputs": [],
      "source": [
        "\n",
        "#Loading Model\n",
        "model_name = \"llama-7b\"\n",
        "\n",
        "tokenizer, model, max_len = get_model(model = model_name)"
      ]
    },
    {
      "cell_type": "code",
      "execution_count": null,
      "metadata": {
        "id": "y32d8WtmKVm-"
      },
      "outputs": [],
      "source": [
        "\n",
        "\n",
        "#Model Pipeline\n",
        "# max_new_tokens_t5 = 1024\n",
        "# min_length_t5 = 1024\n",
        "temp = 0.7\n",
        "topp = 0.1\n",
        "rep_penalty = 1.15\n",
        "\n",
        "llm = load_llm(model_name = model_name,model=model,tokenizer=tokenizer,max_len=max_len,temp=temp,topp=topp,rep_penalty=rep_penalty)\n",
        "\n",
        "##Initializing the embeddings\n",
        "embedding_model = \"all-MiniLM-L6-v2\" #\"all-MiniLM-L6-v2\"\n",
        "\n",
        "embeddings = SentenceTransformerEmbeddings(model_name = embedding_model)\n",
        "\n",
        "# #Initializing the pinecone client\n",
        "# pinecone.init(\n",
        "#             api_key= \"59d977cf-c878-4da3-8e87-bc7726e2e2cd\",\n",
        "#             environment= 'gcp-starter'\n",
        "# )\n",
        "# id_name = 'index1'\n",
        "# mlflow.log_params({\n",
        "# \"index\": id_name\n",
        "# })\n",
        "\n",
        "\n",
        "# index_name = pinecone.Index(id_name)\n",
        "# vectordb = Pinecone.from_existing_index(index_name=\"index1\", embedding=embeddings)\n",
        "\n",
        "#Initializing the pinecone client\n",
        "pinecone.init(\n",
        "    api_key= \"59d977cf-c878-4da3-8e87-bc7726e2e2cd\",\n",
        "    environment= 'gcp-starter'\n",
        ")\n",
        "id_name = 'index1'\n",
        "\n",
        "\n",
        "# #Uploading the embedding model and the data to the pinecone index\n",
        "# vectordb = Pinecone.from_documents(texts_rcts, embeddings, index_name='index1')\n",
        "index_name = id_name\n",
        "DIMENSIONS = 384\n",
        "# Create and configure index if doesn't already exist\n",
        "if index_name not in pinecone.list_indexes():\n",
        "    pinecone.create_index(\n",
        "        name=index_name,\n",
        "        metric=\"cosine\",\n",
        "        dimension=DIMENSIONS)\n",
        "    vectordb = Pinecone.from_documents(texts_rcts, embeddings, index_name=index_name)\n",
        "\n",
        "else:\n",
        "    vectordb = Pinecone.from_existing_index(index_name, embeddings)\n",
        "\n",
        "#Processing queries\n",
        "set1_path = '/content/drive/MyDrive/Gen AI Case Study/Labelled Data/Labelled_Data_Set1.xlsx'\n",
        "set2_path = '/content/drive/MyDrive/Gen AI Case Study/Labelled Data/Labelled_Data_Set2.xlsx'\n",
        "query_path = '/content/drive/MyDrive/Gen AI Case Study/Queries/Queries.xlsx'\n",
        "\n",
        "merged_queries,merged_queries_wo_answers =  queries_and_labelled_data_processing(files_not_parsed,\n",
        "                                                                                path_queries = query_path\n",
        "                                                                                ,path_labelled_set1 = set1_path,\n",
        "                                                                                path_labelled_set2 = set2_path)\n",
        "\n",
        "#Answer Generation\n",
        "chaintype = \"stuff\"\n",
        "num_k = 3\n",
        "\n",
        "\n",
        "\n",
        "\n",
        "\n",
        "\n"
      ]
    },
    {
      "cell_type": "code",
      "execution_count": null,
      "metadata": {
        "id": "2wuh38GBP2Z7"
      },
      "outputs": [],
      "source": [
        "merged_queries_wo_answers_filtered = merged_queries_wo_answers[merged_queries_wo_answers[\"Queries\"] == \"How can I prepare the compressor to mount?\"]"
      ]
    },
    {
      "cell_type": "code",
      "execution_count": null,
      "metadata": {
        "colab": {
          "base_uri": "https://localhost:8080/"
        },
        "id": "uC7rgAHSDIIf",
        "outputId": "8a344227-9eef-49a7-aa3c-c6603a1919bb"
      },
      "outputs": [
        {
          "name": "stderr",
          "output_type": "stream",
          "text": [
            "100%|██████████| 1/1 [00:00<00:00, 1859.18it/s]"
          ]
        },
        {
          "name": "stdout",
          "output_type": "stream",
          "text": [
            "83 3 Set1 AirCompresssor\n"
          ]
        },
        {
          "name": "stderr",
          "output_type": "stream",
          "text": [
            "\n"
          ]
        }
      ],
      "source": [
        "query_df= merged_queries_wo_answers_filtered\n",
        "numk = 3\n",
        "ch_type = chaintype\n",
        "prompt =  PROMPT\n",
        "for i in tqdm(query_df.index):\n",
        "\n",
        "  cat = query_df.loc[i,\"Category\"]\n",
        "  query = query_df.loc[i,\"Queries\"]\n",
        "  sett = query_df.loc[i,\"Set\"]\n",
        "\n",
        "  settype = sett\n",
        "  if sett == \"Set1\":\n",
        "    cattype = cat\n",
        "  else:\n",
        "    cattype = \"NA\"\n",
        "\n",
        "\n",
        "  #Retriever chain for question answering\n",
        "  print(i,numk,settype,cattype)\n",
        "  retriever = vectordb.as_retriever(search_kwargs = {\"k\": numk,\n",
        "                                                      'filter': {'set':settype,\n",
        "                                                                'category':cattype}})\n",
        "\n",
        "\n"
      ]
    },
    {
      "cell_type": "code",
      "execution_count": null,
      "metadata": {
        "colab": {
          "base_uri": "https://localhost:8080/"
        },
        "id": "O5AVtiaZEdLp",
        "outputId": "8bdedf01-b445-4eee-a40f-6c55f3d03f8b"
      },
      "outputs": [
        {
          "data": {
            "text/plain": [
              "[Document(page_content='threaded inlet port on the compressor head (finger tight).\\r\\nSTEP 3 - MOUNT THE COMPRESSOR\\r\\nBegin by removing the negative battery cable. Select a convenient location\\r\\nto mount the compressor. This location should provide ample air flow and be\\r\\nprotected from airborne debris and moisture. The mounting surface should be\\r\\nrigid to support the compressor, such as under the hood on a fender well or in\\r\\na vented storage compartment. The compressor is oil-less and can be mounted', metadata={'category': 'AirCompresssor', 'charcount': 4227.0, 'filename': 'Black_Decker_AirCompresssor_Nil1_Editable.pdf', 'page': 2.0, 'set': 'Set1', 'source': '/content/drive/My Drive/Gen AI Case Study/PDF Documents/Set1/Black_Decker_AirCompresssor_Nil1_Editable.pdf'}),\n",
              " Document(page_content='protected from airborne debris and moisture. The mounting surface should be\\r\\nrigid to support the compressor, such as under the hood on a fender well or in\\r\\na vented storage compartment. The compressor is oil-less and can be mounted\\r\\nin any orientation necessary for installation.\\r\\nUsing the compressor template and a center punch, mark and drill three\\r\\n3/16\" holes. Any burrs in the holes should be removed to prevent damage to the', metadata={'category': 'AirCompresssor', 'charcount': 4227.0, 'filename': 'Black_Decker_AirCompresssor_Nil1_Editable.pdf', 'page': 2.0, 'set': 'Set1', 'source': '/content/drive/My Drive/Gen AI Case Study/PDF Documents/Set1/Black_Decker_AirCompresssor_Nil1_Editable.pdf'}),\n",
              " Document(page_content='Using the control panel as a template, mark each of the mounting points with a\\r\\ncenter punch. Drill a 3/16\" diameter hole on each center mark see Figure \"B\".\\r\\nDo not attach the control panel at this time.\\r\\nSTEP 2 - PREPARE THE COMPRESSOR\\r\\nInstall the rubber isolator feet to the compressor from the bottom of the\\r\\ncompressor foot. Insert the brass sleeve into the top of the rubber isolator foot\\r\\nsee Figure \"C\". Install the push-to-connect male fitting into the threaded', metadata={'category': 'AirCompresssor', 'charcount': 4227.0, 'filename': 'Black_Decker_AirCompresssor_Nil1_Editable.pdf', 'page': 2.0, 'set': 'Set1', 'source': '/content/drive/My Drive/Gen AI Case Study/PDF Documents/Set1/Black_Decker_AirCompresssor_Nil1_Editable.pdf'})]"
            ]
          },
          "execution_count": 81,
          "metadata": {},
          "output_type": "execute_result"
        }
      ],
      "source": [
        "\n",
        "retriever.get_relevant_documents(query)"
      ]
    },
    {
      "cell_type": "code",
      "execution_count": null,
      "metadata": {
        "id": "X1CsszpaigFO"
      },
      "outputs": [],
      "source": [
        "#Observations:\n",
        "#Chunks of character size 300 too short (Misses out on a portion of the answer)\n",
        "#"
      ]
    },
    {
      "cell_type": "code",
      "execution_count": null,
      "metadata": {
        "colab": {
          "base_uri": "https://localhost:8080/"
        },
        "id": "M7TljR6pRnP7",
        "outputId": "de4864b2-5c0b-4123-f491-97a02caf737c"
      },
      "outputs": [
        {
          "name": "stderr",
          "output_type": "stream",
          "text": [
            "\r  0%|          | 0/1 [00:00<?, ?it/s]"
          ]
        },
        {
          "name": "stdout",
          "output_type": "stream",
          "text": [
            "83 3 Set1 AirCompresssor\n"
          ]
        },
        {
          "name": "stderr",
          "output_type": "stream",
          "text": [
            "100%|██████████| 1/1 [00:33<00:00, 33.05s/it]\n"
          ]
        },
        {
          "data": {
            "text/plain": [
              "[[83,\n",
              "  'AirCompresssor',\n",
              "  'How can I prepare the compressor to mount?',\n",
              "  'Set1',\n",
              "  ' You need to install the rubber isolators first then insert the brass\\nsleeves into the top of the rubber isolator feet. Then install the push-to-\\nconnect male fitting into the threaded inlet port on the compressor head (finger\\ntight) see Figure \"D\".\\n\\n\\\\begin{figure}[H]\\n    \\\\centering\\n        \\\\includegraphics[width=0.95\\\\linewidth]{images/Figure_A.png}\\n        \\\\captionof*{figure}{The compressor template.}\\n    \\\\end{figure}\\n    \\\\begin{figure}[H]\\n        \\\\centering\\n            \\\\includegraphics[width=\\\\linewidth]{images/Figure_B.jpg}\\n            \\\\captionof*{figure}{Drilling the holes.}\\n        \\\\end{figure}\\n    \\\\begin{figure}[H]\\n        \\\\centering\\n            \\\\includegraphics[width=\\\\linewidth]{images/Figure_C.jpg}\\n            \\\\captionof*{figure}{Installing the rubber isolation feet.}\\n        \\\\end{figure}\\n    \\\\begin{figure}[H]\\n        \\\\centering\\n            \\\\includegraphics[width=\\\\linewidth]{images/Figure_D.jpg}\\n            \\\\captionof*{figure}{Preparing the compressor to mount.}\\n        \\\\end{figure}\\n\\\\end{document}\\n\\\\end{code}\\n\\nSources: \\nBlack_Decker_AirCompresssor_Nil1_Editable - page: 2.0 \\nBlack_Decker_AirCompresssor_Nil1_Editable - page: 2.0 \\nBlack_Decker_AirCompresssor_Nil1_Editable - page: 2.0\\n\\nTime elapsed: 32 s']]"
            ]
          },
          "execution_count": 90,
          "metadata": {},
          "output_type": "execute_result"
        }
      ],
      "source": [
        "gen_answers(query_df= merged_queries_wo_answers_filtered,\n",
        "                          numk = num_k,\n",
        "                          ch_type = chaintype,\n",
        "                          prompt =  PROMPT)"
      ]
    },
    {
      "cell_type": "code",
      "execution_count": null,
      "metadata": {
        "id": "Fgf3aEBoKx3G"
      },
      "outputs": [],
      "source": [
        "answer_list =  gen_answers(query_df= merged_queries_wo_answers,\n",
        "                          numk = num_k,\n",
        "                          ch_type = chaintype,\n",
        "                          prompt =  PROMPT)\n",
        "\n",
        "#Processing the answer list\n",
        "answer_df = pd.DataFrame(answer_list)\n",
        "answer_df_split_a = answer_df[4].str.split(\"\\n\\nSources:\",expand=True).rename(columns={0:\"Answer\",1:\"Source\"})\n",
        "answer_df_split_b = answer_df_split_a[\"Source\"].str.split(\"\\n\\nTime elapsed:\",expand=True).rename(columns={0:\"Source\",1:\"Time\"})\n",
        "answer_df_split = pd.concat([answer_df_split_a[\"Answer\"],answer_df_split_b],axis=1)\n",
        "answer_df = answer_df.drop([0],axis=1)\n",
        "answer_df.columns = [\"Category\",\"Query\",\"Set\",\"Answer_with_source\"]\n",
        "answer_df_final = pd.concat([answer_df,answer_df_split],axis=1)\n",
        "answer_df_final[\"Answer\"] = answer_df_final[\"Answer\"].apply(lambda x : x.replace(\"\\n\\\\end{code}\",\"\"))\n",
        "\n",
        "#Evaluation\n",
        "merged_queries_eval_set = merged_queries.groupby([\"Category\",\"Set\",\"Queries\"])[\"Answers\"].unique().reset_index()\n",
        "merged_queries_eval_set = pd.merge(merged_queries_eval_set,answer_df_final[[\"Category\",\"Set\",\"Query\",\"Answer\"]],left_on=[\"Category\",\"Set\",\"Queries\"],right_on=[\"Category\",\"Set\",\"Query\"])\n",
        "\n",
        "accuracy_df = answer_accuracy(merged_query_eval_df = merged_queries_eval_set)\n",
        "mean_accuracy = accuracy_df[[\"Bleu\",\"Rouge1\",\"Rouge2\",\"RougeL\",\"Semantic_Similarity\"]].mean()"
      ]
    },
    {
      "cell_type": "code",
      "execution_count": null,
      "metadata": {
        "colab": {
          "base_uri": "https://localhost:8080/",
          "height": 1000,
          "referenced_widgets": [
            "c41ac92e99544c2ab764bb1922b45a15",
            "be902c31fdf74a0a8f7f10038505ace8",
            "68d0fbabaa144aafa84d73303e0d8abe",
            "53c77c200fa74525b6e52390dec9bdc0",
            "9f5da0b68cea46f8967c199930974d6c",
            "e5962423c0014524a93cb55fb03459d3",
            "a6839c5be44046d0bb59f40587c3abb7",
            "f62c98a82f2f49ea9bad01c3d9406696",
            "93e47d5adaa9422f9c39a4a8e807008b",
            "1000c82400f1438cbbe52675b71a7003",
            "6b19c3132a184d31b4c2e26d7f8e9c69",
            "f3a470dff09d4cfbadac3d52a5128a9d",
            "ea0e9a6ab474406eb5c5c1f9fff0fd0a",
            "f7f35f1896754d1198e1d144ffd20571",
            "6b24ffe20abc4127b2c4437e9b7526f7",
            "5cb5a80947904d3f834fd4753469dcbc",
            "cbb4c8a5ee4a4ce6930e3ad292b61e7b",
            "3e2000e3029e46dda394c749582130f5",
            "4400bb483bf74413b83db4edc843b021",
            "67006f00f0bd4e80b8102d209513f7e1",
            "2938328e37e94f4babfdc62888b312b8",
            "14a92c9dafb943b2a62908aeee0193fe",
            "f5fc1ccf79624491956ab8b165f842db",
            "fc7ffedab8ec4432bf054e5cfd80606d",
            "fa31705d750b4cf1a80f56ff74079c1f",
            "131d645210bf438c9fcefbab0cd688fa",
            "8460ec1514244d6c98607caae81dff9c",
            "f21e990fa1354848adac62f0b2e93f1e",
            "996f21ee74174dcbb52bbf2b33293dd6",
            "dbf7c6814dac478ba7994ab234ac9fba",
            "8e30a112229742c0b10098f2962f0f4c",
            "72edf09bb95544d79d89af50729d7e8d",
            "5264d4ba3e324668b521b1759443cd4e",
            "814aca51f0a14e3bb4b619d784a16a13",
            "cea34dcc0ce94f0db85fadbbbb09d16c",
            "a3a0f341330a44faa36caebe1940c59b",
            "af71769708e64ff88a8226cd37b08abb",
            "18b2adb19c894a018677212bd722c8fe",
            "5cde6ece294741f4b9c8996a83b8dc7a",
            "c65c23fede434ff9bc1c219734be0a83",
            "31f8cb95125442b590bc2b1026a3e1c8",
            "34a53909a73142a7acb15375d369300e",
            "b698a593691140c9a638619677729c45",
            "414a7763a154492c89d58ca31976a5eb",
            "2486c7c9d402484b8b93be5dcc9d2b17",
            "e9967f878af94215bf7595e5964635bc",
            "42e2959b74d44018984aa2c6244c0e93",
            "fcaf7af3033f40d8ae090acd18f32413",
            "8049bff70bdf431098029099f7414ae0",
            "9596608d7f9a4c6983425d1af2d51e0e",
            "35dd9902e62a4572a86c08f363f9e361",
            "3d893b95fcdd41249fc0c98ab971239d",
            "c0f9482c8661440895240148c50fe768",
            "bd6d0789703a479e81c289dd44d9e848",
            "272e0d72f35a4a07a3e1d9fa8c257a2d"
          ]
        },
        "id": "7a2FF0CLKaRz",
        "outputId": "9dfbca61-26ff-42a8-d754-692b1a1d17a1"
      },
      "outputs": [
        {
          "name": "stdout",
          "output_type": "stream",
          "text": [
            "\n",
            "Downloading model:  llama-7b \n",
            "\n",
            "\n"
          ]
        },
        {
          "name": "stderr",
          "output_type": "stream",
          "text": [
            "The `load_in_4bit` and `load_in_8bit` arguments are deprecated and will be removed in the future versions. Please, pass a `BitsAndBytesConfig` object in `quantization_config` argument instead.\n",
            "`low_cpu_mem_usage` was None, now set to True since model is quantized.\n"
          ]
        },
        {
          "data": {
            "application/vnd.jupyter.widget-view+json": {
              "model_id": "c41ac92e99544c2ab764bb1922b45a15",
              "version_major": 2,
              "version_minor": 0
            },
            "text/plain": [
              "Loading checkpoint shards:   0%|          | 0/2 [00:00<?, ?it/s]"
            ]
          },
          "metadata": {},
          "output_type": "display_data"
        },
        {
          "name": "stderr",
          "output_type": "stream",
          "text": [
            "\r  0%|          | 0/78 [00:00<?, ?it/s]"
          ]
        },
        {
          "name": "stdout",
          "output_type": "stream",
          "text": [
            "0 3 Set2 NA\n"
          ]
        },
        {
          "name": "stderr",
          "output_type": "stream",
          "text": [
            "\r  1%|▏         | 1/78 [00:05<06:58,  5.44s/it]"
          ]
        },
        {
          "name": "stdout",
          "output_type": "stream",
          "text": [
            "2 3 Set1 Trimmer\n"
          ]
        },
        {
          "name": "stderr",
          "output_type": "stream",
          "text": [
            "\r  3%|▎         | 2/78 [00:11<07:11,  5.68s/it]"
          ]
        },
        {
          "name": "stdout",
          "output_type": "stream",
          "text": [
            "3 3 Set2 NA\n"
          ]
        },
        {
          "name": "stderr",
          "output_type": "stream",
          "text": [
            "\r  4%|▍         | 3/78 [00:20<09:00,  7.21s/it]"
          ]
        },
        {
          "name": "stdout",
          "output_type": "stream",
          "text": [
            "4 3 Set2 NA\n"
          ]
        },
        {
          "name": "stderr",
          "output_type": "stream",
          "text": [
            "\r  5%|▌         | 4/78 [02:51<1:18:57, 64.02s/it]"
          ]
        },
        {
          "name": "stdout",
          "output_type": "stream",
          "text": [
            "5 3 Set2 NA\n"
          ]
        },
        {
          "name": "stderr",
          "output_type": "stream",
          "text": [
            "\r  6%|▋         | 5/78 [03:00<53:40, 44.12s/it]  "
          ]
        },
        {
          "name": "stdout",
          "output_type": "stream",
          "text": [
            "6 3 Set2 NA\n"
          ]
        },
        {
          "name": "stderr",
          "output_type": "stream",
          "text": [
            "\r  8%|▊         | 6/78 [03:06<37:34, 31.31s/it]"
          ]
        },
        {
          "name": "stdout",
          "output_type": "stream",
          "text": [
            "7 3 Set1 Fans(Misc.)\n"
          ]
        },
        {
          "name": "stderr",
          "output_type": "stream",
          "text": [
            "\r  9%|▉         | 7/78 [03:24<31:40, 26.76s/it]"
          ]
        },
        {
          "name": "stdout",
          "output_type": "stream",
          "text": [
            "9 3 Set1 VacuumCleaner\n"
          ]
        },
        {
          "name": "stderr",
          "output_type": "stream",
          "text": [
            "\r 10%|█         | 8/78 [03:29<23:17, 19.97s/it]"
          ]
        },
        {
          "name": "stdout",
          "output_type": "stream",
          "text": [
            "10 3 Set1 VacuumCleaner\n"
          ]
        },
        {
          "name": "stderr",
          "output_type": "stream",
          "text": [
            "\r 12%|█▏        | 9/78 [03:35<17:48, 15.49s/it]"
          ]
        },
        {
          "name": "stdout",
          "output_type": "stream",
          "text": [
            "11 3 Set2 NA\n"
          ]
        },
        {
          "name": "stderr",
          "output_type": "stream",
          "text": [
            "\r 13%|█▎        | 10/78 [03:40<14:07, 12.47s/it]"
          ]
        },
        {
          "name": "stdout",
          "output_type": "stream",
          "text": [
            "12 3 Set1 Freezer\n"
          ]
        },
        {
          "name": "stderr",
          "output_type": "stream",
          "text": [
            "/usr/local/lib/python3.10/dist-packages/transformers/pipelines/base.py:1157: UserWarning: You seem to be using the pipelines sequentially on GPU. In order to maximize efficiency please use a dataset\n",
            "  warnings.warn(\n",
            " 14%|█▍        | 11/78 [03:48<12:17, 11.01s/it]/usr/local/lib/python3.10/dist-packages/transformers/pipelines/base.py:1157: UserWarning: You seem to be using the pipelines sequentially on GPU. In order to maximize efficiency please use a dataset\n",
            "  warnings.warn(\n"
          ]
        },
        {
          "name": "stdout",
          "output_type": "stream",
          "text": [
            "13 3 Set2 NA\n"
          ]
        },
        {
          "name": "stderr",
          "output_type": "stream",
          "text": [
            "\r 15%|█▌        | 12/78 [06:15<57:27, 52.23s/it]"
          ]
        },
        {
          "name": "stdout",
          "output_type": "stream",
          "text": [
            "14 3 Set1 Iron\n"
          ]
        },
        {
          "name": "stderr",
          "output_type": "stream",
          "text": [
            "/usr/local/lib/python3.10/dist-packages/transformers/pipelines/base.py:1157: UserWarning: You seem to be using the pipelines sequentially on GPU. In order to maximize efficiency please use a dataset\n",
            "  warnings.warn(\n",
            " 17%|█▋        | 13/78 [06:24<42:41, 39.41s/it]"
          ]
        },
        {
          "name": "stdout",
          "output_type": "stream",
          "text": [
            "17 3 Set2 NA\n"
          ]
        },
        {
          "name": "stderr",
          "output_type": "stream",
          "text": [
            "/usr/local/lib/python3.10/dist-packages/transformers/pipelines/base.py:1157: UserWarning: You seem to be using the pipelines sequentially on GPU. In order to maximize efficiency please use a dataset\n",
            "  warnings.warn(\n",
            " 18%|█▊        | 14/78 [06:30<31:07, 29.18s/it]"
          ]
        },
        {
          "name": "stdout",
          "output_type": "stream",
          "text": [
            "19 3 Set1 Fans(Misc.)\n"
          ]
        },
        {
          "name": "stderr",
          "output_type": "stream",
          "text": [
            "/usr/local/lib/python3.10/dist-packages/transformers/pipelines/base.py:1157: UserWarning: You seem to be using the pipelines sequentially on GPU. In order to maximize efficiency please use a dataset\n",
            "  warnings.warn(\n",
            " 19%|█▉        | 15/78 [06:38<23:56, 22.80s/it]/usr/local/lib/python3.10/dist-packages/transformers/pipelines/base.py:1157: UserWarning: You seem to be using the pipelines sequentially on GPU. In order to maximize efficiency please use a dataset\n",
            "  warnings.warn(\n"
          ]
        },
        {
          "name": "stdout",
          "output_type": "stream",
          "text": [
            "20 3 Set1 Fans(Misc.)\n"
          ]
        },
        {
          "name": "stderr",
          "output_type": "stream",
          "text": [
            "\r 21%|██        | 16/78 [06:44<18:15, 17.68s/it]/usr/local/lib/python3.10/dist-packages/transformers/pipelines/base.py:1157: UserWarning: You seem to be using the pipelines sequentially on GPU. In order to maximize efficiency please use a dataset\n",
            "  warnings.warn(\n"
          ]
        },
        {
          "name": "stdout",
          "output_type": "stream",
          "text": [
            "21 3 Set1 Freezer\n"
          ]
        },
        {
          "name": "stderr",
          "output_type": "stream",
          "text": [
            "\r 22%|██▏       | 17/78 [06:51<14:46, 14.53s/it]/usr/local/lib/python3.10/dist-packages/transformers/pipelines/base.py:1157: UserWarning: You seem to be using the pipelines sequentially on GPU. In order to maximize efficiency please use a dataset\n",
            "  warnings.warn(\n"
          ]
        },
        {
          "name": "stdout",
          "output_type": "stream",
          "text": [
            "22 3 Set2 NA\n"
          ]
        },
        {
          "name": "stderr",
          "output_type": "stream",
          "text": [
            "\r 23%|██▎       | 18/78 [07:07<15:02, 15.05s/it]"
          ]
        },
        {
          "name": "stdout",
          "output_type": "stream",
          "text": [
            "23 3 Set2 NA\n"
          ]
        },
        {
          "name": "stderr",
          "output_type": "stream",
          "text": [
            "/usr/local/lib/python3.10/dist-packages/transformers/pipelines/base.py:1157: UserWarning: You seem to be using the pipelines sequentially on GPU. In order to maximize efficiency please use a dataset\n",
            "  warnings.warn(\n",
            " 24%|██▍       | 19/78 [07:15<12:37, 12.84s/it]/usr/local/lib/python3.10/dist-packages/transformers/pipelines/base.py:1157: UserWarning: You seem to be using the pipelines sequentially on GPU. In order to maximize efficiency please use a dataset\n",
            "  warnings.warn(\n"
          ]
        },
        {
          "name": "stdout",
          "output_type": "stream",
          "text": [
            "25 3 Set2 NA\n"
          ]
        },
        {
          "name": "stderr",
          "output_type": "stream",
          "text": [
            "\r 26%|██▌       | 20/78 [07:21<10:26, 10.80s/it]"
          ]
        },
        {
          "name": "stdout",
          "output_type": "stream",
          "text": [
            "28 3 Set2 NA\n"
          ]
        },
        {
          "name": "stderr",
          "output_type": "stream",
          "text": [
            "/usr/local/lib/python3.10/dist-packages/transformers/pipelines/base.py:1157: UserWarning: You seem to be using the pipelines sequentially on GPU. In order to maximize efficiency please use a dataset\n",
            "  warnings.warn(\n",
            " 27%|██▋       | 21/78 [09:51<50:01, 52.65s/it]"
          ]
        },
        {
          "name": "stdout",
          "output_type": "stream",
          "text": [
            "29 3 Set1 Drill\n"
          ]
        },
        {
          "name": "stderr",
          "output_type": "stream",
          "text": [
            "/usr/local/lib/python3.10/dist-packages/transformers/pipelines/base.py:1157: UserWarning: You seem to be using the pipelines sequentially on GPU. In order to maximize efficiency please use a dataset\n",
            "  warnings.warn(\n",
            " 28%|██▊       | 22/78 [10:21<42:45, 45.81s/it]"
          ]
        },
        {
          "name": "stdout",
          "output_type": "stream",
          "text": [
            "30 3 Set2 NA\n"
          ]
        },
        {
          "name": "stderr",
          "output_type": "stream",
          "text": [
            "/usr/local/lib/python3.10/dist-packages/transformers/pipelines/base.py:1157: UserWarning: You seem to be using the pipelines sequentially on GPU. In order to maximize efficiency please use a dataset\n",
            "  warnings.warn(\n",
            " 29%|██▉       | 23/78 [10:30<31:43, 34.61s/it]"
          ]
        },
        {
          "name": "stdout",
          "output_type": "stream",
          "text": [
            "31 3 Set2 NA\n"
          ]
        },
        {
          "name": "stderr",
          "output_type": "stream",
          "text": [
            "/usr/local/lib/python3.10/dist-packages/transformers/pipelines/base.py:1157: UserWarning: You seem to be using the pipelines sequentially on GPU. In order to maximize efficiency please use a dataset\n",
            "  warnings.warn(\n",
            " 31%|███       | 24/78 [12:58<1:01:59, 68.88s/it]"
          ]
        },
        {
          "name": "stdout",
          "output_type": "stream",
          "text": [
            "32 3 Set2 NA\n"
          ]
        },
        {
          "name": "stderr",
          "output_type": "stream",
          "text": [
            "/usr/local/lib/python3.10/dist-packages/transformers/pipelines/base.py:1157: UserWarning: You seem to be using the pipelines sequentially on GPU. In order to maximize efficiency please use a dataset\n",
            "  warnings.warn(\n",
            " 32%|███▏      | 25/78 [13:10<45:41, 51.72s/it]  "
          ]
        },
        {
          "name": "stdout",
          "output_type": "stream",
          "text": [
            "35 3 Set1 CoffeeMaker\n"
          ]
        },
        {
          "name": "stderr",
          "output_type": "stream",
          "text": [
            "/usr/local/lib/python3.10/dist-packages/transformers/pipelines/base.py:1157: UserWarning: You seem to be using the pipelines sequentially on GPU. In order to maximize efficiency please use a dataset\n",
            "  warnings.warn(\n",
            " 33%|███▎      | 26/78 [13:19<33:37, 38.79s/it]"
          ]
        },
        {
          "name": "stdout",
          "output_type": "stream",
          "text": [
            "36 3 Set1 Blender\n"
          ]
        },
        {
          "name": "stderr",
          "output_type": "stream",
          "text": [
            "/usr/local/lib/python3.10/dist-packages/transformers/pipelines/base.py:1157: UserWarning: You seem to be using the pipelines sequentially on GPU. In order to maximize efficiency please use a dataset\n",
            "  warnings.warn(\n",
            " 35%|███▍      | 27/78 [13:28<25:29, 29.99s/it]"
          ]
        },
        {
          "name": "stdout",
          "output_type": "stream",
          "text": [
            "37 3 Set1 Blender\n"
          ]
        },
        {
          "name": "stderr",
          "output_type": "stream",
          "text": [
            "/usr/local/lib/python3.10/dist-packages/transformers/pipelines/base.py:1157: UserWarning: You seem to be using the pipelines sequentially on GPU. In order to maximize efficiency please use a dataset\n",
            "  warnings.warn(\n",
            " 36%|███▌      | 28/78 [13:36<19:28, 23.37s/it]/usr/local/lib/python3.10/dist-packages/transformers/pipelines/base.py:1157: UserWarning: You seem to be using the pipelines sequentially on GPU. In order to maximize efficiency please use a dataset\n",
            "  warnings.warn(\n"
          ]
        },
        {
          "name": "stdout",
          "output_type": "stream",
          "text": [
            "38 3 Set1 Drill\n"
          ]
        },
        {
          "name": "stderr",
          "output_type": "stream",
          "text": [
            "\r 37%|███▋      | 29/78 [13:41<14:34, 17.85s/it]/usr/local/lib/python3.10/dist-packages/transformers/pipelines/base.py:1157: UserWarning: You seem to be using the pipelines sequentially on GPU. In order to maximize efficiency please use a dataset\n",
            "  warnings.warn(\n"
          ]
        },
        {
          "name": "stdout",
          "output_type": "stream",
          "text": [
            "39 3 Set1 AirCompresssor\n"
          ]
        },
        {
          "name": "stderr",
          "output_type": "stream",
          "text": [
            "\r 38%|███▊      | 30/78 [13:47<11:24, 14.25s/it]/usr/local/lib/python3.10/dist-packages/transformers/pipelines/base.py:1157: UserWarning: You seem to be using the pipelines sequentially on GPU. In order to maximize efficiency please use a dataset\n",
            "  warnings.warn(\n"
          ]
        },
        {
          "name": "stdout",
          "output_type": "stream",
          "text": [
            "40 3 Set2 NA\n"
          ]
        },
        {
          "name": "stderr",
          "output_type": "stream",
          "text": [
            "\r 40%|███▉      | 31/78 [13:52<08:54, 11.36s/it]/usr/local/lib/python3.10/dist-packages/transformers/pipelines/base.py:1157: UserWarning: You seem to be using the pipelines sequentially on GPU. In order to maximize efficiency please use a dataset\n",
            "  warnings.warn(\n"
          ]
        },
        {
          "name": "stdout",
          "output_type": "stream",
          "text": [
            "41 3 Set2 NA\n"
          ]
        },
        {
          "name": "stderr",
          "output_type": "stream",
          "text": [
            "\r 41%|████      | 32/78 [15:55<34:25, 44.90s/it]/usr/local/lib/python3.10/dist-packages/transformers/pipelines/base.py:1157: UserWarning: You seem to be using the pipelines sequentially on GPU. In order to maximize efficiency please use a dataset\n",
            "  warnings.warn(\n"
          ]
        },
        {
          "name": "stdout",
          "output_type": "stream",
          "text": [
            "42 3 Set2 NA\n"
          ]
        },
        {
          "name": "stderr",
          "output_type": "stream",
          "text": [
            "\r 42%|████▏     | 33/78 [16:01<24:52, 33.16s/it]/usr/local/lib/python3.10/dist-packages/transformers/pipelines/base.py:1157: UserWarning: You seem to be using the pipelines sequentially on GPU. In order to maximize efficiency please use a dataset\n",
            "  warnings.warn(\n"
          ]
        },
        {
          "name": "stdout",
          "output_type": "stream",
          "text": [
            "44 3 Set1 Freezer\n"
          ]
        },
        {
          "name": "stderr",
          "output_type": "stream",
          "text": [
            "\r 44%|████▎     | 34/78 [16:06<18:10, 24.78s/it]"
          ]
        },
        {
          "name": "stdout",
          "output_type": "stream",
          "text": [
            "45 3 Set1 Iron\n"
          ]
        },
        {
          "name": "stderr",
          "output_type": "stream",
          "text": [
            "/usr/local/lib/python3.10/dist-packages/transformers/pipelines/base.py:1157: UserWarning: You seem to be using the pipelines sequentially on GPU. In order to maximize efficiency please use a dataset\n",
            "  warnings.warn(\n",
            " 45%|████▍     | 35/78 [16:29<17:21, 24.22s/it]/usr/local/lib/python3.10/dist-packages/transformers/pipelines/base.py:1157: UserWarning: You seem to be using the pipelines sequentially on GPU. In order to maximize efficiency please use a dataset\n",
            "  warnings.warn(\n"
          ]
        },
        {
          "name": "stdout",
          "output_type": "stream",
          "text": [
            "48 3 Set2 NA\n"
          ]
        },
        {
          "name": "stderr",
          "output_type": "stream",
          "text": [
            "\r 46%|████▌     | 36/78 [16:36<13:22, 19.10s/it]/usr/local/lib/python3.10/dist-packages/transformers/pipelines/base.py:1157: UserWarning: You seem to be using the pipelines sequentially on GPU. In order to maximize efficiency please use a dataset\n",
            "  warnings.warn(\n"
          ]
        },
        {
          "name": "stdout",
          "output_type": "stream",
          "text": [
            "49 3 Set2 NA\n"
          ]
        },
        {
          "name": "stderr",
          "output_type": "stream",
          "text": [
            "\r 47%|████▋     | 37/78 [16:41<10:15, 15.01s/it]"
          ]
        },
        {
          "name": "stdout",
          "output_type": "stream",
          "text": [
            "50 3 Set2 NA\n"
          ]
        },
        {
          "name": "stderr",
          "output_type": "stream",
          "text": [
            "/usr/local/lib/python3.10/dist-packages/transformers/pipelines/base.py:1157: UserWarning: You seem to be using the pipelines sequentially on GPU. In order to maximize efficiency please use a dataset\n",
            "  warnings.warn(\n",
            " 49%|████▊     | 38/78 [16:50<08:39, 12.99s/it]"
          ]
        },
        {
          "name": "stdout",
          "output_type": "stream",
          "text": [
            "52 3 Set1 FoodProcessor\n"
          ]
        },
        {
          "name": "stderr",
          "output_type": "stream",
          "text": [
            "/usr/local/lib/python3.10/dist-packages/transformers/pipelines/base.py:1157: UserWarning: You seem to be using the pipelines sequentially on GPU. In order to maximize efficiency please use a dataset\n",
            "  warnings.warn(\n",
            " 50%|█████     | 39/78 [17:00<07:51, 12.08s/it]/usr/local/lib/python3.10/dist-packages/transformers/pipelines/base.py:1157: UserWarning: You seem to be using the pipelines sequentially on GPU. In order to maximize efficiency please use a dataset\n",
            "  warnings.warn(\n"
          ]
        },
        {
          "name": "stdout",
          "output_type": "stream",
          "text": [
            "53 3 Set1 Freezer\n"
          ]
        },
        {
          "name": "stderr",
          "output_type": "stream",
          "text": [
            "\r 51%|█████▏    | 40/78 [19:25<32:59, 52.08s/it]/usr/local/lib/python3.10/dist-packages/transformers/pipelines/base.py:1157: UserWarning: You seem to be using the pipelines sequentially on GPU. In order to maximize efficiency please use a dataset\n",
            "  warnings.warn(\n"
          ]
        },
        {
          "name": "stdout",
          "output_type": "stream",
          "text": [
            "54 3 Set2 NA\n"
          ]
        },
        {
          "name": "stderr",
          "output_type": "stream",
          "text": [
            "\r 53%|█████▎    | 41/78 [19:40<25:17, 41.02s/it]"
          ]
        },
        {
          "name": "stdout",
          "output_type": "stream",
          "text": [
            "55 3 Set2 NA\n"
          ]
        },
        {
          "name": "stderr",
          "output_type": "stream",
          "text": [
            "/usr/local/lib/python3.10/dist-packages/transformers/pipelines/base.py:1157: UserWarning: You seem to be using the pipelines sequentially on GPU. In order to maximize efficiency please use a dataset\n",
            "  warnings.warn(\n",
            " 54%|█████▍    | 42/78 [19:47<18:26, 30.72s/it]"
          ]
        },
        {
          "name": "stdout",
          "output_type": "stream",
          "text": [
            "61 3 Set1 FoodProcessor\n"
          ]
        },
        {
          "name": "stderr",
          "output_type": "stream",
          "text": [
            "/usr/local/lib/python3.10/dist-packages/transformers/pipelines/base.py:1157: UserWarning: You seem to be using the pipelines sequentially on GPU. In order to maximize efficiency please use a dataset\n",
            "  warnings.warn(\n",
            " 55%|█████▌    | 43/78 [19:53<13:33, 23.24s/it]/usr/local/lib/python3.10/dist-packages/transformers/pipelines/base.py:1157: UserWarning: You seem to be using the pipelines sequentially on GPU. In order to maximize efficiency please use a dataset\n",
            "  warnings.warn(\n"
          ]
        },
        {
          "name": "stdout",
          "output_type": "stream",
          "text": [
            "62 3 Set1 Blender\n"
          ]
        },
        {
          "name": "stderr",
          "output_type": "stream",
          "text": [
            "\r 56%|█████▋    | 44/78 [19:58<10:04, 17.76s/it]"
          ]
        },
        {
          "name": "stdout",
          "output_type": "stream",
          "text": [
            "63 3 Set2 NA\n"
          ]
        },
        {
          "name": "stderr",
          "output_type": "stream",
          "text": [
            "/usr/local/lib/python3.10/dist-packages/transformers/pipelines/base.py:1157: UserWarning: You seem to be using the pipelines sequentially on GPU. In order to maximize efficiency please use a dataset\n",
            "  warnings.warn(\n",
            " 58%|█████▊    | 45/78 [20:07<08:22, 15.24s/it]/usr/local/lib/python3.10/dist-packages/transformers/pipelines/base.py:1157: UserWarning: You seem to be using the pipelines sequentially on GPU. In order to maximize efficiency please use a dataset\n",
            "  warnings.warn(\n"
          ]
        },
        {
          "name": "stdout",
          "output_type": "stream",
          "text": [
            "67 3 Set2 NA\n"
          ]
        },
        {
          "name": "stderr",
          "output_type": "stream",
          "text": [
            "\r 59%|█████▉    | 46/78 [20:10<06:15, 11.73s/it]/usr/local/lib/python3.10/dist-packages/transformers/pipelines/base.py:1157: UserWarning: You seem to be using the pipelines sequentially on GPU. In order to maximize efficiency please use a dataset\n",
            "  warnings.warn(\n"
          ]
        },
        {
          "name": "stdout",
          "output_type": "stream",
          "text": [
            "69 3 Set1 Blender\n"
          ]
        },
        {
          "name": "stderr",
          "output_type": "stream",
          "text": [
            "\r 60%|██████    | 47/78 [22:19<24:06, 46.66s/it]"
          ]
        },
        {
          "name": "stdout",
          "output_type": "stream",
          "text": [
            "70 3 Set1 AirCompresssor\n"
          ]
        },
        {
          "name": "stderr",
          "output_type": "stream",
          "text": [
            "/usr/local/lib/python3.10/dist-packages/transformers/pipelines/base.py:1157: UserWarning: You seem to be using the pipelines sequentially on GPU. In order to maximize efficiency please use a dataset\n",
            "  warnings.warn(\n",
            " 62%|██████▏   | 48/78 [22:27<17:31, 35.06s/it]/usr/local/lib/python3.10/dist-packages/transformers/pipelines/base.py:1157: UserWarning: You seem to be using the pipelines sequentially on GPU. In order to maximize efficiency please use a dataset\n",
            "  warnings.warn(\n"
          ]
        },
        {
          "name": "stdout",
          "output_type": "stream",
          "text": [
            "71 3 Set1 Drill\n"
          ]
        },
        {
          "name": "stderr",
          "output_type": "stream",
          "text": [
            "\r 63%|██████▎   | 49/78 [22:46<14:43, 30.46s/it]"
          ]
        },
        {
          "name": "stdout",
          "output_type": "stream",
          "text": [
            "74 3 Set1 Drill\n"
          ]
        },
        {
          "name": "stderr",
          "output_type": "stream",
          "text": [
            "/usr/local/lib/python3.10/dist-packages/transformers/pipelines/base.py:1157: UserWarning: You seem to be using the pipelines sequentially on GPU. In order to maximize efficiency please use a dataset\n",
            "  warnings.warn(\n",
            " 64%|██████▍   | 50/78 [22:54<11:05, 23.76s/it]/usr/local/lib/python3.10/dist-packages/transformers/pipelines/base.py:1157: UserWarning: You seem to be using the pipelines sequentially on GPU. In order to maximize efficiency please use a dataset\n",
            "  warnings.warn(\n"
          ]
        },
        {
          "name": "stdout",
          "output_type": "stream",
          "text": [
            "76 3 Set2 NA\n"
          ]
        },
        {
          "name": "stderr",
          "output_type": "stream",
          "text": [
            "\r 65%|██████▌   | 51/78 [23:01<08:18, 18.47s/it]/usr/local/lib/python3.10/dist-packages/transformers/pipelines/base.py:1157: UserWarning: You seem to be using the pipelines sequentially on GPU. In order to maximize efficiency please use a dataset\n",
            "  warnings.warn(\n"
          ]
        },
        {
          "name": "stdout",
          "output_type": "stream",
          "text": [
            "77 3 Set2 NA\n"
          ]
        },
        {
          "name": "stderr",
          "output_type": "stream",
          "text": [
            "\r 67%|██████▋   | 52/78 [23:27<09:03, 20.90s/it]/usr/local/lib/python3.10/dist-packages/transformers/pipelines/base.py:1157: UserWarning: You seem to be using the pipelines sequentially on GPU. In order to maximize efficiency please use a dataset\n",
            "  warnings.warn(\n"
          ]
        },
        {
          "name": "stdout",
          "output_type": "stream",
          "text": [
            "79 3 Set1 Drill\n"
          ]
        },
        {
          "name": "stderr",
          "output_type": "stream",
          "text": [
            "\r 68%|██████▊   | 53/78 [26:05<25:46, 61.86s/it]/usr/local/lib/python3.10/dist-packages/transformers/pipelines/base.py:1157: UserWarning: You seem to be using the pipelines sequentially on GPU. In order to maximize efficiency please use a dataset\n",
            "  warnings.warn(\n"
          ]
        },
        {
          "name": "stdout",
          "output_type": "stream",
          "text": [
            "82 3 Set1 FoodProcessor\n"
          ]
        },
        {
          "name": "stderr",
          "output_type": "stream",
          "text": [
            "\r 69%|██████▉   | 54/78 [28:35<35:25, 88.56s/it]"
          ]
        },
        {
          "name": "stdout",
          "output_type": "stream",
          "text": [
            "83 3 Set1 AirCompresssor\n"
          ]
        },
        {
          "name": "stderr",
          "output_type": "stream",
          "text": [
            "/usr/local/lib/python3.10/dist-packages/transformers/pipelines/base.py:1157: UserWarning: You seem to be using the pipelines sequentially on GPU. In order to maximize efficiency please use a dataset\n",
            "  warnings.warn(\n",
            " 71%|███████   | 55/78 [29:08<27:29, 71.70s/it]/usr/local/lib/python3.10/dist-packages/transformers/pipelines/base.py:1157: UserWarning: You seem to be using the pipelines sequentially on GPU. In order to maximize efficiency please use a dataset\n",
            "  warnings.warn(\n"
          ]
        },
        {
          "name": "stdout",
          "output_type": "stream",
          "text": [
            "84 3 Set1 VacuumCleaner\n"
          ]
        },
        {
          "name": "stderr",
          "output_type": "stream",
          "text": [
            "\r 72%|███████▏  | 56/78 [29:12<18:52, 51.46s/it]/usr/local/lib/python3.10/dist-packages/transformers/pipelines/base.py:1157: UserWarning: You seem to be using the pipelines sequentially on GPU. In order to maximize efficiency please use a dataset\n",
            "  warnings.warn(\n"
          ]
        },
        {
          "name": "stdout",
          "output_type": "stream",
          "text": [
            "85 3 Set2 NA\n"
          ]
        },
        {
          "name": "stderr",
          "output_type": "stream",
          "text": [
            "\r 73%|███████▎  | 57/78 [29:20<13:25, 38.35s/it]/usr/local/lib/python3.10/dist-packages/transformers/pipelines/base.py:1157: UserWarning: You seem to be using the pipelines sequentially on GPU. In order to maximize efficiency please use a dataset\n",
            "  warnings.warn(\n"
          ]
        },
        {
          "name": "stdout",
          "output_type": "stream",
          "text": [
            "86 3 Set1 Drill\n"
          ]
        },
        {
          "name": "stderr",
          "output_type": "stream",
          "text": [
            "\r 74%|███████▍  | 58/78 [29:29<09:52, 29.62s/it]/usr/local/lib/python3.10/dist-packages/transformers/pipelines/base.py:1157: UserWarning: You seem to be using the pipelines sequentially on GPU. In order to maximize efficiency please use a dataset\n",
            "  warnings.warn(\n"
          ]
        },
        {
          "name": "stdout",
          "output_type": "stream",
          "text": [
            "87 3 Set2 NA\n"
          ]
        },
        {
          "name": "stderr",
          "output_type": "stream",
          "text": [
            "\r 76%|███████▌  | 59/78 [29:34<07:03, 22.31s/it]/usr/local/lib/python3.10/dist-packages/transformers/pipelines/base.py:1157: UserWarning: You seem to be using the pipelines sequentially on GPU. In order to maximize efficiency please use a dataset\n",
            "  warnings.warn(\n"
          ]
        },
        {
          "name": "stdout",
          "output_type": "stream",
          "text": [
            "88 3 Set1 Freezer\n"
          ]
        },
        {
          "name": "stderr",
          "output_type": "stream",
          "text": [
            "\r 77%|███████▋  | 60/78 [29:38<05:03, 16.84s/it]/usr/local/lib/python3.10/dist-packages/transformers/pipelines/base.py:1157: UserWarning: You seem to be using the pipelines sequentially on GPU. In order to maximize efficiency please use a dataset\n",
            "  warnings.warn(\n"
          ]
        },
        {
          "name": "stdout",
          "output_type": "stream",
          "text": [
            "89 3 Set2 NA\n"
          ]
        },
        {
          "name": "stderr",
          "output_type": "stream",
          "text": [
            "\r 78%|███████▊  | 61/78 [29:43<03:42, 13.07s/it]"
          ]
        },
        {
          "name": "stdout",
          "output_type": "stream",
          "text": [
            "95 3 Set1 FoodProcessor\n"
          ]
        },
        {
          "name": "stderr",
          "output_type": "stream",
          "text": [
            "/usr/local/lib/python3.10/dist-packages/transformers/pipelines/base.py:1157: UserWarning: You seem to be using the pipelines sequentially on GPU. In order to maximize efficiency please use a dataset\n",
            "  warnings.warn(\n",
            " 79%|███████▉  | 62/78 [29:57<03:34, 13.38s/it]/usr/local/lib/python3.10/dist-packages/transformers/pipelines/base.py:1157: UserWarning: You seem to be using the pipelines sequentially on GPU. In order to maximize efficiency please use a dataset\n",
            "  warnings.warn(\n"
          ]
        },
        {
          "name": "stdout",
          "output_type": "stream",
          "text": [
            "96 3 Set1 Blender\n"
          ]
        },
        {
          "name": "stderr",
          "output_type": "stream",
          "text": [
            "\r 81%|████████  | 63/78 [30:11<03:25, 13.68s/it]/usr/local/lib/python3.10/dist-packages/transformers/pipelines/base.py:1157: UserWarning: You seem to be using the pipelines sequentially on GPU. In order to maximize efficiency please use a dataset\n",
            "  warnings.warn(\n"
          ]
        },
        {
          "name": "stdout",
          "output_type": "stream",
          "text": [
            "97 3 Set1 Iron\n"
          ]
        },
        {
          "name": "stderr",
          "output_type": "stream",
          "text": [
            "\r 82%|████████▏ | 64/78 [30:15<02:31, 10.86s/it]/usr/local/lib/python3.10/dist-packages/transformers/pipelines/base.py:1157: UserWarning: You seem to be using the pipelines sequentially on GPU. In order to maximize efficiency please use a dataset\n",
            "  warnings.warn(\n"
          ]
        },
        {
          "name": "stdout",
          "output_type": "stream",
          "text": [
            "98 3 Set1 Iron\n"
          ]
        },
        {
          "name": "stderr",
          "output_type": "stream",
          "text": [
            "\r 83%|████████▎ | 65/78 [30:34<02:50, 13.11s/it]/usr/local/lib/python3.10/dist-packages/transformers/pipelines/base.py:1157: UserWarning: You seem to be using the pipelines sequentially on GPU. In order to maximize efficiency please use a dataset\n",
            "  warnings.warn(\n"
          ]
        },
        {
          "name": "stdout",
          "output_type": "stream",
          "text": [
            "99 3 Set1 Freezer\n"
          ]
        },
        {
          "name": "stderr",
          "output_type": "stream",
          "text": [
            "\r 85%|████████▍ | 66/78 [30:42<02:19, 11.61s/it]/usr/local/lib/python3.10/dist-packages/transformers/pipelines/base.py:1157: UserWarning: You seem to be using the pipelines sequentially on GPU. In order to maximize efficiency please use a dataset\n",
            "  warnings.warn(\n"
          ]
        },
        {
          "name": "stdout",
          "output_type": "stream",
          "text": [
            "101 3 Set2 NA\n"
          ]
        },
        {
          "name": "stderr",
          "output_type": "stream",
          "text": [
            "\r 86%|████████▌ | 67/78 [30:54<02:10, 11.86s/it]/usr/local/lib/python3.10/dist-packages/transformers/pipelines/base.py:1157: UserWarning: You seem to be using the pipelines sequentially on GPU. In order to maximize efficiency please use a dataset\n",
            "  warnings.warn(\n"
          ]
        },
        {
          "name": "stdout",
          "output_type": "stream",
          "text": [
            "102 3 Set1 Fans(Misc.)\n"
          ]
        },
        {
          "name": "stderr",
          "output_type": "stream",
          "text": [
            "\r 87%|████████▋ | 68/78 [31:00<01:38,  9.89s/it]/usr/local/lib/python3.10/dist-packages/transformers/pipelines/base.py:1157: UserWarning: You seem to be using the pipelines sequentially on GPU. In order to maximize efficiency please use a dataset\n",
            "  warnings.warn(\n"
          ]
        },
        {
          "name": "stdout",
          "output_type": "stream",
          "text": [
            "105 3 Set2 NA\n"
          ]
        },
        {
          "name": "stderr",
          "output_type": "stream",
          "text": [
            "\r 88%|████████▊ | 69/78 [31:05<01:16,  8.52s/it]/usr/local/lib/python3.10/dist-packages/transformers/pipelines/base.py:1157: UserWarning: You seem to be using the pipelines sequentially on GPU. In order to maximize efficiency please use a dataset\n",
            "  warnings.warn(\n"
          ]
        },
        {
          "name": "stdout",
          "output_type": "stream",
          "text": [
            "106 3 Set1 Blender\n"
          ]
        },
        {
          "name": "stderr",
          "output_type": "stream",
          "text": [
            "\r 90%|████████▉ | 70/78 [31:19<01:22, 10.25s/it]/usr/local/lib/python3.10/dist-packages/transformers/pipelines/base.py:1157: UserWarning: You seem to be using the pipelines sequentially on GPU. In order to maximize efficiency please use a dataset\n",
            "  warnings.warn(\n"
          ]
        },
        {
          "name": "stdout",
          "output_type": "stream",
          "text": [
            "108 3 Set1 Blender\n"
          ]
        },
        {
          "name": "stderr",
          "output_type": "stream",
          "text": [
            "\r 91%|█████████ | 71/78 [31:24<00:59,  8.50s/it]/usr/local/lib/python3.10/dist-packages/transformers/pipelines/base.py:1157: UserWarning: You seem to be using the pipelines sequentially on GPU. In order to maximize efficiency please use a dataset\n",
            "  warnings.warn(\n"
          ]
        },
        {
          "name": "stdout",
          "output_type": "stream",
          "text": [
            "111 3 Set2 NA\n"
          ]
        },
        {
          "name": "stderr",
          "output_type": "stream",
          "text": [
            "\r 92%|█████████▏| 72/78 [31:28<00:42,  7.15s/it]/usr/local/lib/python3.10/dist-packages/transformers/pipelines/base.py:1157: UserWarning: You seem to be using the pipelines sequentially on GPU. In order to maximize efficiency please use a dataset\n",
            "  warnings.warn(\n"
          ]
        },
        {
          "name": "stdout",
          "output_type": "stream",
          "text": [
            "112 3 Set2 NA\n"
          ]
        },
        {
          "name": "stderr",
          "output_type": "stream",
          "text": [
            "\r 94%|█████████▎| 73/78 [31:34<00:33,  6.75s/it]/usr/local/lib/python3.10/dist-packages/transformers/pipelines/base.py:1157: UserWarning: You seem to be using the pipelines sequentially on GPU. In order to maximize efficiency please use a dataset\n",
            "  warnings.warn(\n"
          ]
        },
        {
          "name": "stdout",
          "output_type": "stream",
          "text": [
            "113 3 Set1 Iron\n"
          ]
        },
        {
          "name": "stderr",
          "output_type": "stream",
          "text": [
            "\r 95%|█████████▍| 74/78 [34:00<03:15, 48.79s/it]/usr/local/lib/python3.10/dist-packages/transformers/pipelines/base.py:1157: UserWarning: You seem to be using the pipelines sequentially on GPU. In order to maximize efficiency please use a dataset\n",
            "  warnings.warn(\n"
          ]
        },
        {
          "name": "stdout",
          "output_type": "stream",
          "text": [
            "114 3 Set1 Trimmer\n"
          ]
        },
        {
          "name": "stderr",
          "output_type": "stream",
          "text": [
            "\r 96%|█████████▌| 75/78 [34:06<01:47, 35.89s/it]/usr/local/lib/python3.10/dist-packages/transformers/pipelines/base.py:1157: UserWarning: You seem to be using the pipelines sequentially on GPU. In order to maximize efficiency please use a dataset\n",
            "  warnings.warn(\n"
          ]
        },
        {
          "name": "stdout",
          "output_type": "stream",
          "text": [
            "115 3 Set1 Drill\n"
          ]
        },
        {
          "name": "stderr",
          "output_type": "stream",
          "text": [
            "\r 97%|█████████▋| 76/78 [34:19<00:57, 28.83s/it]/usr/local/lib/python3.10/dist-packages/transformers/pipelines/base.py:1157: UserWarning: You seem to be using the pipelines sequentially on GPU. In order to maximize efficiency please use a dataset\n",
            "  warnings.warn(\n"
          ]
        },
        {
          "name": "stdout",
          "output_type": "stream",
          "text": [
            "117 3 Set1 CoffeeMaker\n"
          ]
        },
        {
          "name": "stderr",
          "output_type": "stream",
          "text": [
            "\r 99%|█████████▊| 77/78 [34:36<00:25, 25.56s/it]/usr/local/lib/python3.10/dist-packages/transformers/pipelines/base.py:1157: UserWarning: You seem to be using the pipelines sequentially on GPU. In order to maximize efficiency please use a dataset\n",
            "  warnings.warn(\n"
          ]
        },
        {
          "name": "stdout",
          "output_type": "stream",
          "text": [
            "118 3 Set2 NA\n"
          ]
        },
        {
          "name": "stderr",
          "output_type": "stream",
          "text": [
            "100%|██████████| 78/78 [34:41<00:00, 26.69s/it]\n",
            "  0%|          | 0/78 [00:00<?, ?it/s]"
          ]
        },
        {
          "data": {
            "application/vnd.jupyter.widget-view+json": {
              "model_id": "f3a470dff09d4cfbadac3d52a5128a9d",
              "version_major": 2,
              "version_minor": 0
            },
            "text/plain": [
              "Downloading builder script:   0%|          | 0.00/5.94k [00:00<?, ?B/s]"
            ]
          },
          "metadata": {},
          "output_type": "display_data"
        },
        {
          "data": {
            "application/vnd.jupyter.widget-view+json": {
              "model_id": "f5fc1ccf79624491956ab8b165f842db",
              "version_major": 2,
              "version_minor": 0
            },
            "text/plain": [
              "Downloading extra modules:   0%|          | 0.00/1.55k [00:00<?, ?B/s]"
            ]
          },
          "metadata": {},
          "output_type": "display_data"
        },
        {
          "data": {
            "application/vnd.jupyter.widget-view+json": {
              "model_id": "814aca51f0a14e3bb4b619d784a16a13",
              "version_major": 2,
              "version_minor": 0
            },
            "text/plain": [
              "Downloading extra modules:   0%|          | 0.00/3.34k [00:00<?, ?B/s]"
            ]
          },
          "metadata": {},
          "output_type": "display_data"
        },
        {
          "data": {
            "application/vnd.jupyter.widget-view+json": {
              "model_id": "2486c7c9d402484b8b93be5dcc9d2b17",
              "version_major": 2,
              "version_minor": 0
            },
            "text/plain": [
              "Downloading builder script:   0%|          | 0.00/6.27k [00:00<?, ?B/s]"
            ]
          },
          "metadata": {},
          "output_type": "display_data"
        },
        {
          "name": "stderr",
          "output_type": "stream",
          "text": [
            "100%|██████████| 78/78 [04:45<00:00,  3.66s/it]\n"
          ]
        }
      ],
      "source": [
        "aa = \"20230306\"\n",
        "mlflow.create_experiment(aa)\n",
        "\n",
        "with mlflow.start_run(experiment_id=mlflow.get_experiment_by_name(aa).experiment_id):\n",
        "\n",
        "        ch_size = 500 #300,500,1000\n",
        "        ch_overlap = 250 #150,250,500\n",
        "        splitter_type = \"recursive\"\n",
        "\n",
        "        mlflow.log_params({\n",
        "        \"chunking size\": ch_size,\n",
        "        \"chunking overlap\": ch_overlap,\n",
        "        \"splitter\":splitter_type\n",
        "        })\n",
        "\n",
        "        #Text Splitter\n",
        "        texts_rcts = splitter(splitter_type,ch_size,ch_overlap,docs)\n",
        "\n",
        "        #Loading Model\n",
        "        model_name = \"llama-7b\"\n",
        "        mlflow.log_params({\n",
        "        \"model_name\": model_name\n",
        "        })\n",
        "\n",
        "        tokenizer, model, max_len = get_model(model = model_name)\n",
        "\n",
        "        #Model Pipeline\n",
        "        # max_new_tokens_t5 = 1024\n",
        "        # min_length_t5 = 1024\n",
        "        temp = 0.7\n",
        "        topp = 0.1\n",
        "        rep_penalty = 1.15\n",
        "\n",
        "        mlflow.log_params({\n",
        "        \"temperature\": temp,\n",
        "        \"topp\": topp,\n",
        "        \"repetition_penalty\":rep_penalty\n",
        "        })\n",
        "\n",
        "        llm = load_llm(model_name = model_name,model=model,tokenizer=tokenizer,max_len=max_len,temp=temp,topp=topp,rep_penalty=rep_penalty)\n",
        "\n",
        "        ##Initializing the embeddings\n",
        "        embedding_model = \"all-MiniLM-L6-v2\" #\"all-MiniLM-L6-v2\"\n",
        "        mlflow.log_params({\n",
        "        \"embedding_model\": embedding_model\n",
        "        })\n",
        "        embeddings = SentenceTransformerEmbeddings(model_name = embedding_model)\n",
        "\n",
        "        # #Initializing the pinecone client\n",
        "        # pinecone.init(\n",
        "        #             api_key= \"59d977cf-c878-4da3-8e87-bc7726e2e2cd\",\n",
        "        #             environment= 'gcp-starter'\n",
        "        # )\n",
        "        # id_name = 'index1'\n",
        "        # mlflow.log_params({\n",
        "        # \"index\": id_name\n",
        "        # })\n",
        "\n",
        "\n",
        "        # index_name = pinecone.Index(id_name)\n",
        "        # vectordb = Pinecone.from_existing_index(index_name=\"index1\", embedding=embeddings)\n",
        "\n",
        "        #Initializing the pinecone client\n",
        "        pinecone.init(\n",
        "            api_key= \"59d977cf-c878-4da3-8e87-bc7726e2e2cd\",\n",
        "            environment= 'gcp-starter'\n",
        "        )\n",
        "        id_name = 'index1'\n",
        "\n",
        "        mlflow.log_params({\n",
        "        \"index\": id_name\n",
        "        })\n",
        "\n",
        "        # #Uploading the embedding model and the data to the pinecone index\n",
        "        # vectordb = Pinecone.from_documents(texts_rcts, embeddings, index_name='index1')\n",
        "        index_name = id_name\n",
        "        DIMENSIONS = 384\n",
        "        # Create and configure index if doesn't already exist\n",
        "        if index_name not in pinecone.list_indexes():\n",
        "            pinecone.create_index(\n",
        "                name=index_name,\n",
        "                metric=\"cosine\",\n",
        "                dimension=DIMENSIONS)\n",
        "            vectordb = Pinecone.from_documents(texts_rcts, embeddings, index_name=index_name)\n",
        "\n",
        "        else:\n",
        "            vectordb = Pinecone.from_existing_index(index_name, embeddings)\n",
        "\n",
        "        #Processing queries\n",
        "        set1_path = '/content/drive/MyDrive/Gen AI Case Study/Labelled Data/Labelled_Data_Set1.xlsx'\n",
        "        set2_path = '/content/drive/MyDrive/Gen AI Case Study/Labelled Data/Labelled_Data_Set2.xlsx'\n",
        "        query_path = '/content/drive/MyDrive/Gen AI Case Study/Queries/Queries.xlsx'\n",
        "\n",
        "        merged_queries,merged_queries_wo_answers =  queries_and_labelled_data_processing(files_not_parsed,\n",
        "                                                                                        path_queries = query_path\n",
        "                                                                                        ,path_labelled_set1 = set1_path,\n",
        "                                                                                        path_labelled_set2 = set2_path)\n",
        "\n",
        "        #Answer Generation\n",
        "        chaintype = \"stuff\"\n",
        "        num_k = 3\n",
        "        mlflow.log_params({\n",
        "        \"chain_type\": chaintype,\n",
        "        \"num_k\": num_k\n",
        "        })\n",
        "        answer_list =  gen_answers(query_df= merged_queries_wo_answers,\n",
        "                                  numk = num_k,\n",
        "                                  ch_type = chaintype,\n",
        "                                  prompt =  PROMPT)\n",
        "\n",
        "        #Processing the answer list\n",
        "        answer_df = pd.DataFrame(answer_list)\n",
        "        answer_df_split_a = answer_df[4].str.split(\"\\n\\nSources:\",expand=True).rename(columns={0:\"Answer\",1:\"Source\"})\n",
        "        answer_df_split_b = answer_df_split_a[\"Source\"].str.split(\"\\n\\nTime elapsed:\",expand=True).rename(columns={0:\"Source\",1:\"Time\"})\n",
        "        answer_df_split = pd.concat([answer_df_split_a[\"Answer\"],answer_df_split_b],axis=1)\n",
        "        answer_df = answer_df.drop([0],axis=1)\n",
        "        answer_df.columns = [\"Category\",\"Query\",\"Set\",\"Answer_with_source\"]\n",
        "        answer_df_final = pd.concat([answer_df,answer_df_split],axis=1)\n",
        "        answer_df_final[\"Answer\"] = answer_df_final[\"Answer\"].apply(lambda x : x.replace(\"\\n\\\\end{code}\",\"\"))\n",
        "\n",
        "        #Evaluation\n",
        "        merged_queries_eval_set = merged_queries.groupby([\"Category\",\"Set\",\"Queries\"])[\"Answers\"].unique().reset_index()\n",
        "        merged_queries_eval_set = pd.merge(merged_queries_eval_set,answer_df_final[[\"Category\",\"Set\",\"Query\",\"Answer\"]],left_on=[\"Category\",\"Set\",\"Queries\"],right_on=[\"Category\",\"Set\",\"Query\"])\n",
        "\n",
        "        accuracy_df = answer_accuracy(merged_query_eval_df = merged_queries_eval_set)\n",
        "        mean_accuracy = accuracy_df[[\"Bleu\",\"Rouge1\",\"Rouge2\",\"RougeL\",\"Semantic_Similarity\"]].mean()\n",
        "\n",
        "        mlflow.log_metric(\"Blue\", mean_accuracy[\"Bleu\"])\n",
        "        mlflow.log_metric(\"Rouge1\", mean_accuracy[\"Rouge1\"])\n",
        "        mlflow.log_metric(\"Rouge2\", mean_accuracy[\"Rouge2\"])\n",
        "        mlflow.log_metric(\"RougeL\", mean_accuracy[\"RougeL\"])\n",
        "        mlflow.log_metric(\"Semantic_Similarity\", mean_accuracy[\"Semantic_Similarity\"])\n",
        "\n",
        "\n"
      ]
    },
    {
      "cell_type": "code",
      "execution_count": null,
      "metadata": {
        "id": "vchw1I99xNJ8"
      },
      "outputs": [],
      "source": [
        "merged_queries_eval_set.to_excel('/content/drive/MyDrive/Gen AI Case Study/PDF Documents/llama_answers_20240306.xlsx')\n",
        "accuracy_df.to_excel('/content/drive/MyDrive/Gen AI Case Study/PDF Documents/llama_answers_accuracy_20240306.xlsx')"
      ]
    }
  ],
  "metadata": {
    "accelerator": "GPU",
    "colab": {
      "gpuType": "T4",
      "provenance": []
    },
    "kernelspec": {
      "display_name": "Python 3",
      "name": "python3"
    },
    "language_info": {
      "name": "python"
    },
    "widgets": {
      "application/vnd.jupyter.widget-state+json": {
        "1000c82400f1438cbbe52675b71a7003": {
          "model_module": "@jupyter-widgets/base",
          "model_module_version": "1.2.0",
          "model_name": "LayoutModel",
          "state": {
            "_model_module": "@jupyter-widgets/base",
            "_model_module_version": "1.2.0",
            "_model_name": "LayoutModel",
            "_view_count": null,
            "_view_module": "@jupyter-widgets/base",
            "_view_module_version": "1.2.0",
            "_view_name": "LayoutView",
            "align_content": null,
            "align_items": null,
            "align_self": null,
            "border": null,
            "bottom": null,
            "display": null,
            "flex": null,
            "flex_flow": null,
            "grid_area": null,
            "grid_auto_columns": null,
            "grid_auto_flow": null,
            "grid_auto_rows": null,
            "grid_column": null,
            "grid_gap": null,
            "grid_row": null,
            "grid_template_areas": null,
            "grid_template_columns": null,
            "grid_template_rows": null,
            "height": null,
            "justify_content": null,
            "justify_items": null,
            "left": null,
            "margin": null,
            "max_height": null,
            "max_width": null,
            "min_height": null,
            "min_width": null,
            "object_fit": null,
            "object_position": null,
            "order": null,
            "overflow": null,
            "overflow_x": null,
            "overflow_y": null,
            "padding": null,
            "right": null,
            "top": null,
            "visibility": null,
            "width": null
          }
        },
        "131d645210bf438c9fcefbab0cd688fa": {
          "model_module": "@jupyter-widgets/controls",
          "model_module_version": "1.5.0",
          "model_name": "HTMLModel",
          "state": {
            "_dom_classes": [],
            "_model_module": "@jupyter-widgets/controls",
            "_model_module_version": "1.5.0",
            "_model_name": "HTMLModel",
            "_view_count": null,
            "_view_module": "@jupyter-widgets/controls",
            "_view_module_version": "1.5.0",
            "_view_name": "HTMLView",
            "description": "",
            "description_tooltip": null,
            "layout": "IPY_MODEL_72edf09bb95544d79d89af50729d7e8d",
            "placeholder": "​",
            "style": "IPY_MODEL_5264d4ba3e324668b521b1759443cd4e",
            "value": " 4.07k/? [00:00&lt;00:00, 262kB/s]"
          }
        },
        "14a92c9dafb943b2a62908aeee0193fe": {
          "model_module": "@jupyter-widgets/controls",
          "model_module_version": "1.5.0",
          "model_name": "DescriptionStyleModel",
          "state": {
            "_model_module": "@jupyter-widgets/controls",
            "_model_module_version": "1.5.0",
            "_model_name": "DescriptionStyleModel",
            "_view_count": null,
            "_view_module": "@jupyter-widgets/base",
            "_view_module_version": "1.2.0",
            "_view_name": "StyleView",
            "description_width": ""
          }
        },
        "18b2adb19c894a018677212bd722c8fe": {
          "model_module": "@jupyter-widgets/base",
          "model_module_version": "1.2.0",
          "model_name": "LayoutModel",
          "state": {
            "_model_module": "@jupyter-widgets/base",
            "_model_module_version": "1.2.0",
            "_model_name": "LayoutModel",
            "_view_count": null,
            "_view_module": "@jupyter-widgets/base",
            "_view_module_version": "1.2.0",
            "_view_name": "LayoutView",
            "align_content": null,
            "align_items": null,
            "align_self": null,
            "border": null,
            "bottom": null,
            "display": null,
            "flex": null,
            "flex_flow": null,
            "grid_area": null,
            "grid_auto_columns": null,
            "grid_auto_flow": null,
            "grid_auto_rows": null,
            "grid_column": null,
            "grid_gap": null,
            "grid_row": null,
            "grid_template_areas": null,
            "grid_template_columns": null,
            "grid_template_rows": null,
            "height": null,
            "justify_content": null,
            "justify_items": null,
            "left": null,
            "margin": null,
            "max_height": null,
            "max_width": null,
            "min_height": null,
            "min_width": null,
            "object_fit": null,
            "object_position": null,
            "order": null,
            "overflow": null,
            "overflow_x": null,
            "overflow_y": null,
            "padding": null,
            "right": null,
            "top": null,
            "visibility": null,
            "width": null
          }
        },
        "2486c7c9d402484b8b93be5dcc9d2b17": {
          "model_module": "@jupyter-widgets/controls",
          "model_module_version": "1.5.0",
          "model_name": "HBoxModel",
          "state": {
            "_dom_classes": [],
            "_model_module": "@jupyter-widgets/controls",
            "_model_module_version": "1.5.0",
            "_model_name": "HBoxModel",
            "_view_count": null,
            "_view_module": "@jupyter-widgets/controls",
            "_view_module_version": "1.5.0",
            "_view_name": "HBoxView",
            "box_style": "",
            "children": [
              "IPY_MODEL_e9967f878af94215bf7595e5964635bc",
              "IPY_MODEL_42e2959b74d44018984aa2c6244c0e93",
              "IPY_MODEL_fcaf7af3033f40d8ae090acd18f32413"
            ],
            "layout": "IPY_MODEL_8049bff70bdf431098029099f7414ae0"
          }
        },
        "272e0d72f35a4a07a3e1d9fa8c257a2d": {
          "model_module": "@jupyter-widgets/controls",
          "model_module_version": "1.5.0",
          "model_name": "DescriptionStyleModel",
          "state": {
            "_model_module": "@jupyter-widgets/controls",
            "_model_module_version": "1.5.0",
            "_model_name": "DescriptionStyleModel",
            "_view_count": null,
            "_view_module": "@jupyter-widgets/base",
            "_view_module_version": "1.2.0",
            "_view_name": "StyleView",
            "description_width": ""
          }
        },
        "2938328e37e94f4babfdc62888b312b8": {
          "model_module": "@jupyter-widgets/base",
          "model_module_version": "1.2.0",
          "model_name": "LayoutModel",
          "state": {
            "_model_module": "@jupyter-widgets/base",
            "_model_module_version": "1.2.0",
            "_model_name": "LayoutModel",
            "_view_count": null,
            "_view_module": "@jupyter-widgets/base",
            "_view_module_version": "1.2.0",
            "_view_name": "LayoutView",
            "align_content": null,
            "align_items": null,
            "align_self": null,
            "border": null,
            "bottom": null,
            "display": null,
            "flex": null,
            "flex_flow": null,
            "grid_area": null,
            "grid_auto_columns": null,
            "grid_auto_flow": null,
            "grid_auto_rows": null,
            "grid_column": null,
            "grid_gap": null,
            "grid_row": null,
            "grid_template_areas": null,
            "grid_template_columns": null,
            "grid_template_rows": null,
            "height": null,
            "justify_content": null,
            "justify_items": null,
            "left": null,
            "margin": null,
            "max_height": null,
            "max_width": null,
            "min_height": null,
            "min_width": null,
            "object_fit": null,
            "object_position": null,
            "order": null,
            "overflow": null,
            "overflow_x": null,
            "overflow_y": null,
            "padding": null,
            "right": null,
            "top": null,
            "visibility": null,
            "width": null
          }
        },
        "31f8cb95125442b590bc2b1026a3e1c8": {
          "model_module": "@jupyter-widgets/base",
          "model_module_version": "1.2.0",
          "model_name": "LayoutModel",
          "state": {
            "_model_module": "@jupyter-widgets/base",
            "_model_module_version": "1.2.0",
            "_model_name": "LayoutModel",
            "_view_count": null,
            "_view_module": "@jupyter-widgets/base",
            "_view_module_version": "1.2.0",
            "_view_name": "LayoutView",
            "align_content": null,
            "align_items": null,
            "align_self": null,
            "border": null,
            "bottom": null,
            "display": null,
            "flex": null,
            "flex_flow": null,
            "grid_area": null,
            "grid_auto_columns": null,
            "grid_auto_flow": null,
            "grid_auto_rows": null,
            "grid_column": null,
            "grid_gap": null,
            "grid_row": null,
            "grid_template_areas": null,
            "grid_template_columns": null,
            "grid_template_rows": null,
            "height": null,
            "justify_content": null,
            "justify_items": null,
            "left": null,
            "margin": null,
            "max_height": null,
            "max_width": null,
            "min_height": null,
            "min_width": null,
            "object_fit": null,
            "object_position": null,
            "order": null,
            "overflow": null,
            "overflow_x": null,
            "overflow_y": null,
            "padding": null,
            "right": null,
            "top": null,
            "visibility": null,
            "width": null
          }
        },
        "34a53909a73142a7acb15375d369300e": {
          "model_module": "@jupyter-widgets/controls",
          "model_module_version": "1.5.0",
          "model_name": "ProgressStyleModel",
          "state": {
            "_model_module": "@jupyter-widgets/controls",
            "_model_module_version": "1.5.0",
            "_model_name": "ProgressStyleModel",
            "_view_count": null,
            "_view_module": "@jupyter-widgets/base",
            "_view_module_version": "1.2.0",
            "_view_name": "StyleView",
            "bar_color": null,
            "description_width": ""
          }
        },
        "35dd9902e62a4572a86c08f363f9e361": {
          "model_module": "@jupyter-widgets/controls",
          "model_module_version": "1.5.0",
          "model_name": "DescriptionStyleModel",
          "state": {
            "_model_module": "@jupyter-widgets/controls",
            "_model_module_version": "1.5.0",
            "_model_name": "DescriptionStyleModel",
            "_view_count": null,
            "_view_module": "@jupyter-widgets/base",
            "_view_module_version": "1.2.0",
            "_view_name": "StyleView",
            "description_width": ""
          }
        },
        "3d893b95fcdd41249fc0c98ab971239d": {
          "model_module": "@jupyter-widgets/base",
          "model_module_version": "1.2.0",
          "model_name": "LayoutModel",
          "state": {
            "_model_module": "@jupyter-widgets/base",
            "_model_module_version": "1.2.0",
            "_model_name": "LayoutModel",
            "_view_count": null,
            "_view_module": "@jupyter-widgets/base",
            "_view_module_version": "1.2.0",
            "_view_name": "LayoutView",
            "align_content": null,
            "align_items": null,
            "align_self": null,
            "border": null,
            "bottom": null,
            "display": null,
            "flex": null,
            "flex_flow": null,
            "grid_area": null,
            "grid_auto_columns": null,
            "grid_auto_flow": null,
            "grid_auto_rows": null,
            "grid_column": null,
            "grid_gap": null,
            "grid_row": null,
            "grid_template_areas": null,
            "grid_template_columns": null,
            "grid_template_rows": null,
            "height": null,
            "justify_content": null,
            "justify_items": null,
            "left": null,
            "margin": null,
            "max_height": null,
            "max_width": null,
            "min_height": null,
            "min_width": null,
            "object_fit": null,
            "object_position": null,
            "order": null,
            "overflow": null,
            "overflow_x": null,
            "overflow_y": null,
            "padding": null,
            "right": null,
            "top": null,
            "visibility": null,
            "width": null
          }
        },
        "3e2000e3029e46dda394c749582130f5": {
          "model_module": "@jupyter-widgets/controls",
          "model_module_version": "1.5.0",
          "model_name": "DescriptionStyleModel",
          "state": {
            "_model_module": "@jupyter-widgets/controls",
            "_model_module_version": "1.5.0",
            "_model_name": "DescriptionStyleModel",
            "_view_count": null,
            "_view_module": "@jupyter-widgets/base",
            "_view_module_version": "1.2.0",
            "_view_name": "StyleView",
            "description_width": ""
          }
        },
        "414a7763a154492c89d58ca31976a5eb": {
          "model_module": "@jupyter-widgets/controls",
          "model_module_version": "1.5.0",
          "model_name": "DescriptionStyleModel",
          "state": {
            "_model_module": "@jupyter-widgets/controls",
            "_model_module_version": "1.5.0",
            "_model_name": "DescriptionStyleModel",
            "_view_count": null,
            "_view_module": "@jupyter-widgets/base",
            "_view_module_version": "1.2.0",
            "_view_name": "StyleView",
            "description_width": ""
          }
        },
        "42e2959b74d44018984aa2c6244c0e93": {
          "model_module": "@jupyter-widgets/controls",
          "model_module_version": "1.5.0",
          "model_name": "FloatProgressModel",
          "state": {
            "_dom_classes": [],
            "_model_module": "@jupyter-widgets/controls",
            "_model_module_version": "1.5.0",
            "_model_name": "FloatProgressModel",
            "_view_count": null,
            "_view_module": "@jupyter-widgets/controls",
            "_view_module_version": "1.5.0",
            "_view_name": "ProgressView",
            "bar_style": "success",
            "description": "",
            "description_tooltip": null,
            "layout": "IPY_MODEL_3d893b95fcdd41249fc0c98ab971239d",
            "max": 6270,
            "min": 0,
            "orientation": "horizontal",
            "style": "IPY_MODEL_c0f9482c8661440895240148c50fe768",
            "value": 6270
          }
        },
        "4400bb483bf74413b83db4edc843b021": {
          "model_module": "@jupyter-widgets/base",
          "model_module_version": "1.2.0",
          "model_name": "LayoutModel",
          "state": {
            "_model_module": "@jupyter-widgets/base",
            "_model_module_version": "1.2.0",
            "_model_name": "LayoutModel",
            "_view_count": null,
            "_view_module": "@jupyter-widgets/base",
            "_view_module_version": "1.2.0",
            "_view_name": "LayoutView",
            "align_content": null,
            "align_items": null,
            "align_self": null,
            "border": null,
            "bottom": null,
            "display": null,
            "flex": null,
            "flex_flow": null,
            "grid_area": null,
            "grid_auto_columns": null,
            "grid_auto_flow": null,
            "grid_auto_rows": null,
            "grid_column": null,
            "grid_gap": null,
            "grid_row": null,
            "grid_template_areas": null,
            "grid_template_columns": null,
            "grid_template_rows": null,
            "height": null,
            "justify_content": null,
            "justify_items": null,
            "left": null,
            "margin": null,
            "max_height": null,
            "max_width": null,
            "min_height": null,
            "min_width": null,
            "object_fit": null,
            "object_position": null,
            "order": null,
            "overflow": null,
            "overflow_x": null,
            "overflow_y": null,
            "padding": null,
            "right": null,
            "top": null,
            "visibility": null,
            "width": null
          }
        },
        "5264d4ba3e324668b521b1759443cd4e": {
          "model_module": "@jupyter-widgets/controls",
          "model_module_version": "1.5.0",
          "model_name": "DescriptionStyleModel",
          "state": {
            "_model_module": "@jupyter-widgets/controls",
            "_model_module_version": "1.5.0",
            "_model_name": "DescriptionStyleModel",
            "_view_count": null,
            "_view_module": "@jupyter-widgets/base",
            "_view_module_version": "1.2.0",
            "_view_name": "StyleView",
            "description_width": ""
          }
        },
        "53c77c200fa74525b6e52390dec9bdc0": {
          "model_module": "@jupyter-widgets/controls",
          "model_module_version": "1.5.0",
          "model_name": "HTMLModel",
          "state": {
            "_dom_classes": [],
            "_model_module": "@jupyter-widgets/controls",
            "_model_module_version": "1.5.0",
            "_model_name": "HTMLModel",
            "_view_count": null,
            "_view_module": "@jupyter-widgets/controls",
            "_view_module_version": "1.5.0",
            "_view_name": "HTMLView",
            "description": "",
            "description_tooltip": null,
            "layout": "IPY_MODEL_1000c82400f1438cbbe52675b71a7003",
            "placeholder": "​",
            "style": "IPY_MODEL_6b19c3132a184d31b4c2e26d7f8e9c69",
            "value": " 2/2 [01:06&lt;00:00, 30.21s/it]"
          }
        },
        "5cb5a80947904d3f834fd4753469dcbc": {
          "model_module": "@jupyter-widgets/base",
          "model_module_version": "1.2.0",
          "model_name": "LayoutModel",
          "state": {
            "_model_module": "@jupyter-widgets/base",
            "_model_module_version": "1.2.0",
            "_model_name": "LayoutModel",
            "_view_count": null,
            "_view_module": "@jupyter-widgets/base",
            "_view_module_version": "1.2.0",
            "_view_name": "LayoutView",
            "align_content": null,
            "align_items": null,
            "align_self": null,
            "border": null,
            "bottom": null,
            "display": null,
            "flex": null,
            "flex_flow": null,
            "grid_area": null,
            "grid_auto_columns": null,
            "grid_auto_flow": null,
            "grid_auto_rows": null,
            "grid_column": null,
            "grid_gap": null,
            "grid_row": null,
            "grid_template_areas": null,
            "grid_template_columns": null,
            "grid_template_rows": null,
            "height": null,
            "justify_content": null,
            "justify_items": null,
            "left": null,
            "margin": null,
            "max_height": null,
            "max_width": null,
            "min_height": null,
            "min_width": null,
            "object_fit": null,
            "object_position": null,
            "order": null,
            "overflow": null,
            "overflow_x": null,
            "overflow_y": null,
            "padding": null,
            "right": null,
            "top": null,
            "visibility": null,
            "width": null
          }
        },
        "5cde6ece294741f4b9c8996a83b8dc7a": {
          "model_module": "@jupyter-widgets/base",
          "model_module_version": "1.2.0",
          "model_name": "LayoutModel",
          "state": {
            "_model_module": "@jupyter-widgets/base",
            "_model_module_version": "1.2.0",
            "_model_name": "LayoutModel",
            "_view_count": null,
            "_view_module": "@jupyter-widgets/base",
            "_view_module_version": "1.2.0",
            "_view_name": "LayoutView",
            "align_content": null,
            "align_items": null,
            "align_self": null,
            "border": null,
            "bottom": null,
            "display": null,
            "flex": null,
            "flex_flow": null,
            "grid_area": null,
            "grid_auto_columns": null,
            "grid_auto_flow": null,
            "grid_auto_rows": null,
            "grid_column": null,
            "grid_gap": null,
            "grid_row": null,
            "grid_template_areas": null,
            "grid_template_columns": null,
            "grid_template_rows": null,
            "height": null,
            "justify_content": null,
            "justify_items": null,
            "left": null,
            "margin": null,
            "max_height": null,
            "max_width": null,
            "min_height": null,
            "min_width": null,
            "object_fit": null,
            "object_position": null,
            "order": null,
            "overflow": null,
            "overflow_x": null,
            "overflow_y": null,
            "padding": null,
            "right": null,
            "top": null,
            "visibility": null,
            "width": null
          }
        },
        "67006f00f0bd4e80b8102d209513f7e1": {
          "model_module": "@jupyter-widgets/controls",
          "model_module_version": "1.5.0",
          "model_name": "ProgressStyleModel",
          "state": {
            "_model_module": "@jupyter-widgets/controls",
            "_model_module_version": "1.5.0",
            "_model_name": "ProgressStyleModel",
            "_view_count": null,
            "_view_module": "@jupyter-widgets/base",
            "_view_module_version": "1.2.0",
            "_view_name": "StyleView",
            "bar_color": null,
            "description_width": ""
          }
        },
        "68d0fbabaa144aafa84d73303e0d8abe": {
          "model_module": "@jupyter-widgets/controls",
          "model_module_version": "1.5.0",
          "model_name": "FloatProgressModel",
          "state": {
            "_dom_classes": [],
            "_model_module": "@jupyter-widgets/controls",
            "_model_module_version": "1.5.0",
            "_model_name": "FloatProgressModel",
            "_view_count": null,
            "_view_module": "@jupyter-widgets/controls",
            "_view_module_version": "1.5.0",
            "_view_name": "ProgressView",
            "bar_style": "success",
            "description": "",
            "description_tooltip": null,
            "layout": "IPY_MODEL_f62c98a82f2f49ea9bad01c3d9406696",
            "max": 2,
            "min": 0,
            "orientation": "horizontal",
            "style": "IPY_MODEL_93e47d5adaa9422f9c39a4a8e807008b",
            "value": 2
          }
        },
        "6b19c3132a184d31b4c2e26d7f8e9c69": {
          "model_module": "@jupyter-widgets/controls",
          "model_module_version": "1.5.0",
          "model_name": "DescriptionStyleModel",
          "state": {
            "_model_module": "@jupyter-widgets/controls",
            "_model_module_version": "1.5.0",
            "_model_name": "DescriptionStyleModel",
            "_view_count": null,
            "_view_module": "@jupyter-widgets/base",
            "_view_module_version": "1.2.0",
            "_view_name": "StyleView",
            "description_width": ""
          }
        },
        "6b24ffe20abc4127b2c4437e9b7526f7": {
          "model_module": "@jupyter-widgets/controls",
          "model_module_version": "1.5.0",
          "model_name": "HTMLModel",
          "state": {
            "_dom_classes": [],
            "_model_module": "@jupyter-widgets/controls",
            "_model_module_version": "1.5.0",
            "_model_name": "HTMLModel",
            "_view_count": null,
            "_view_module": "@jupyter-widgets/controls",
            "_view_module_version": "1.5.0",
            "_view_name": "HTMLView",
            "description": "",
            "description_tooltip": null,
            "layout": "IPY_MODEL_2938328e37e94f4babfdc62888b312b8",
            "placeholder": "​",
            "style": "IPY_MODEL_14a92c9dafb943b2a62908aeee0193fe",
            "value": " 5.94k/5.94k [00:00&lt;00:00, 235kB/s]"
          }
        },
        "72edf09bb95544d79d89af50729d7e8d": {
          "model_module": "@jupyter-widgets/base",
          "model_module_version": "1.2.0",
          "model_name": "LayoutModel",
          "state": {
            "_model_module": "@jupyter-widgets/base",
            "_model_module_version": "1.2.0",
            "_model_name": "LayoutModel",
            "_view_count": null,
            "_view_module": "@jupyter-widgets/base",
            "_view_module_version": "1.2.0",
            "_view_name": "LayoutView",
            "align_content": null,
            "align_items": null,
            "align_self": null,
            "border": null,
            "bottom": null,
            "display": null,
            "flex": null,
            "flex_flow": null,
            "grid_area": null,
            "grid_auto_columns": null,
            "grid_auto_flow": null,
            "grid_auto_rows": null,
            "grid_column": null,
            "grid_gap": null,
            "grid_row": null,
            "grid_template_areas": null,
            "grid_template_columns": null,
            "grid_template_rows": null,
            "height": null,
            "justify_content": null,
            "justify_items": null,
            "left": null,
            "margin": null,
            "max_height": null,
            "max_width": null,
            "min_height": null,
            "min_width": null,
            "object_fit": null,
            "object_position": null,
            "order": null,
            "overflow": null,
            "overflow_x": null,
            "overflow_y": null,
            "padding": null,
            "right": null,
            "top": null,
            "visibility": null,
            "width": null
          }
        },
        "8049bff70bdf431098029099f7414ae0": {
          "model_module": "@jupyter-widgets/base",
          "model_module_version": "1.2.0",
          "model_name": "LayoutModel",
          "state": {
            "_model_module": "@jupyter-widgets/base",
            "_model_module_version": "1.2.0",
            "_model_name": "LayoutModel",
            "_view_count": null,
            "_view_module": "@jupyter-widgets/base",
            "_view_module_version": "1.2.0",
            "_view_name": "LayoutView",
            "align_content": null,
            "align_items": null,
            "align_self": null,
            "border": null,
            "bottom": null,
            "display": null,
            "flex": null,
            "flex_flow": null,
            "grid_area": null,
            "grid_auto_columns": null,
            "grid_auto_flow": null,
            "grid_auto_rows": null,
            "grid_column": null,
            "grid_gap": null,
            "grid_row": null,
            "grid_template_areas": null,
            "grid_template_columns": null,
            "grid_template_rows": null,
            "height": null,
            "justify_content": null,
            "justify_items": null,
            "left": null,
            "margin": null,
            "max_height": null,
            "max_width": null,
            "min_height": null,
            "min_width": null,
            "object_fit": null,
            "object_position": null,
            "order": null,
            "overflow": null,
            "overflow_x": null,
            "overflow_y": null,
            "padding": null,
            "right": null,
            "top": null,
            "visibility": null,
            "width": null
          }
        },
        "814aca51f0a14e3bb4b619d784a16a13": {
          "model_module": "@jupyter-widgets/controls",
          "model_module_version": "1.5.0",
          "model_name": "HBoxModel",
          "state": {
            "_dom_classes": [],
            "_model_module": "@jupyter-widgets/controls",
            "_model_module_version": "1.5.0",
            "_model_name": "HBoxModel",
            "_view_count": null,
            "_view_module": "@jupyter-widgets/controls",
            "_view_module_version": "1.5.0",
            "_view_name": "HBoxView",
            "box_style": "",
            "children": [
              "IPY_MODEL_cea34dcc0ce94f0db85fadbbbb09d16c",
              "IPY_MODEL_a3a0f341330a44faa36caebe1940c59b",
              "IPY_MODEL_af71769708e64ff88a8226cd37b08abb"
            ],
            "layout": "IPY_MODEL_18b2adb19c894a018677212bd722c8fe"
          }
        },
        "8460ec1514244d6c98607caae81dff9c": {
          "model_module": "@jupyter-widgets/base",
          "model_module_version": "1.2.0",
          "model_name": "LayoutModel",
          "state": {
            "_model_module": "@jupyter-widgets/base",
            "_model_module_version": "1.2.0",
            "_model_name": "LayoutModel",
            "_view_count": null,
            "_view_module": "@jupyter-widgets/base",
            "_view_module_version": "1.2.0",
            "_view_name": "LayoutView",
            "align_content": null,
            "align_items": null,
            "align_self": null,
            "border": null,
            "bottom": null,
            "display": null,
            "flex": null,
            "flex_flow": null,
            "grid_area": null,
            "grid_auto_columns": null,
            "grid_auto_flow": null,
            "grid_auto_rows": null,
            "grid_column": null,
            "grid_gap": null,
            "grid_row": null,
            "grid_template_areas": null,
            "grid_template_columns": null,
            "grid_template_rows": null,
            "height": null,
            "justify_content": null,
            "justify_items": null,
            "left": null,
            "margin": null,
            "max_height": null,
            "max_width": null,
            "min_height": null,
            "min_width": null,
            "object_fit": null,
            "object_position": null,
            "order": null,
            "overflow": null,
            "overflow_x": null,
            "overflow_y": null,
            "padding": null,
            "right": null,
            "top": null,
            "visibility": null,
            "width": null
          }
        },
        "8e30a112229742c0b10098f2962f0f4c": {
          "model_module": "@jupyter-widgets/controls",
          "model_module_version": "1.5.0",
          "model_name": "ProgressStyleModel",
          "state": {
            "_model_module": "@jupyter-widgets/controls",
            "_model_module_version": "1.5.0",
            "_model_name": "ProgressStyleModel",
            "_view_count": null,
            "_view_module": "@jupyter-widgets/base",
            "_view_module_version": "1.2.0",
            "_view_name": "StyleView",
            "bar_color": null,
            "description_width": ""
          }
        },
        "93e47d5adaa9422f9c39a4a8e807008b": {
          "model_module": "@jupyter-widgets/controls",
          "model_module_version": "1.5.0",
          "model_name": "ProgressStyleModel",
          "state": {
            "_model_module": "@jupyter-widgets/controls",
            "_model_module_version": "1.5.0",
            "_model_name": "ProgressStyleModel",
            "_view_count": null,
            "_view_module": "@jupyter-widgets/base",
            "_view_module_version": "1.2.0",
            "_view_name": "StyleView",
            "bar_color": null,
            "description_width": ""
          }
        },
        "9596608d7f9a4c6983425d1af2d51e0e": {
          "model_module": "@jupyter-widgets/base",
          "model_module_version": "1.2.0",
          "model_name": "LayoutModel",
          "state": {
            "_model_module": "@jupyter-widgets/base",
            "_model_module_version": "1.2.0",
            "_model_name": "LayoutModel",
            "_view_count": null,
            "_view_module": "@jupyter-widgets/base",
            "_view_module_version": "1.2.0",
            "_view_name": "LayoutView",
            "align_content": null,
            "align_items": null,
            "align_self": null,
            "border": null,
            "bottom": null,
            "display": null,
            "flex": null,
            "flex_flow": null,
            "grid_area": null,
            "grid_auto_columns": null,
            "grid_auto_flow": null,
            "grid_auto_rows": null,
            "grid_column": null,
            "grid_gap": null,
            "grid_row": null,
            "grid_template_areas": null,
            "grid_template_columns": null,
            "grid_template_rows": null,
            "height": null,
            "justify_content": null,
            "justify_items": null,
            "left": null,
            "margin": null,
            "max_height": null,
            "max_width": null,
            "min_height": null,
            "min_width": null,
            "object_fit": null,
            "object_position": null,
            "order": null,
            "overflow": null,
            "overflow_x": null,
            "overflow_y": null,
            "padding": null,
            "right": null,
            "top": null,
            "visibility": null,
            "width": null
          }
        },
        "996f21ee74174dcbb52bbf2b33293dd6": {
          "model_module": "@jupyter-widgets/controls",
          "model_module_version": "1.5.0",
          "model_name": "DescriptionStyleModel",
          "state": {
            "_model_module": "@jupyter-widgets/controls",
            "_model_module_version": "1.5.0",
            "_model_name": "DescriptionStyleModel",
            "_view_count": null,
            "_view_module": "@jupyter-widgets/base",
            "_view_module_version": "1.2.0",
            "_view_name": "StyleView",
            "description_width": ""
          }
        },
        "9f5da0b68cea46f8967c199930974d6c": {
          "model_module": "@jupyter-widgets/base",
          "model_module_version": "1.2.0",
          "model_name": "LayoutModel",
          "state": {
            "_model_module": "@jupyter-widgets/base",
            "_model_module_version": "1.2.0",
            "_model_name": "LayoutModel",
            "_view_count": null,
            "_view_module": "@jupyter-widgets/base",
            "_view_module_version": "1.2.0",
            "_view_name": "LayoutView",
            "align_content": null,
            "align_items": null,
            "align_self": null,
            "border": null,
            "bottom": null,
            "display": null,
            "flex": null,
            "flex_flow": null,
            "grid_area": null,
            "grid_auto_columns": null,
            "grid_auto_flow": null,
            "grid_auto_rows": null,
            "grid_column": null,
            "grid_gap": null,
            "grid_row": null,
            "grid_template_areas": null,
            "grid_template_columns": null,
            "grid_template_rows": null,
            "height": null,
            "justify_content": null,
            "justify_items": null,
            "left": null,
            "margin": null,
            "max_height": null,
            "max_width": null,
            "min_height": null,
            "min_width": null,
            "object_fit": null,
            "object_position": null,
            "order": null,
            "overflow": null,
            "overflow_x": null,
            "overflow_y": null,
            "padding": null,
            "right": null,
            "top": null,
            "visibility": null,
            "width": null
          }
        },
        "a3a0f341330a44faa36caebe1940c59b": {
          "model_module": "@jupyter-widgets/controls",
          "model_module_version": "1.5.0",
          "model_name": "FloatProgressModel",
          "state": {
            "_dom_classes": [],
            "_model_module": "@jupyter-widgets/controls",
            "_model_module_version": "1.5.0",
            "_model_name": "FloatProgressModel",
            "_view_count": null,
            "_view_module": "@jupyter-widgets/controls",
            "_view_module_version": "1.5.0",
            "_view_name": "ProgressView",
            "bar_style": "success",
            "description": "",
            "description_tooltip": null,
            "layout": "IPY_MODEL_31f8cb95125442b590bc2b1026a3e1c8",
            "max": 3344,
            "min": 0,
            "orientation": "horizontal",
            "style": "IPY_MODEL_34a53909a73142a7acb15375d369300e",
            "value": 3344
          }
        },
        "a6839c5be44046d0bb59f40587c3abb7": {
          "model_module": "@jupyter-widgets/controls",
          "model_module_version": "1.5.0",
          "model_name": "DescriptionStyleModel",
          "state": {
            "_model_module": "@jupyter-widgets/controls",
            "_model_module_version": "1.5.0",
            "_model_name": "DescriptionStyleModel",
            "_view_count": null,
            "_view_module": "@jupyter-widgets/base",
            "_view_module_version": "1.2.0",
            "_view_name": "StyleView",
            "description_width": ""
          }
        },
        "af71769708e64ff88a8226cd37b08abb": {
          "model_module": "@jupyter-widgets/controls",
          "model_module_version": "1.5.0",
          "model_name": "HTMLModel",
          "state": {
            "_dom_classes": [],
            "_model_module": "@jupyter-widgets/controls",
            "_model_module_version": "1.5.0",
            "_model_name": "HTMLModel",
            "_view_count": null,
            "_view_module": "@jupyter-widgets/controls",
            "_view_module_version": "1.5.0",
            "_view_name": "HTMLView",
            "description": "",
            "description_tooltip": null,
            "layout": "IPY_MODEL_b698a593691140c9a638619677729c45",
            "placeholder": "​",
            "style": "IPY_MODEL_414a7763a154492c89d58ca31976a5eb",
            "value": " 3.34k/3.34k [00:00&lt;00:00, 204kB/s]"
          }
        },
        "b698a593691140c9a638619677729c45": {
          "model_module": "@jupyter-widgets/base",
          "model_module_version": "1.2.0",
          "model_name": "LayoutModel",
          "state": {
            "_model_module": "@jupyter-widgets/base",
            "_model_module_version": "1.2.0",
            "_model_name": "LayoutModel",
            "_view_count": null,
            "_view_module": "@jupyter-widgets/base",
            "_view_module_version": "1.2.0",
            "_view_name": "LayoutView",
            "align_content": null,
            "align_items": null,
            "align_self": null,
            "border": null,
            "bottom": null,
            "display": null,
            "flex": null,
            "flex_flow": null,
            "grid_area": null,
            "grid_auto_columns": null,
            "grid_auto_flow": null,
            "grid_auto_rows": null,
            "grid_column": null,
            "grid_gap": null,
            "grid_row": null,
            "grid_template_areas": null,
            "grid_template_columns": null,
            "grid_template_rows": null,
            "height": null,
            "justify_content": null,
            "justify_items": null,
            "left": null,
            "margin": null,
            "max_height": null,
            "max_width": null,
            "min_height": null,
            "min_width": null,
            "object_fit": null,
            "object_position": null,
            "order": null,
            "overflow": null,
            "overflow_x": null,
            "overflow_y": null,
            "padding": null,
            "right": null,
            "top": null,
            "visibility": null,
            "width": null
          }
        },
        "bd6d0789703a479e81c289dd44d9e848": {
          "model_module": "@jupyter-widgets/base",
          "model_module_version": "1.2.0",
          "model_name": "LayoutModel",
          "state": {
            "_model_module": "@jupyter-widgets/base",
            "_model_module_version": "1.2.0",
            "_model_name": "LayoutModel",
            "_view_count": null,
            "_view_module": "@jupyter-widgets/base",
            "_view_module_version": "1.2.0",
            "_view_name": "LayoutView",
            "align_content": null,
            "align_items": null,
            "align_self": null,
            "border": null,
            "bottom": null,
            "display": null,
            "flex": null,
            "flex_flow": null,
            "grid_area": null,
            "grid_auto_columns": null,
            "grid_auto_flow": null,
            "grid_auto_rows": null,
            "grid_column": null,
            "grid_gap": null,
            "grid_row": null,
            "grid_template_areas": null,
            "grid_template_columns": null,
            "grid_template_rows": null,
            "height": null,
            "justify_content": null,
            "justify_items": null,
            "left": null,
            "margin": null,
            "max_height": null,
            "max_width": null,
            "min_height": null,
            "min_width": null,
            "object_fit": null,
            "object_position": null,
            "order": null,
            "overflow": null,
            "overflow_x": null,
            "overflow_y": null,
            "padding": null,
            "right": null,
            "top": null,
            "visibility": null,
            "width": null
          }
        },
        "be902c31fdf74a0a8f7f10038505ace8": {
          "model_module": "@jupyter-widgets/controls",
          "model_module_version": "1.5.0",
          "model_name": "HTMLModel",
          "state": {
            "_dom_classes": [],
            "_model_module": "@jupyter-widgets/controls",
            "_model_module_version": "1.5.0",
            "_model_name": "HTMLModel",
            "_view_count": null,
            "_view_module": "@jupyter-widgets/controls",
            "_view_module_version": "1.5.0",
            "_view_name": "HTMLView",
            "description": "",
            "description_tooltip": null,
            "layout": "IPY_MODEL_e5962423c0014524a93cb55fb03459d3",
            "placeholder": "​",
            "style": "IPY_MODEL_a6839c5be44046d0bb59f40587c3abb7",
            "value": "Loading checkpoint shards: 100%"
          }
        },
        "c0f9482c8661440895240148c50fe768": {
          "model_module": "@jupyter-widgets/controls",
          "model_module_version": "1.5.0",
          "model_name": "ProgressStyleModel",
          "state": {
            "_model_module": "@jupyter-widgets/controls",
            "_model_module_version": "1.5.0",
            "_model_name": "ProgressStyleModel",
            "_view_count": null,
            "_view_module": "@jupyter-widgets/base",
            "_view_module_version": "1.2.0",
            "_view_name": "StyleView",
            "bar_color": null,
            "description_width": ""
          }
        },
        "c41ac92e99544c2ab764bb1922b45a15": {
          "model_module": "@jupyter-widgets/controls",
          "model_module_version": "1.5.0",
          "model_name": "HBoxModel",
          "state": {
            "_dom_classes": [],
            "_model_module": "@jupyter-widgets/controls",
            "_model_module_version": "1.5.0",
            "_model_name": "HBoxModel",
            "_view_count": null,
            "_view_module": "@jupyter-widgets/controls",
            "_view_module_version": "1.5.0",
            "_view_name": "HBoxView",
            "box_style": "",
            "children": [
              "IPY_MODEL_be902c31fdf74a0a8f7f10038505ace8",
              "IPY_MODEL_68d0fbabaa144aafa84d73303e0d8abe",
              "IPY_MODEL_53c77c200fa74525b6e52390dec9bdc0"
            ],
            "layout": "IPY_MODEL_9f5da0b68cea46f8967c199930974d6c"
          }
        },
        "c65c23fede434ff9bc1c219734be0a83": {
          "model_module": "@jupyter-widgets/controls",
          "model_module_version": "1.5.0",
          "model_name": "DescriptionStyleModel",
          "state": {
            "_model_module": "@jupyter-widgets/controls",
            "_model_module_version": "1.5.0",
            "_model_name": "DescriptionStyleModel",
            "_view_count": null,
            "_view_module": "@jupyter-widgets/base",
            "_view_module_version": "1.2.0",
            "_view_name": "StyleView",
            "description_width": ""
          }
        },
        "cbb4c8a5ee4a4ce6930e3ad292b61e7b": {
          "model_module": "@jupyter-widgets/base",
          "model_module_version": "1.2.0",
          "model_name": "LayoutModel",
          "state": {
            "_model_module": "@jupyter-widgets/base",
            "_model_module_version": "1.2.0",
            "_model_name": "LayoutModel",
            "_view_count": null,
            "_view_module": "@jupyter-widgets/base",
            "_view_module_version": "1.2.0",
            "_view_name": "LayoutView",
            "align_content": null,
            "align_items": null,
            "align_self": null,
            "border": null,
            "bottom": null,
            "display": null,
            "flex": null,
            "flex_flow": null,
            "grid_area": null,
            "grid_auto_columns": null,
            "grid_auto_flow": null,
            "grid_auto_rows": null,
            "grid_column": null,
            "grid_gap": null,
            "grid_row": null,
            "grid_template_areas": null,
            "grid_template_columns": null,
            "grid_template_rows": null,
            "height": null,
            "justify_content": null,
            "justify_items": null,
            "left": null,
            "margin": null,
            "max_height": null,
            "max_width": null,
            "min_height": null,
            "min_width": null,
            "object_fit": null,
            "object_position": null,
            "order": null,
            "overflow": null,
            "overflow_x": null,
            "overflow_y": null,
            "padding": null,
            "right": null,
            "top": null,
            "visibility": null,
            "width": null
          }
        },
        "cea34dcc0ce94f0db85fadbbbb09d16c": {
          "model_module": "@jupyter-widgets/controls",
          "model_module_version": "1.5.0",
          "model_name": "HTMLModel",
          "state": {
            "_dom_classes": [],
            "_model_module": "@jupyter-widgets/controls",
            "_model_module_version": "1.5.0",
            "_model_name": "HTMLModel",
            "_view_count": null,
            "_view_module": "@jupyter-widgets/controls",
            "_view_module_version": "1.5.0",
            "_view_name": "HTMLView",
            "description": "",
            "description_tooltip": null,
            "layout": "IPY_MODEL_5cde6ece294741f4b9c8996a83b8dc7a",
            "placeholder": "​",
            "style": "IPY_MODEL_c65c23fede434ff9bc1c219734be0a83",
            "value": "Downloading extra modules: 100%"
          }
        },
        "dbf7c6814dac478ba7994ab234ac9fba": {
          "model_module": "@jupyter-widgets/base",
          "model_module_version": "1.2.0",
          "model_name": "LayoutModel",
          "state": {
            "_model_module": "@jupyter-widgets/base",
            "_model_module_version": "1.2.0",
            "_model_name": "LayoutModel",
            "_view_count": null,
            "_view_module": "@jupyter-widgets/base",
            "_view_module_version": "1.2.0",
            "_view_name": "LayoutView",
            "align_content": null,
            "align_items": null,
            "align_self": null,
            "border": null,
            "bottom": null,
            "display": null,
            "flex": null,
            "flex_flow": null,
            "grid_area": null,
            "grid_auto_columns": null,
            "grid_auto_flow": null,
            "grid_auto_rows": null,
            "grid_column": null,
            "grid_gap": null,
            "grid_row": null,
            "grid_template_areas": null,
            "grid_template_columns": null,
            "grid_template_rows": null,
            "height": null,
            "justify_content": null,
            "justify_items": null,
            "left": null,
            "margin": null,
            "max_height": null,
            "max_width": null,
            "min_height": null,
            "min_width": null,
            "object_fit": null,
            "object_position": null,
            "order": null,
            "overflow": null,
            "overflow_x": null,
            "overflow_y": null,
            "padding": null,
            "right": null,
            "top": null,
            "visibility": null,
            "width": null
          }
        },
        "e5962423c0014524a93cb55fb03459d3": {
          "model_module": "@jupyter-widgets/base",
          "model_module_version": "1.2.0",
          "model_name": "LayoutModel",
          "state": {
            "_model_module": "@jupyter-widgets/base",
            "_model_module_version": "1.2.0",
            "_model_name": "LayoutModel",
            "_view_count": null,
            "_view_module": "@jupyter-widgets/base",
            "_view_module_version": "1.2.0",
            "_view_name": "LayoutView",
            "align_content": null,
            "align_items": null,
            "align_self": null,
            "border": null,
            "bottom": null,
            "display": null,
            "flex": null,
            "flex_flow": null,
            "grid_area": null,
            "grid_auto_columns": null,
            "grid_auto_flow": null,
            "grid_auto_rows": null,
            "grid_column": null,
            "grid_gap": null,
            "grid_row": null,
            "grid_template_areas": null,
            "grid_template_columns": null,
            "grid_template_rows": null,
            "height": null,
            "justify_content": null,
            "justify_items": null,
            "left": null,
            "margin": null,
            "max_height": null,
            "max_width": null,
            "min_height": null,
            "min_width": null,
            "object_fit": null,
            "object_position": null,
            "order": null,
            "overflow": null,
            "overflow_x": null,
            "overflow_y": null,
            "padding": null,
            "right": null,
            "top": null,
            "visibility": null,
            "width": null
          }
        },
        "e9967f878af94215bf7595e5964635bc": {
          "model_module": "@jupyter-widgets/controls",
          "model_module_version": "1.5.0",
          "model_name": "HTMLModel",
          "state": {
            "_dom_classes": [],
            "_model_module": "@jupyter-widgets/controls",
            "_model_module_version": "1.5.0",
            "_model_name": "HTMLModel",
            "_view_count": null,
            "_view_module": "@jupyter-widgets/controls",
            "_view_module_version": "1.5.0",
            "_view_name": "HTMLView",
            "description": "",
            "description_tooltip": null,
            "layout": "IPY_MODEL_9596608d7f9a4c6983425d1af2d51e0e",
            "placeholder": "​",
            "style": "IPY_MODEL_35dd9902e62a4572a86c08f363f9e361",
            "value": "Downloading builder script: 100%"
          }
        },
        "ea0e9a6ab474406eb5c5c1f9fff0fd0a": {
          "model_module": "@jupyter-widgets/controls",
          "model_module_version": "1.5.0",
          "model_name": "HTMLModel",
          "state": {
            "_dom_classes": [],
            "_model_module": "@jupyter-widgets/controls",
            "_model_module_version": "1.5.0",
            "_model_name": "HTMLModel",
            "_view_count": null,
            "_view_module": "@jupyter-widgets/controls",
            "_view_module_version": "1.5.0",
            "_view_name": "HTMLView",
            "description": "",
            "description_tooltip": null,
            "layout": "IPY_MODEL_cbb4c8a5ee4a4ce6930e3ad292b61e7b",
            "placeholder": "​",
            "style": "IPY_MODEL_3e2000e3029e46dda394c749582130f5",
            "value": "Downloading builder script: 100%"
          }
        },
        "f21e990fa1354848adac62f0b2e93f1e": {
          "model_module": "@jupyter-widgets/base",
          "model_module_version": "1.2.0",
          "model_name": "LayoutModel",
          "state": {
            "_model_module": "@jupyter-widgets/base",
            "_model_module_version": "1.2.0",
            "_model_name": "LayoutModel",
            "_view_count": null,
            "_view_module": "@jupyter-widgets/base",
            "_view_module_version": "1.2.0",
            "_view_name": "LayoutView",
            "align_content": null,
            "align_items": null,
            "align_self": null,
            "border": null,
            "bottom": null,
            "display": null,
            "flex": null,
            "flex_flow": null,
            "grid_area": null,
            "grid_auto_columns": null,
            "grid_auto_flow": null,
            "grid_auto_rows": null,
            "grid_column": null,
            "grid_gap": null,
            "grid_row": null,
            "grid_template_areas": null,
            "grid_template_columns": null,
            "grid_template_rows": null,
            "height": null,
            "justify_content": null,
            "justify_items": null,
            "left": null,
            "margin": null,
            "max_height": null,
            "max_width": null,
            "min_height": null,
            "min_width": null,
            "object_fit": null,
            "object_position": null,
            "order": null,
            "overflow": null,
            "overflow_x": null,
            "overflow_y": null,
            "padding": null,
            "right": null,
            "top": null,
            "visibility": null,
            "width": null
          }
        },
        "f3a470dff09d4cfbadac3d52a5128a9d": {
          "model_module": "@jupyter-widgets/controls",
          "model_module_version": "1.5.0",
          "model_name": "HBoxModel",
          "state": {
            "_dom_classes": [],
            "_model_module": "@jupyter-widgets/controls",
            "_model_module_version": "1.5.0",
            "_model_name": "HBoxModel",
            "_view_count": null,
            "_view_module": "@jupyter-widgets/controls",
            "_view_module_version": "1.5.0",
            "_view_name": "HBoxView",
            "box_style": "",
            "children": [
              "IPY_MODEL_ea0e9a6ab474406eb5c5c1f9fff0fd0a",
              "IPY_MODEL_f7f35f1896754d1198e1d144ffd20571",
              "IPY_MODEL_6b24ffe20abc4127b2c4437e9b7526f7"
            ],
            "layout": "IPY_MODEL_5cb5a80947904d3f834fd4753469dcbc"
          }
        },
        "f5fc1ccf79624491956ab8b165f842db": {
          "model_module": "@jupyter-widgets/controls",
          "model_module_version": "1.5.0",
          "model_name": "HBoxModel",
          "state": {
            "_dom_classes": [],
            "_model_module": "@jupyter-widgets/controls",
            "_model_module_version": "1.5.0",
            "_model_name": "HBoxModel",
            "_view_count": null,
            "_view_module": "@jupyter-widgets/controls",
            "_view_module_version": "1.5.0",
            "_view_name": "HBoxView",
            "box_style": "",
            "children": [
              "IPY_MODEL_fc7ffedab8ec4432bf054e5cfd80606d",
              "IPY_MODEL_fa31705d750b4cf1a80f56ff74079c1f",
              "IPY_MODEL_131d645210bf438c9fcefbab0cd688fa"
            ],
            "layout": "IPY_MODEL_8460ec1514244d6c98607caae81dff9c"
          }
        },
        "f62c98a82f2f49ea9bad01c3d9406696": {
          "model_module": "@jupyter-widgets/base",
          "model_module_version": "1.2.0",
          "model_name": "LayoutModel",
          "state": {
            "_model_module": "@jupyter-widgets/base",
            "_model_module_version": "1.2.0",
            "_model_name": "LayoutModel",
            "_view_count": null,
            "_view_module": "@jupyter-widgets/base",
            "_view_module_version": "1.2.0",
            "_view_name": "LayoutView",
            "align_content": null,
            "align_items": null,
            "align_self": null,
            "border": null,
            "bottom": null,
            "display": null,
            "flex": null,
            "flex_flow": null,
            "grid_area": null,
            "grid_auto_columns": null,
            "grid_auto_flow": null,
            "grid_auto_rows": null,
            "grid_column": null,
            "grid_gap": null,
            "grid_row": null,
            "grid_template_areas": null,
            "grid_template_columns": null,
            "grid_template_rows": null,
            "height": null,
            "justify_content": null,
            "justify_items": null,
            "left": null,
            "margin": null,
            "max_height": null,
            "max_width": null,
            "min_height": null,
            "min_width": null,
            "object_fit": null,
            "object_position": null,
            "order": null,
            "overflow": null,
            "overflow_x": null,
            "overflow_y": null,
            "padding": null,
            "right": null,
            "top": null,
            "visibility": null,
            "width": null
          }
        },
        "f7f35f1896754d1198e1d144ffd20571": {
          "model_module": "@jupyter-widgets/controls",
          "model_module_version": "1.5.0",
          "model_name": "FloatProgressModel",
          "state": {
            "_dom_classes": [],
            "_model_module": "@jupyter-widgets/controls",
            "_model_module_version": "1.5.0",
            "_model_name": "FloatProgressModel",
            "_view_count": null,
            "_view_module": "@jupyter-widgets/controls",
            "_view_module_version": "1.5.0",
            "_view_name": "ProgressView",
            "bar_style": "success",
            "description": "",
            "description_tooltip": null,
            "layout": "IPY_MODEL_4400bb483bf74413b83db4edc843b021",
            "max": 5937,
            "min": 0,
            "orientation": "horizontal",
            "style": "IPY_MODEL_67006f00f0bd4e80b8102d209513f7e1",
            "value": 5937
          }
        },
        "fa31705d750b4cf1a80f56ff74079c1f": {
          "model_module": "@jupyter-widgets/controls",
          "model_module_version": "1.5.0",
          "model_name": "FloatProgressModel",
          "state": {
            "_dom_classes": [],
            "_model_module": "@jupyter-widgets/controls",
            "_model_module_version": "1.5.0",
            "_model_name": "FloatProgressModel",
            "_view_count": null,
            "_view_module": "@jupyter-widgets/controls",
            "_view_module_version": "1.5.0",
            "_view_name": "ProgressView",
            "bar_style": "success",
            "description": "",
            "description_tooltip": null,
            "layout": "IPY_MODEL_dbf7c6814dac478ba7994ab234ac9fba",
            "max": 1554,
            "min": 0,
            "orientation": "horizontal",
            "style": "IPY_MODEL_8e30a112229742c0b10098f2962f0f4c",
            "value": 1554
          }
        },
        "fc7ffedab8ec4432bf054e5cfd80606d": {
          "model_module": "@jupyter-widgets/controls",
          "model_module_version": "1.5.0",
          "model_name": "HTMLModel",
          "state": {
            "_dom_classes": [],
            "_model_module": "@jupyter-widgets/controls",
            "_model_module_version": "1.5.0",
            "_model_name": "HTMLModel",
            "_view_count": null,
            "_view_module": "@jupyter-widgets/controls",
            "_view_module_version": "1.5.0",
            "_view_name": "HTMLView",
            "description": "",
            "description_tooltip": null,
            "layout": "IPY_MODEL_f21e990fa1354848adac62f0b2e93f1e",
            "placeholder": "​",
            "style": "IPY_MODEL_996f21ee74174dcbb52bbf2b33293dd6",
            "value": "Downloading extra modules: "
          }
        },
        "fcaf7af3033f40d8ae090acd18f32413": {
          "model_module": "@jupyter-widgets/controls",
          "model_module_version": "1.5.0",
          "model_name": "HTMLModel",
          "state": {
            "_dom_classes": [],
            "_model_module": "@jupyter-widgets/controls",
            "_model_module_version": "1.5.0",
            "_model_name": "HTMLModel",
            "_view_count": null,
            "_view_module": "@jupyter-widgets/controls",
            "_view_module_version": "1.5.0",
            "_view_name": "HTMLView",
            "description": "",
            "description_tooltip": null,
            "layout": "IPY_MODEL_bd6d0789703a479e81c289dd44d9e848",
            "placeholder": "​",
            "style": "IPY_MODEL_272e0d72f35a4a07a3e1d9fa8c257a2d",
            "value": " 6.27k/6.27k [00:00&lt;00:00, 259kB/s]"
          }
        }
      }
    }
  },
  "nbformat": 4,
  "nbformat_minor": 0
}